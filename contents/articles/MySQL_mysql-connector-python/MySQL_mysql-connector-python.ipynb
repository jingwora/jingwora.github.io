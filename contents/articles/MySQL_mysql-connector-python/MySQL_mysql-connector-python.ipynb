{
 "cells": [
  {
   "cell_type": "markdown",
   "metadata": {},
   "source": [
    "# mysql-connector-python"
   ]
  },
  {
   "cell_type": "markdown",
   "metadata": {},
   "source": [
    "Sample code of mysql-connector-python to connect wiht mysql database.\n",
    "\n",
    "https://dev.mysql.com/doc/\n",
    "\n",
    "https://www.w3schools.com/python/python_mysql_getstarted.asp"
   ]
  },
  {
   "cell_type": "code",
   "execution_count": 1,
   "metadata": {},
   "outputs": [],
   "source": [
    "# conda env py36db"
   ]
  },
  {
   "cell_type": "code",
   "execution_count": 5,
   "metadata": {},
   "outputs": [
    {
     "name": "stdout",
     "output_type": "stream",
     "text": [
      "Collecting mysql-connector-python\n",
      "  Downloading mysql_connector_python-8.0.21-cp36-cp36m-win_amd64.whl (811 kB)\n",
      "Collecting protobuf>=3.0.0\n",
      "  Downloading protobuf-3.13.0-cp36-cp36m-win_amd64.whl (1.1 MB)\n",
      "Requirement already satisfied: setuptools in c:\\users\\jingw\\anaconda3\\envs\\py36db\\lib\\site-packages (from protobuf>=3.0.0->mysql-connector-python) (49.6.0.post20200925)\n",
      "Requirement already satisfied: six>=1.9 in c:\\users\\jingw\\anaconda3\\envs\\py36db\\lib\\site-packages (from protobuf>=3.0.0->mysql-connector-python) (1.15.0)\n",
      "Installing collected packages: protobuf, mysql-connector-python\n",
      "Successfully installed mysql-connector-python-8.0.21 protobuf-3.13.0\n"
     ]
    }
   ],
   "source": [
    "# !pip install mysql-connector-python"
   ]
  },
  {
   "cell_type": "code",
   "execution_count": 64,
   "metadata": {},
   "outputs": [
    {
     "name": "stdout",
     "output_type": "stream",
     "text": [
      "Collecting pandas\n",
      "  Downloading pandas-1.1.2-cp36-cp36m-win_amd64.whl (9.4 MB)\n",
      "Requirement already satisfied: python-dateutil>=2.7.3 in c:\\users\\jingw\\anaconda3\\envs\\py36db\\lib\\site-packages (from pandas) (2.8.1)\n",
      "Collecting pytz>=2017.2\n",
      "  Using cached pytz-2020.1-py2.py3-none-any.whl (510 kB)\n",
      "Collecting numpy>=1.15.4\n",
      "  Downloading numpy-1.19.2-cp36-cp36m-win_amd64.whl (12.9 MB)\n",
      "Requirement already satisfied: six>=1.5 in c:\\users\\jingw\\anaconda3\\envs\\py36db\\lib\\site-packages (from python-dateutil>=2.7.3->pandas) (1.15.0)\n",
      "Installing collected packages: pytz, numpy, pandas\n",
      "Successfully installed numpy-1.19.2 pandas-1.1.2 pytz-2020.1\n"
     ]
    }
   ],
   "source": [
    "# !pip install pandas"
   ]
  },
  {
   "cell_type": "code",
   "execution_count": 6,
   "metadata": {},
   "outputs": [],
   "source": [
    "import mysql.connector"
   ]
  },
  {
   "cell_type": "code",
   "execution_count": 85,
   "metadata": {},
   "outputs": [
    {
     "name": "stdout",
     "output_type": "stream",
     "text": [
      "<mysql.connector.connection.MySQLConnection object at 0x000001DC9C23A8D0>\n"
     ]
    }
   ],
   "source": [
    "#  Connect to DB\n",
    "\n",
    "import mysql.connector\n",
    "\n",
    "mysql_connection = mysql.connector.connect(\n",
    "    host=\"localhost\",\n",
    "    user=\"learnlink\",\n",
    "    password=\"learnlinkPW01\",\n",
    "    database=\"mydatabase\"\n",
    ")\n",
    "\n",
    "print(mysql_connection)"
   ]
  },
  {
   "cell_type": "markdown",
   "metadata": {},
   "source": [
    "### Create Database"
   ]
  },
  {
   "cell_type": "code",
   "execution_count": 78,
   "metadata": {},
   "outputs": [],
   "source": [
    "cursor = mysql_connection.cursor()\n",
    "cursor.execute(\"CREATE DATABASE IF NOT EXISTS mydatabase\")"
   ]
  },
  {
   "cell_type": "markdown",
   "metadata": {},
   "source": [
    "### Show Database"
   ]
  },
  {
   "cell_type": "code",
   "execution_count": 21,
   "metadata": {},
   "outputs": [
    {
     "name": "stdout",
     "output_type": "stream",
     "text": [
      "('information_schema',)\n",
      "('learnlink',)\n",
      "('mydatabase',)\n",
      "('mysql',)\n",
      "('performance_schema',)\n",
      "('sakila',)\n",
      "('sql_hr',)\n",
      "('sql_inventory',)\n",
      "('sql_invoicing',)\n",
      "('sql_store',)\n",
      "('sys',)\n",
      "('world',)\n"
     ]
    }
   ],
   "source": [
    "cursor = mysql_connection.cursor()\n",
    "cursor.execute(\"SHOW DATABASES\")\n",
    "for x in cursor:\n",
    "  print(x)"
   ]
  },
  {
   "cell_type": "markdown",
   "metadata": {},
   "source": [
    "### Table"
   ]
  },
  {
   "cell_type": "code",
   "execution_count": 79,
   "metadata": {},
   "outputs": [],
   "source": [
    "#  Create Table\n",
    "\n",
    "cursor = mysql_connection.cursor()\n",
    "\n",
    "cursor.execute(\"CREATE TABLE IF NOT EXISTS customers ( \\\n",
    "               id INT AUTO_INCREMENT PRIMARY KEY, \\\n",
    "               name VARCHAR(255), \\\n",
    "               address VARCHAR(255) \\\n",
    "              )\")"
   ]
  },
  {
   "cell_type": "code",
   "execution_count": 25,
   "metadata": {},
   "outputs": [
    {
     "name": "stdout",
     "output_type": "stream",
     "text": [
      "('customers',)\n"
     ]
    }
   ],
   "source": [
    "#  Show Table\n",
    "\n",
    "cursor = mysql_connection.cursor()\n",
    "cursor.execute(\"SHOW TABLES\")\n",
    "\n",
    "for x in cursor:\n",
    "  print(x)"
   ]
  },
  {
   "cell_type": "code",
   "execution_count": 36,
   "metadata": {},
   "outputs": [],
   "source": [
    "#  Drop Table\n",
    "\n",
    "cursor = mysql_connection.cursor()\n",
    "cursor.execute(\"DROP TABLE IF EXISTS customers\")"
   ]
  },
  {
   "cell_type": "code",
   "execution_count": 38,
   "metadata": {},
   "outputs": [],
   "source": [
    "#  Alter Table\n",
    "\n",
    "cursor = mysql_connection.cursor()\n",
    "cursor.execute(\"ALTER TABLE customers ADD COLUMN id INT AUTO_INCREMENT PRIMARY KEY\")"
   ]
  },
  {
   "cell_type": "markdown",
   "metadata": {},
   "source": [
    "###  Value"
   ]
  },
  {
   "cell_type": "code",
   "execution_count": 41,
   "metadata": {},
   "outputs": [
    {
     "name": "stdout",
     "output_type": "stream",
     "text": [
      "1 record inserted.\n"
     ]
    }
   ],
   "source": [
    "#  Insert Row\n",
    "\n",
    "cursor = mysql_connection.cursor()\n",
    "sql = \"INSERT INTO customers (name, address) VALUES (%s, %s)\"\n",
    "val = (\"John\", \"Highway 21\")\n",
    "cursor.execute(sql, val)\n",
    "\n",
    "mysql_connection.commit()\n",
    "\n",
    "print(cursor.rowcount, \"record inserted.\")"
   ]
  },
  {
   "cell_type": "code",
   "execution_count": 42,
   "metadata": {},
   "outputs": [
    {
     "name": "stdout",
     "output_type": "stream",
     "text": [
      "13 was inserted.\n"
     ]
    }
   ],
   "source": [
    "#  Insert Multiple Rows\n",
    "\n",
    "cursor = mysql_connection.cursor()\n",
    "\n",
    "sql = \"INSERT INTO customers (name, address) VALUES (%s, %s)\"\n",
    "val = [\n",
    "  ('Peter', 'Lowstreet 4'),\n",
    "  ('Amy', 'Apple st 652'),\n",
    "  ('Hannah', 'Mountain 21'),\n",
    "  ('Michael', 'Valley 345'),\n",
    "  ('Sandy', 'Ocean blvd 2'),\n",
    "  ('Betty', 'Green Grass 1'),\n",
    "  ('Richard', 'Sky st 331'),\n",
    "  ('Susan', 'One way 98'),\n",
    "  ('Vicky', 'Yellow Garden 2'),\n",
    "  ('Ben', 'Park Lane 38'),\n",
    "  ('William', 'Central st 954'),\n",
    "  ('Chuck', 'Main Road 989'),\n",
    "  ('Viola', 'Sideway 1633')\n",
    "]\n",
    "\n",
    "cursor.executemany(sql, val)\n",
    "\n",
    "mydb.commit()\n",
    "\n",
    "print(cursor.rowcount, \"was inserted.\")"
   ]
  },
  {
   "cell_type": "markdown",
   "metadata": {},
   "source": [
    "### Select From a Table"
   ]
  },
  {
   "cell_type": "code",
   "execution_count": 46,
   "metadata": {},
   "outputs": [
    {
     "name": "stdout",
     "output_type": "stream",
     "text": [
      "(1, 'John', 'Highway 21')\n",
      "(2, 'John', 'Highway 21')\n",
      "(3, 'John', 'Highway 21')\n",
      "(4, 'Peter', 'Lowstreet 4')\n",
      "(5, 'Amy', 'Apple st 652')\n",
      "(6, 'Hannah', 'Mountain 21')\n",
      "(7, 'Michael', 'Valley 345')\n",
      "(8, 'Sandy', 'Ocean blvd 2')\n",
      "(9, 'Betty', 'Green Grass 1')\n",
      "(10, 'Richard', 'Sky st 331')\n",
      "(11, 'Susan', 'One way 98')\n",
      "(12, 'Vicky', 'Yellow Garden 2')\n",
      "(13, 'Ben', 'Park Lane 38')\n",
      "(14, 'William', 'Central st 954')\n",
      "(15, 'Chuck', 'Main Road 989')\n",
      "(16, 'Viola', 'Sideway 1633')\n"
     ]
    }
   ],
   "source": [
    "#  Select All\n",
    "\n",
    "cursor = mysql_connection.cursor()\n",
    "\n",
    "cursor.execute(\"SELECT * FROM customers\")\n",
    "\n",
    "myresult = cursor.fetchall()\n",
    "\n",
    "for x in myresult:\n",
    "  print(x)"
   ]
  },
  {
   "cell_type": "code",
   "execution_count": 47,
   "metadata": {},
   "outputs": [
    {
     "name": "stdout",
     "output_type": "stream",
     "text": [
      "('John', 'Highway 21')\n",
      "('John', 'Highway 21')\n",
      "('John', 'Highway 21')\n",
      "('Peter', 'Lowstreet 4')\n",
      "('Amy', 'Apple st 652')\n",
      "('Hannah', 'Mountain 21')\n",
      "('Michael', 'Valley 345')\n",
      "('Sandy', 'Ocean blvd 2')\n",
      "('Betty', 'Green Grass 1')\n",
      "('Richard', 'Sky st 331')\n",
      "('Susan', 'One way 98')\n",
      "('Vicky', 'Yellow Garden 2')\n",
      "('Ben', 'Park Lane 38')\n",
      "('William', 'Central st 954')\n",
      "('Chuck', 'Main Road 989')\n",
      "('Viola', 'Sideway 1633')\n"
     ]
    }
   ],
   "source": [
    "#  Selecting Columns\n",
    "\n",
    "cursor = mysql_connection.cursor()\n",
    "\n",
    "cursor.execute(\"SELECT name, address FROM customers\")\n",
    "\n",
    "myresult = cursor.fetchall()\n",
    "\n",
    "for x in myresult:\n",
    "  print(x)"
   ]
  },
  {
   "cell_type": "code",
   "execution_count": 48,
   "metadata": {},
   "outputs": [
    {
     "name": "stdout",
     "output_type": "stream",
     "text": [
      "(1, 'John', 'Highway 21')\n"
     ]
    }
   ],
   "source": [
    "#  Fetchone\n",
    "\n",
    "cursor = mysql_connection.cursor()\n",
    "\n",
    "cursor.execute(\"SELECT * FROM customers\")\n",
    "\n",
    "myresult = cursor.fetchone()\n",
    "\n",
    "print(myresult)"
   ]
  },
  {
   "cell_type": "code",
   "execution_count": 52,
   "metadata": {},
   "outputs": [
    {
     "name": "stdout",
     "output_type": "stream",
     "text": [
      "(13, 'Ben', 'Park Lane 38')\n"
     ]
    }
   ],
   "source": [
    "#  Where\n",
    "\n",
    "cursor = mysql_connection.cursor()\n",
    "\n",
    "sql = \"SELECT * FROM customers WHERE name ='Ben'\"\n",
    "\n",
    "cursor.execute(sql)\n",
    "\n",
    "myresult = cursor.fetchall()\n",
    "\n",
    "for x in myresult:\n",
    "  print(x)"
   ]
  },
  {
   "cell_type": "code",
   "execution_count": 53,
   "metadata": {},
   "outputs": [
    {
     "name": "stdout",
     "output_type": "stream",
     "text": [
      "(1, 'John', 'Highway 21')\n",
      "(2, 'John', 'Highway 21')\n",
      "(3, 'John', 'Highway 21')\n",
      "(11, 'Susan', 'One way 98')\n",
      "(16, 'Viola', 'Sideway 1633')\n"
     ]
    }
   ],
   "source": [
    "#  Wildcard\n",
    "\n",
    "cursor = mysql_connection.cursor()\n",
    "\n",
    "sql = \"SELECT * FROM customers WHERE address LIKE '%way%'\"\n",
    "\n",
    "cursor.execute(sql)\n",
    "\n",
    "myresult = cursor.fetchall()\n",
    "\n",
    "for x in myresult:\n",
    "  print(x)"
   ]
  },
  {
   "cell_type": "code",
   "execution_count": 54,
   "metadata": {},
   "outputs": [
    {
     "name": "stdout",
     "output_type": "stream",
     "text": [
      "(12, 'Vicky', 'Yellow Garden 2')\n"
     ]
    }
   ],
   "source": [
    "#  Where\n",
    "\n",
    "cursor = mysql_connection.cursor()\n",
    "\n",
    "sql = \"SELECT * FROM customers WHERE address = %s\"\n",
    "adr = (\"Yellow Garden 2\", )\n",
    "\n",
    "cursor.execute(sql, adr)\n",
    "\n",
    "myresult = cursor.fetchall()\n",
    "\n",
    "for x in myresult:\n",
    "  print(x)"
   ]
  },
  {
   "cell_type": "markdown",
   "metadata": {},
   "source": [
    "###  Limit"
   ]
  },
  {
   "cell_type": "code",
   "execution_count": 60,
   "metadata": {},
   "outputs": [
    {
     "name": "stdout",
     "output_type": "stream",
     "text": [
      "(4, 'Peter', 'Lowstreet 4')\n",
      "(5, 'Amy', 'Apple st 652')\n",
      "(6, 'Hannah', 'Mountain 21')\n",
      "(7, 'Michael', 'Valley 345')\n",
      "(8, 'Sandy', 'Ocean blvd 2')\n"
     ]
    }
   ],
   "source": [
    "cursor = mysql_connection.cursor()\n",
    "\n",
    "cursor.execute(\"SELECT * FROM customers LIMIT 5\")\n",
    "\n",
    "myresult = cursor.fetchall()\n",
    "\n",
    "for x in myresult:\n",
    "  print(x)"
   ]
  },
  {
   "cell_type": "code",
   "execution_count": 61,
   "metadata": {},
   "outputs": [
    {
     "name": "stdout",
     "output_type": "stream",
     "text": [
      "(6, 'Hannah', 'Mountain 21')\n",
      "(7, 'Michael', 'Valley 345')\n",
      "(8, 'Sandy', 'Ocean blvd 2')\n",
      "(9, 'Betty', 'Green Grass 1')\n",
      "(10, 'Richard', 'Sky st 331')\n"
     ]
    }
   ],
   "source": [
    "cursor = mysql_connection.cursor()\n",
    "\n",
    "cursor.execute(\"SELECT * FROM customers LIMIT 5 OFFSET 2\")\n",
    "\n",
    "myresult = cursor.fetchall()\n",
    "\n",
    "for x in myresult:\n",
    "  print(x)"
   ]
  },
  {
   "cell_type": "markdown",
   "metadata": {},
   "source": [
    "###  Order by"
   ]
  },
  {
   "cell_type": "code",
   "execution_count": 55,
   "metadata": {},
   "outputs": [
    {
     "name": "stdout",
     "output_type": "stream",
     "text": [
      "(14, 'William', 'Central st 954')\n",
      "(16, 'Viola', 'Sideway 1633')\n",
      "(12, 'Vicky', 'Yellow Garden 2')\n",
      "(11, 'Susan', 'One way 98')\n",
      "(8, 'Sandy', 'Ocean blvd 2')\n",
      "(10, 'Richard', 'Sky st 331')\n",
      "(4, 'Peter', 'Lowstreet 4')\n",
      "(7, 'Michael', 'Valley 345')\n",
      "(1, 'John', 'Highway 21')\n",
      "(2, 'John', 'Highway 21')\n",
      "(3, 'John', 'Highway 21')\n",
      "(6, 'Hannah', 'Mountain 21')\n",
      "(15, 'Chuck', 'Main Road 989')\n",
      "(9, 'Betty', 'Green Grass 1')\n",
      "(13, 'Ben', 'Park Lane 38')\n",
      "(5, 'Amy', 'Apple st 652')\n"
     ]
    }
   ],
   "source": [
    "cursor = mysql_connection.cursor()\n",
    "\n",
    "sql = \"SELECT * FROM customers ORDER BY name DESC\"\n",
    "\n",
    "cursor.execute(sql)\n",
    "\n",
    "myresult = cursor.fetchall()\n",
    "\n",
    "for x in myresult:\n",
    "  print(x)"
   ]
  },
  {
   "cell_type": "markdown",
   "metadata": {},
   "source": [
    "###  Delete"
   ]
  },
  {
   "cell_type": "code",
   "execution_count": 57,
   "metadata": {},
   "outputs": [
    {
     "name": "stdout",
     "output_type": "stream",
     "text": [
      "1 record(s) deleted\n"
     ]
    }
   ],
   "source": [
    "cursor = mysql_connection.cursor()\n",
    "\n",
    "sql = \"DELETE FROM customers WHERE address = %s\"\n",
    "adr = (\"Yellow Garden 2\", )\n",
    "\n",
    "cursor.execute(sql, adr)\n",
    "\n",
    "mysql_connection.commit()\n",
    "\n",
    "print(cursor.rowcount, \"record(s) deleted\")"
   ]
  },
  {
   "cell_type": "markdown",
   "metadata": {},
   "source": [
    "###  Update"
   ]
  },
  {
   "cell_type": "code",
   "execution_count": 59,
   "metadata": {},
   "outputs": [
    {
     "name": "stdout",
     "output_type": "stream",
     "text": [
      "1 record(s) affected\n"
     ]
    }
   ],
   "source": [
    "cursor = mysql_connection.cursor()\n",
    "\n",
    "sql = \"UPDATE customers SET address = %s WHERE address = %s\"\n",
    "val = (\"Valley 345\", \"Canyon 123\")\n",
    "\n",
    "cursor.execute(sql, val)\n",
    "\n",
    "mysql_connection.commit()\n",
    "\n",
    "print(cursor.rowcount, \"record(s) affected\")"
   ]
  },
  {
   "cell_type": "markdown",
   "metadata": {},
   "source": [
    "###  Join"
   ]
  },
  {
   "cell_type": "code",
   "execution_count": 63,
   "metadata": {},
   "outputs": [],
   "source": [
    "cursor = mysql_connection.cursor()\n",
    "\n",
    "sql = \"SELECT \\\n",
    "  users.name AS user, \\\n",
    "  products.name AS favorite \\\n",
    "  FROM users \\\n",
    "  INNER JOIN products ON users.fav = products.id\"\n",
    "\n",
    "cursor.execute(sql)\n",
    "\n",
    "myresult = cursor.fetchall()\n",
    "\n",
    "for x in myresult:\n",
    "  print(x)"
   ]
  },
  {
   "cell_type": "code",
   "execution_count": null,
   "metadata": {},
   "outputs": [],
   "source": [
    "#  LEFT JOIN\n",
    "\n",
    "sql = \"SELECT \\\n",
    "  users.name AS user, \\\n",
    "  products.name AS favorite \\\n",
    "  FROM users \\\n",
    "  LEFT JOIN products ON users.fav = products.id\""
   ]
  },
  {
   "cell_type": "code",
   "execution_count": null,
   "metadata": {},
   "outputs": [],
   "source": [
    "#  RIGHT JOIN\n",
    "\n",
    "sql = \"SELECT \\\n",
    "  users.name AS user, \\\n",
    "  products.name AS favorite \\\n",
    "  FROM users \\\n",
    "  RIGHT JOIN products ON users.fav = products.id\""
   ]
  },
  {
   "cell_type": "markdown",
   "metadata": {},
   "source": [
    "#  mysql.connector + Pandas"
   ]
  },
  {
   "cell_type": "code",
   "execution_count": 66,
   "metadata": {},
   "outputs": [],
   "source": [
    "import pandas as pd"
   ]
  },
  {
   "cell_type": "code",
   "execution_count": 67,
   "metadata": {},
   "outputs": [
    {
     "name": "stdout",
     "output_type": "stream",
     "text": [
      "(4, 'Peter', 'Lowstreet 4')\n",
      "(5, 'Amy', 'Apple st 652')\n",
      "(6, 'Hannah', 'Mountain 21')\n",
      "(7, 'Michael', 'Valley 345')\n",
      "(8, 'Sandy', 'Ocean blvd 2')\n",
      "(9, 'Betty', 'Green Grass 1')\n",
      "(10, 'Richard', 'Sky st 331')\n",
      "(11, 'Susan', 'One way 98')\n",
      "(13, 'Ben', 'Park Lane 38')\n",
      "(14, 'William', 'Central st 954')\n",
      "(15, 'Chuck', 'Main Road 989')\n",
      "(16, 'Viola', 'Sideway 1633')\n",
      "     0        1               2\n",
      "0    4    Peter     Lowstreet 4\n",
      "1    5      Amy    Apple st 652\n",
      "2    6   Hannah     Mountain 21\n",
      "3    7  Michael      Valley 345\n",
      "4    8    Sandy    Ocean blvd 2\n",
      "5    9    Betty   Green Grass 1\n",
      "6   10  Richard      Sky st 331\n",
      "7   11    Susan      One way 98\n",
      "8   13      Ben    Park Lane 38\n",
      "9   14  William  Central st 954\n",
      "10  15    Chuck   Main Road 989\n",
      "11  16    Viola    Sideway 1633\n"
     ]
    }
   ],
   "source": [
    "#  Select All\n",
    "\n",
    "cursor = mysql_connection.cursor()\n",
    "\n",
    "cursor.execute(\"SELECT * FROM customers\")\n",
    "\n",
    "myresult = cursor.fetchall()\n",
    "\n",
    "for x in myresult:\n",
    "  print(x)\n",
    "\n",
    "df = pd.DataFrame(myresult)\n",
    "\n",
    "print(df)"
   ]
  },
  {
   "cell_type": "code",
   "execution_count": 83,
   "metadata": {},
   "outputs": [
    {
     "data": {
      "text/html": [
       "<div>\n",
       "<style scoped>\n",
       "    .dataframe tbody tr th:only-of-type {\n",
       "        vertical-align: middle;\n",
       "    }\n",
       "\n",
       "    .dataframe tbody tr th {\n",
       "        vertical-align: top;\n",
       "    }\n",
       "\n",
       "    .dataframe thead th {\n",
       "        text-align: right;\n",
       "    }\n",
       "</style>\n",
       "<table border=\"1\" class=\"dataframe\">\n",
       "  <thead>\n",
       "    <tr style=\"text-align: right;\">\n",
       "      <th></th>\n",
       "      <th>id</th>\n",
       "      <th>name</th>\n",
       "      <th>address</th>\n",
       "    </tr>\n",
       "  </thead>\n",
       "  <tbody>\n",
       "    <tr>\n",
       "      <th>0</th>\n",
       "      <td>4</td>\n",
       "      <td>Peter</td>\n",
       "      <td>Lowstreet 4</td>\n",
       "    </tr>\n",
       "    <tr>\n",
       "      <th>1</th>\n",
       "      <td>5</td>\n",
       "      <td>Amy</td>\n",
       "      <td>Apple st 652</td>\n",
       "    </tr>\n",
       "    <tr>\n",
       "      <th>2</th>\n",
       "      <td>6</td>\n",
       "      <td>Hannah</td>\n",
       "      <td>Mountain 21</td>\n",
       "    </tr>\n",
       "    <tr>\n",
       "      <th>3</th>\n",
       "      <td>7</td>\n",
       "      <td>Michael</td>\n",
       "      <td>Valley 345</td>\n",
       "    </tr>\n",
       "    <tr>\n",
       "      <th>4</th>\n",
       "      <td>8</td>\n",
       "      <td>Sandy</td>\n",
       "      <td>Ocean blvd 2</td>\n",
       "    </tr>\n",
       "    <tr>\n",
       "      <th>5</th>\n",
       "      <td>9</td>\n",
       "      <td>Betty</td>\n",
       "      <td>Green Grass 1</td>\n",
       "    </tr>\n",
       "    <tr>\n",
       "      <th>6</th>\n",
       "      <td>10</td>\n",
       "      <td>Richard</td>\n",
       "      <td>Sky st 331</td>\n",
       "    </tr>\n",
       "    <tr>\n",
       "      <th>7</th>\n",
       "      <td>11</td>\n",
       "      <td>Susan</td>\n",
       "      <td>One way 98</td>\n",
       "    </tr>\n",
       "    <tr>\n",
       "      <th>8</th>\n",
       "      <td>13</td>\n",
       "      <td>Ben</td>\n",
       "      <td>Park Lane 38</td>\n",
       "    </tr>\n",
       "    <tr>\n",
       "      <th>9</th>\n",
       "      <td>14</td>\n",
       "      <td>William</td>\n",
       "      <td>Central st 954</td>\n",
       "    </tr>\n",
       "    <tr>\n",
       "      <th>10</th>\n",
       "      <td>15</td>\n",
       "      <td>Chuck</td>\n",
       "      <td>Main Road 989</td>\n",
       "    </tr>\n",
       "    <tr>\n",
       "      <th>11</th>\n",
       "      <td>16</td>\n",
       "      <td>Viola</td>\n",
       "      <td>Sideway 1633</td>\n",
       "    </tr>\n",
       "  </tbody>\n",
       "</table>\n",
       "</div>"
      ],
      "text/plain": [
       "    id     name         address\n",
       "0    4    Peter     Lowstreet 4\n",
       "1    5      Amy    Apple st 652\n",
       "2    6   Hannah     Mountain 21\n",
       "3    7  Michael      Valley 345\n",
       "4    8    Sandy    Ocean blvd 2\n",
       "5    9    Betty   Green Grass 1\n",
       "6   10  Richard      Sky st 331\n",
       "7   11    Susan      One way 98\n",
       "8   13      Ben    Park Lane 38\n",
       "9   14  William  Central st 954\n",
       "10  15    Chuck   Main Road 989\n",
       "11  16    Viola    Sideway 1633"
      ]
     },
     "execution_count": 83,
     "metadata": {},
     "output_type": "execute_result"
    }
   ],
   "source": [
    "df = pd.read_sql('SELECT * FROM customers', con=mysql_connection)\n",
    "df"
   ]
  },
  {
   "cell_type": "markdown",
   "metadata": {},
   "source": [
    "#  Function"
   ]
  },
  {
   "cell_type": "code",
   "execution_count": 88,
   "metadata": {},
   "outputs": [
    {
     "name": "stdout",
     "output_type": "stream",
     "text": [
      "<mysql.connector.connection.MySQLConnection object at 0x000001DC9C256390>\n"
     ]
    }
   ],
   "source": [
    "# Connect to Database with error check\n",
    "\n",
    "import mysql.connector\n",
    "\n",
    "def mysql_connection():\n",
    "    ''' Create connection'''\n",
    "    \n",
    "    try:\n",
    "      mysql_connection = mysql.connector.connect(\n",
    "            host=\"localhost\",\n",
    "            user=\"learnlink\",\n",
    "            password=\"learnlinkPW01\"\n",
    "      )\n",
    "    except mysql_connection.connector.Error as err:\n",
    "      if err.errno == errorcode.ER_ACCESS_DENIED_ERROR:\n",
    "        print(\"Something is wrong with your user name or password\")\n",
    "      elif err.errno == errorcode.ER_BAD_DB_ERROR:\n",
    "        print(\"Database does not exist\")\n",
    "      else:\n",
    "        print(err)\n",
    "    else:\n",
    "      print(mysql_connection)\n",
    "    \n",
    "    return mysql_connection\n",
    "\n",
    "mysql_connection = mysql_connection()"
   ]
  },
  {
   "cell_type": "code",
   "execution_count": 96,
   "metadata": {},
   "outputs": [
    {
     "name": "stdout",
     "output_type": "stream",
     "text": [
      "<mysql.connector.connection.MySQLConnection object at 0x000001DC9C23ACC0>\n"
     ]
    }
   ],
   "source": [
    "# Connect to Database with error check\n",
    "\n",
    "import mysql.connector\n",
    "\n",
    "def mysql_connection():\n",
    "    ''' Create connection'''\n",
    "    \n",
    "    try:\n",
    "      mysql_connection = mysql.connector.connect(\n",
    "          host=\"localhost\",\n",
    "          user=\"learnlink\",\n",
    "          password=\"learnlinkPW01\",\n",
    "          database='employees'\n",
    "      )\n",
    "    except mysql_connection.connector.Error as err:\n",
    "      if err.errno == errorcode.ER_ACCESS_DENIED_ERROR:\n",
    "        print(\"Something is wrong with your user name or password\")\n",
    "      elif err.errno == errorcode.ER_BAD_DB_ERROR:\n",
    "        print(\"Database does not exist\")\n",
    "      else:\n",
    "        print(err)\n",
    "    else:\n",
    "      print(mysql_connection)\n",
    "    \n",
    "    return mysql_connection\n",
    "\n",
    "mysql_connection = mysql_connection()"
   ]
  },
  {
   "cell_type": "markdown",
   "metadata": {},
   "source": [
    "##  Function: Create Database"
   ]
  },
  {
   "cell_type": "code",
   "execution_count": 90,
   "metadata": {},
   "outputs": [
    {
     "name": "stdout",
     "output_type": "stream",
     "text": [
      "Failed creating database: 1007 (HY000): Can't create database 'employees'; database exists\n"
     ]
    }
   ],
   "source": [
    "# Create Database with error check\n",
    "\n",
    "import mysql.connector\n",
    "\n",
    "def create_database():\n",
    "    ''' Create Database'''\n",
    "    \n",
    "    DB_NAME = 'employees'\n",
    "    \n",
    "    cursor = mysql_connection.cursor()\n",
    "    \n",
    "    try:\n",
    "        cursor.execute(\n",
    "            \"CREATE DATABASE {} DEFAULT CHARACTER SET 'utf8'\".format(DB_NAME))\n",
    "        print(\"Database {} created successfully.\".format(DB_NAME))\n",
    "        \n",
    "    except mysql.connector.Error as err:\n",
    "        print(\"Failed creating database: {}\".format(err))\n",
    "        exit(1)\n",
    "        \n",
    "create_database()"
   ]
  },
  {
   "cell_type": "markdown",
   "metadata": {},
   "source": [
    "##  Function: Create Table"
   ]
  },
  {
   "cell_type": "code",
   "execution_count": 91,
   "metadata": {},
   "outputs": [
    {
     "name": "stdout",
     "output_type": "stream",
     "text": [
      "Creating table employees: OK\n",
      "Creating table departments: OK\n",
      "Creating table salaries: OK\n",
      "Creating table dept_emp: OK\n",
      "Creating table dept_manager: OK\n",
      "Creating table titles: OK\n"
     ]
    }
   ],
   "source": [
    "#  Create Table\n",
    "\n",
    "import mysql.connector\n",
    "from mysql.connector import errorcode\n",
    "\n",
    "def create_tables():\n",
    "    ''' Create Table'''\n",
    "    \n",
    "    DB_NAME = 'employees'\n",
    "    \n",
    "    cursor = mysql_connection.cursor()\n",
    "\n",
    "    TABLES = {}\n",
    "    TABLES['employees'] = (\n",
    "        \"CREATE TABLE `employees` (\"\n",
    "        \"  `emp_no` int(11) NOT NULL AUTO_INCREMENT,\"\n",
    "        \"  `birth_date` date NOT NULL,\"\n",
    "        \"  `first_name` varchar(14) NOT NULL,\"\n",
    "        \"  `last_name` varchar(16) NOT NULL,\"\n",
    "        \"  `gender` enum('M','F') NOT NULL,\"\n",
    "        \"  `hire_date` date NOT NULL,\"\n",
    "        \"  PRIMARY KEY (`emp_no`)\"\n",
    "        \") ENGINE=InnoDB\")\n",
    "\n",
    "    TABLES['departments'] = (\n",
    "        \"CREATE TABLE `departments` (\"\n",
    "        \"  `dept_no` char(4) NOT NULL,\"\n",
    "        \"  `dept_name` varchar(40) NOT NULL,\"\n",
    "        \"  PRIMARY KEY (`dept_no`), UNIQUE KEY `dept_name` (`dept_name`)\"\n",
    "        \") ENGINE=InnoDB\")\n",
    "\n",
    "    TABLES['salaries'] = (\n",
    "        \"CREATE TABLE `salaries` (\"\n",
    "        \"  `emp_no` int(11) NOT NULL,\"\n",
    "        \"  `salary` int(11) NOT NULL,\"\n",
    "        \"  `from_date` date NOT NULL,\"\n",
    "        \"  `to_date` date NOT NULL,\"\n",
    "        \"  PRIMARY KEY (`emp_no`,`from_date`), KEY `emp_no` (`emp_no`),\"\n",
    "        \"  CONSTRAINT `salaries_ibfk_1` FOREIGN KEY (`emp_no`) \"\n",
    "        \"     REFERENCES `employees` (`emp_no`) ON DELETE CASCADE\"\n",
    "        \") ENGINE=InnoDB\")\n",
    "\n",
    "    TABLES['dept_emp'] = (\n",
    "        \"CREATE TABLE `dept_emp` (\"\n",
    "        \"  `emp_no` int(11) NOT NULL,\"\n",
    "        \"  `dept_no` char(4) NOT NULL,\"\n",
    "        \"  `from_date` date NOT NULL,\"\n",
    "        \"  `to_date` date NOT NULL,\"\n",
    "        \"  PRIMARY KEY (`emp_no`,`dept_no`), KEY `emp_no` (`emp_no`),\"\n",
    "        \"  KEY `dept_no` (`dept_no`),\"\n",
    "        \"  CONSTRAINT `dept_emp_ibfk_1` FOREIGN KEY (`emp_no`) \"\n",
    "        \"     REFERENCES `employees` (`emp_no`) ON DELETE CASCADE,\"\n",
    "        \"  CONSTRAINT `dept_emp_ibfk_2` FOREIGN KEY (`dept_no`) \"\n",
    "        \"     REFERENCES `departments` (`dept_no`) ON DELETE CASCADE\"\n",
    "        \") ENGINE=InnoDB\")\n",
    "\n",
    "    TABLES['dept_manager'] = (\n",
    "        \"  CREATE TABLE `dept_manager` (\"\n",
    "        \"  `emp_no` int(11) NOT NULL,\"\n",
    "        \"  `dept_no` char(4) NOT NULL,\"\n",
    "        \"  `from_date` date NOT NULL,\"\n",
    "        \"  `to_date` date NOT NULL,\"\n",
    "        \"  PRIMARY KEY (`emp_no`,`dept_no`),\"\n",
    "        \"  KEY `emp_no` (`emp_no`),\"\n",
    "        \"  KEY `dept_no` (`dept_no`),\"\n",
    "        \"  CONSTRAINT `dept_manager_ibfk_1` FOREIGN KEY (`emp_no`) \"\n",
    "        \"     REFERENCES `employees` (`emp_no`) ON DELETE CASCADE,\"\n",
    "        \"  CONSTRAINT `dept_manager_ibfk_2` FOREIGN KEY (`dept_no`) \"\n",
    "        \"     REFERENCES `departments` (`dept_no`) ON DELETE CASCADE\"\n",
    "        \") ENGINE=InnoDB\")\n",
    "\n",
    "    TABLES['titles'] = (\n",
    "        \"CREATE TABLE `titles` (\"\n",
    "        \"  `emp_no` int(11) NOT NULL,\"\n",
    "        \"  `title` varchar(50) NOT NULL,\"\n",
    "        \"  `from_date` date NOT NULL,\"\n",
    "        \"  `to_date` date DEFAULT NULL,\"\n",
    "        \"  PRIMARY KEY (`emp_no`,`title`,`from_date`), KEY `emp_no` (`emp_no`),\"\n",
    "        \"  CONSTRAINT `titles_ibfk_1` FOREIGN KEY (`emp_no`)\"\n",
    "        \"     REFERENCES `employees` (`emp_no`) ON DELETE CASCADE\"\n",
    "        \") ENGINE=InnoDB\")\n",
    "\n",
    "    #  Use table\n",
    "    try:\n",
    "        cursor.execute(\"USE {}\".format(DB_NAME))\n",
    "    except mysql.connector.Error as err:\n",
    "        print(\"Database {} does not exists.\".format(DB_NAME))\n",
    "        if err.errno == errorcode.ER_BAD_DB_ERROR:\n",
    "            create_database()\n",
    "            mysql_connection.database = DB_NAME\n",
    "        else:\n",
    "            print(err)\n",
    "            exit(1)\n",
    "    \n",
    "    #  Create Tables\n",
    "\n",
    "    for table_name in TABLES:\n",
    "        table_description = TABLES[table_name]\n",
    "        try:\n",
    "            print(\"Creating table {}: \".format(table_name), end='')\n",
    "            cursor.execute(table_description)\n",
    "        except mysql.connector.Error as err:\n",
    "            if err.errno == errorcode.ER_TABLE_EXISTS_ERROR:\n",
    "                print(\"already exists.\")\n",
    "            else:\n",
    "                print(err.msg)\n",
    "        else:\n",
    "            print(\"OK\")\n",
    "\n",
    "    cursor.close()\n",
    "    mysql_connection.close()\n",
    "        \n",
    "create_tables()"
   ]
  },
  {
   "cell_type": "markdown",
   "metadata": {},
   "source": [
    "## Function: Add data"
   ]
  },
  {
   "cell_type": "code",
   "execution_count": 95,
   "metadata": {},
   "outputs": [],
   "source": [
    "from datetime import date, datetime, timedelta\n",
    "import mysql.connector\n",
    "\n",
    "def insert_data():\n",
    "    ''' Add data'''\n",
    "    \n",
    "    cursor = mysql_connection.cursor()\n",
    "\n",
    "    tomorrow = datetime.now().date() + timedelta(days=1)\n",
    "\n",
    "    add_employee = (\"INSERT INTO employees \"\n",
    "                   \"(first_name, last_name, hire_date, gender, birth_date) \"\n",
    "                   \"VALUES (%s, %s, %s, %s, %s)\")\n",
    "    add_salary = (\"INSERT INTO salaries \"\n",
    "                  \"(emp_no, salary, from_date, to_date) \"\n",
    "                  \"VALUES (%(emp_no)s, %(salary)s, %(from_date)s, %(to_date)s)\")\n",
    "\n",
    "    data_employee = ('Geert', 'Vanderkelen', tomorrow, 'M', date(1977, 6, 14))\n",
    "\n",
    "    # Insert new employee\n",
    "    cursor.execute(add_employee, data_employee)\n",
    "    emp_no = cursor.lastrowid\n",
    "\n",
    "    # Insert salary information\n",
    "    data_salary = {\n",
    "      'emp_no': emp_no,\n",
    "      'salary': 50000,\n",
    "      'from_date': tomorrow,\n",
    "      'to_date': date(9999, 1, 1),\n",
    "    }\n",
    "    cursor.execute(add_salary, data_salary)\n",
    "\n",
    "    # Make sure data is committed to the database\n",
    "    mysql_connection.commit()\n",
    "\n",
    "    cursor.close()\n",
    "    mysql_connection.close()\n",
    "\n",
    "insert_data()"
   ]
  },
  {
   "cell_type": "markdown",
   "metadata": {},
   "source": [
    "## Fuction: Query"
   ]
  },
  {
   "cell_type": "code",
   "execution_count": 99,
   "metadata": {},
   "outputs": [
    {
     "name": "stdout",
     "output_type": "stream",
     "text": [
      "Vanderkelen, Geert was hired on 06 Oct 2020\n"
     ]
    }
   ],
   "source": [
    "import datetime\n",
    "import mysql.connector\n",
    "\n",
    "def query_data():\n",
    "    ''' Query'''\n",
    "\n",
    "    cursor = mysql_connection.cursor()\n",
    "\n",
    "    query = (\"SELECT first_name, last_name, hire_date FROM employees \"\n",
    "             \"WHERE hire_date BETWEEN %s AND %s\")\n",
    "\n",
    "    hire_start = datetime.date(1999, 1, 1)\n",
    "    hire_end = datetime.date(2020, 12, 31)\n",
    "\n",
    "    cursor.execute(query, (hire_start, hire_end))\n",
    "\n",
    "    for (first_name, last_name, hire_date) in cursor:\n",
    "      print(\"{}, {} was hired on {:%d %b %Y}\".format(\n",
    "        last_name, first_name, hire_date))\n",
    "\n",
    "    cursor.close()\n",
    "    mysql_connection.close()\n",
    "\n",
    "query_data()"
   ]
  },
  {
   "cell_type": "code",
   "execution_count": null,
   "metadata": {},
   "outputs": [],
   "source": []
  }
 ],
 "metadata": {
  "kernelspec": {
   "display_name": "Python 3",
   "language": "python",
   "name": "python3"
  },
  "language_info": {
   "codemirror_mode": {
    "name": "ipython",
    "version": 3
   },
   "file_extension": ".py",
   "mimetype": "text/x-python",
   "name": "python",
   "nbconvert_exporter": "python",
   "pygments_lexer": "ipython3",
   "version": "3.7.2"
  }
 },
 "nbformat": 4,
 "nbformat_minor": 4
}
