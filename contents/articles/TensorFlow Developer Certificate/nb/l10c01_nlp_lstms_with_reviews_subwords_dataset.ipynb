{
 "cells": [
  {
   "cell_type": "markdown",
   "metadata": {
    "colab_type": "text",
    "id": "0vTrhvamBIUx"
   },
   "source": [
    "# Using LSTMs with the subwords dataset\n",
    "\n",
    "\n",
    "\n",
    "\n",
    "\n",
    "\n",
    "\n",
    "\n"
   ]
  },
  {
   "cell_type": "markdown",
   "metadata": {
    "colab_type": "text",
    "id": "-J4N9PG3BKuI"
   },
   "source": [
    "In this colab, you'll compare the results of using a model with an Embedding layer and then adding bidirectional LSTM layers.\n",
    "\n",
    "You'll work with the dataset of subwords for the combined Yelp and Amazon reviews.\n",
    "\n",
    "You'll use your models to predict the sentiment of new reviews."
   ]
  },
  {
   "cell_type": "code",
   "execution_count": 1,
   "metadata": {
    "colab": {},
    "colab_type": "code",
    "id": "oecYXYbsBF8P"
   },
   "outputs": [],
   "source": [
    "import tensorflow as tf\n",
    "\n",
    "from tensorflow.keras.preprocessing.sequence import pad_sequences"
   ]
  },
  {
   "cell_type": "markdown",
   "metadata": {
    "colab_type": "text",
    "id": "FI6fZHtSBPo_"
   },
   "source": [
    "# Get the dataset\n",
    "\n",
    "Start by getting the dataset containing Amazon and Yelp reviews, with their related sentiment (1 for positive, 0 for negative). This dataset was originally extracted from [here](https://www.kaggle.com/marklvl/sentiment-labelled-sentences-data-set).\n"
   ]
  },
  {
   "cell_type": "code",
   "execution_count": 2,
   "metadata": {
    "colab": {
     "base_uri": "https://localhost:8080/",
     "height": 326
    },
    "colab_type": "code",
    "id": "it70WGYPBL6q",
    "outputId": "191bdbf1-a97b-4442-c1a2-03e5ec884731"
   },
   "outputs": [
    {
     "name": "stdout",
     "output_type": "stream",
     "text": [
      "--2020-08-09 02:22:28--  https://drive.google.com/uc?id=13ySLC_ue6Umt9RJYSeM2t-V0kCv-4C-P\n",
      "Resolving drive.google.com (drive.google.com)... 74.125.195.102, 74.125.195.100, 74.125.195.138, ...\n",
      "Connecting to drive.google.com (drive.google.com)|74.125.195.102|:443... connected.\n",
      "HTTP request sent, awaiting response... 302 Moved Temporarily\n",
      "Location: https://doc-08-ak-docs.googleusercontent.com/docs/securesc/ha0ro937gcuc7l7deffksulhg5h7mbp1/kian8r63dvdde9l0naoaupm9p4vh66d9/1596939675000/11118900490791463723/*/13ySLC_ue6Umt9RJYSeM2t-V0kCv-4C-P [following]\n",
      "Warning: wildcards not supported in HTTP.\n",
      "--2020-08-09 02:22:29--  https://doc-08-ak-docs.googleusercontent.com/docs/securesc/ha0ro937gcuc7l7deffksulhg5h7mbp1/kian8r63dvdde9l0naoaupm9p4vh66d9/1596939675000/11118900490791463723/*/13ySLC_ue6Umt9RJYSeM2t-V0kCv-4C-P\n",
      "Resolving doc-08-ak-docs.googleusercontent.com (doc-08-ak-docs.googleusercontent.com)... 74.125.142.132, 2607:f8b0:400e:c08::84\n",
      "Connecting to doc-08-ak-docs.googleusercontent.com (doc-08-ak-docs.googleusercontent.com)|74.125.142.132|:443... connected.\n",
      "HTTP request sent, awaiting response... 200 OK\n",
      "Length: 127831 (125K) [text/csv]\n",
      "Saving to: ‘/tmp/sentiment.csv’\n",
      "\n",
      "/tmp/sentiment.csv  100%[===================>] 124.83K  --.-KB/s    in 0.001s  \n",
      "\n",
      "2020-08-09 02:22:29 (118 MB/s) - ‘/tmp/sentiment.csv’ saved [127831/127831]\n",
      "\n"
     ]
    }
   ],
   "source": [
    "!wget --no-check-certificate \\\n",
    "    https://drive.google.com/uc?id=13ySLC_ue6Umt9RJYSeM2t-V0kCv-4C-P -O /tmp/sentiment.csv"
   ]
  },
  {
   "cell_type": "code",
   "execution_count": 3,
   "metadata": {
    "colab": {},
    "colab_type": "code",
    "id": "-HJrjNcbBMUu"
   },
   "outputs": [],
   "source": [
    "import pandas as pd\n",
    "\n",
    "dataset = pd.read_csv('/tmp/sentiment.csv')\n",
    "\n",
    "# Extract out sentences and labels\n",
    "sentences = dataset['text'].tolist()\n",
    "labels = dataset['sentiment'].tolist()"
   ]
  },
  {
   "cell_type": "code",
   "execution_count": 4,
   "metadata": {
    "colab": {
     "base_uri": "https://localhost:8080/",
     "height": 153
    },
    "colab_type": "code",
    "id": "6tFLiHM6BMcZ",
    "outputId": "3362627c-545e-42eb-8eff-154b4c79b190"
   },
   "outputs": [
    {
     "name": "stdout",
     "output_type": "stream",
     "text": [
      "So there is no way for me to plug it in here in the US unless I go by a converter.\n",
      "0\n",
      "\n",
      "\n",
      "Good case Excellent value.\n",
      "1\n",
      "\n",
      "\n"
     ]
    }
   ],
   "source": [
    "# Print some example sentences and labels\n",
    "for x in range(2):\n",
    "  print(sentences[x])\n",
    "  print(labels[x])\n",
    "  print(\"\\n\")"
   ]
  },
  {
   "cell_type": "markdown",
   "metadata": {
    "colab_type": "text",
    "id": "kxP_SYycBUCh"
   },
   "source": [
    "#Create a subwords dataset\n",
    "\n",
    "We will use the Amazon and Yelp reviews dataset with tensorflow_datasets's SubwordTextEncoder functionality. \n",
    "\n",
    "SubwordTextEncoder.build_from_corpus() will create a tokenizer for us. You could also use this functionality to get subwords from a much larger corpus of text as well, but we'll just use our existing dataset here.\n",
    "\n",
    "We'll create a subword vocab_size of only the 1,000 most common subwords, as well as cutting off each subword to be at most 5 characters.\n",
    "\n",
    "Check out the related documentation for the the subword text encoder [here](https://www.tensorflow.org/datasets/api_docs/python/tfds/features/text/SubwordTextEncoder#build_from_corpus)."
   ]
  },
  {
   "cell_type": "code",
   "execution_count": 5,
   "metadata": {
    "colab": {
     "base_uri": "https://localhost:8080/",
     "height": 34
    },
    "colab_type": "code",
    "id": "tHFvvQr_BMkv",
    "outputId": "b4226804-67d4-476e-f0f2-bc5aa944aa3e"
   },
   "outputs": [
    {
     "name": "stdout",
     "output_type": "stream",
     "text": [
      "Vocab size is  999\n"
     ]
    }
   ],
   "source": [
    "import tensorflow_datasets as tfds\n",
    "\n",
    "vocab_size = 1000\n",
    "tokenizer = tfds.features.text.SubwordTextEncoder.build_from_corpus(sentences, vocab_size, max_subword_length=5)\n",
    "\n",
    "# How big is the vocab size?\n",
    "print(\"Vocab size is \", tokenizer.vocab_size)"
   ]
  },
  {
   "cell_type": "code",
   "execution_count": 6,
   "metadata": {
    "colab": {
     "base_uri": "https://localhost:8080/",
     "height": 51
    },
    "colab_type": "code",
    "id": "2exBOuqEBMtG",
    "outputId": "00119302-c942-45eb-c8e6-25706deab2ac"
   },
   "outputs": [
    {
     "name": "stdout",
     "output_type": "stream",
     "text": [
      "I have to jiggle the plug to get it to line up right to get decent volume.\n",
      "[4, 31, 6, 849, 162, 450, 12, 1, 600, 438, 775, 6, 175, 14, 6, 55, 213, 159, 474, 775, 6, 175, 614, 380, 295, 148, 72, 789]\n"
     ]
    }
   ],
   "source": [
    "# Check that the tokenizer works appropriately\n",
    "num = 5\n",
    "print(sentences[num])\n",
    "encoded = tokenizer.encode(sentences[num])\n",
    "print(encoded)"
   ]
  },
  {
   "cell_type": "code",
   "execution_count": 7,
   "metadata": {
    "colab": {
     "base_uri": "https://localhost:8080/",
     "height": 493
    },
    "colab_type": "code",
    "id": "CyQuVAxyBVaM",
    "outputId": "bfac81e5-aa5a-4574-aba6-40da6f3c23b2"
   },
   "outputs": [
    {
     "name": "stdout",
     "output_type": "stream",
     "text": [
      "I \n",
      "have \n",
      "to \n",
      "j\n",
      "ig\n",
      "gl\n",
      "e \n",
      "the \n",
      "pl\n",
      "ug\n",
      " \n",
      "to \n",
      "get \n",
      "it \n",
      "to \n",
      "li\n",
      "ne \n",
      "up \n",
      "right\n",
      " \n",
      "to \n",
      "get \n",
      "dec\n",
      "ent \n",
      "vo\n",
      "lu\n",
      "me\n",
      ".\n"
     ]
    }
   ],
   "source": [
    "# Separately print out each subword, decoded\n",
    "for i in encoded:\n",
    "  print(tokenizer.decode([i]))"
   ]
  },
  {
   "cell_type": "markdown",
   "metadata": {
    "colab_type": "text",
    "id": "RtXT_xavBark"
   },
   "source": [
    "## Replace sentence data with encoded subwords\n",
    "\n",
    "Now, we'll create the sequences to be used for training by actually encoding each of the individual sentences. This is equivalent to `text_to_sequences` with the `Tokenizer` we used in earlier exercises."
   ]
  },
  {
   "cell_type": "code",
   "execution_count": 8,
   "metadata": {
    "colab": {},
    "colab_type": "code",
    "id": "aD_RTE7LBVi0"
   },
   "outputs": [],
   "source": [
    "for i, sentence in enumerate(sentences):\n",
    "  sentences[i] = tokenizer.encode(sentence)"
   ]
  },
  {
   "cell_type": "code",
   "execution_count": 9,
   "metadata": {
    "colab": {
     "base_uri": "https://localhost:8080/",
     "height": 34
    },
    "colab_type": "code",
    "id": "tatkw9_GBVof",
    "outputId": "4a0dc056-ddd8-41a0-9244-f4a731b5b8ee"
   },
   "outputs": [
    {
     "name": "stdout",
     "output_type": "stream",
     "text": [
      "[4, 31, 6, 849, 162, 450, 12, 1, 600, 438, 775, 6, 175, 14, 6, 55, 213, 159, 474, 775, 6, 175, 614, 380, 295, 148, 72, 789]\n"
     ]
    }
   ],
   "source": [
    "# Check the sentences are appropriately replaced\n",
    "print(sentences[5])"
   ]
  },
  {
   "cell_type": "markdown",
   "metadata": {
    "colab_type": "text",
    "id": "4boeRJ8XBeoP"
   },
   "source": [
    "## Final pre-processing\n",
    "\n",
    "Before training, we still need to pad the sequences, as well as split into training and test sets."
   ]
  },
  {
   "cell_type": "code",
   "execution_count": 10,
   "metadata": {
    "colab": {},
    "colab_type": "code",
    "id": "YWxQ7t5QBVfY"
   },
   "outputs": [],
   "source": [
    "import numpy as np\n",
    "\n",
    "max_length = 50\n",
    "trunc_type='post'\n",
    "padding_type='post'\n",
    "\n",
    "# Pad all sequences\n",
    "sequences_padded = pad_sequences(sentences, maxlen=max_length, \n",
    "                                 padding=padding_type, truncating=trunc_type)\n",
    "\n",
    "# Separate out the sentences and labels into training and test sets\n",
    "training_size = int(len(sentences) * 0.8)\n",
    "\n",
    "training_sequences = sequences_padded[0:training_size]\n",
    "testing_sequences = sequences_padded[training_size:]\n",
    "training_labels = labels[0:training_size]\n",
    "testing_labels = labels[training_size:]\n",
    "\n",
    "# Make labels into numpy arrays for use with the network later\n",
    "training_labels_final = np.array(training_labels)\n",
    "testing_labels_final = np.array(testing_labels)"
   ]
  },
  {
   "cell_type": "markdown",
   "metadata": {
    "colab_type": "text",
    "id": "XkR2j1EbBh4Q"
   },
   "source": [
    "# Create the model using an Embedding"
   ]
  },
  {
   "cell_type": "code",
   "execution_count": 11,
   "metadata": {
    "colab": {
     "base_uri": "https://localhost:8080/",
     "height": 289
    },
    "colab_type": "code",
    "id": "XkXhGVRjBVXX",
    "outputId": "651e9c4f-c06e-40e6-e53c-e7784283194e"
   },
   "outputs": [
    {
     "name": "stdout",
     "output_type": "stream",
     "text": [
      "Model: \"sequential\"\n",
      "_________________________________________________________________\n",
      "Layer (type)                 Output Shape              Param #   \n",
      "=================================================================\n",
      "embedding (Embedding)        (None, 50, 16)            16000     \n",
      "_________________________________________________________________\n",
      "global_average_pooling1d (Gl (None, 16)                0         \n",
      "_________________________________________________________________\n",
      "dense (Dense)                (None, 6)                 102       \n",
      "_________________________________________________________________\n",
      "dense_1 (Dense)              (None, 1)                 7         \n",
      "=================================================================\n",
      "Total params: 16,109\n",
      "Trainable params: 16,109\n",
      "Non-trainable params: 0\n",
      "_________________________________________________________________\n"
     ]
    }
   ],
   "source": [
    "embedding_dim = 16\n",
    "\n",
    "model = tf.keras.Sequential([\n",
    "    tf.keras.layers.Embedding(vocab_size, embedding_dim, input_length=max_length),\n",
    "    tf.keras.layers.GlobalAveragePooling1D(), \n",
    "    tf.keras.layers.Dense(6, activation='relu'),\n",
    "    tf.keras.layers.Dense(1, activation='sigmoid')\n",
    "])\n",
    "\n",
    "model.summary()"
   ]
  },
  {
   "cell_type": "markdown",
   "metadata": {
    "colab_type": "text",
    "id": "m5EQcf3rBkMC"
   },
   "source": [
    "# Train the model"
   ]
  },
  {
   "cell_type": "code",
   "execution_count": 12,
   "metadata": {
    "colab": {
     "base_uri": "https://localhost:8080/",
     "height": 1000
    },
    "colab_type": "code",
    "id": "1Va10lu4BMzZ",
    "outputId": "9ea545a4-c9d7-44da-ec63-1872ff14ec7a"
   },
   "outputs": [
    {
     "name": "stdout",
     "output_type": "stream",
     "text": [
      "Epoch 1/30\n",
      "50/50 [==============================] - 0s 6ms/step - loss: 0.6925 - accuracy: 0.5361 - val_loss: 0.6936 - val_accuracy: 0.4737\n",
      "Epoch 2/30\n",
      "50/50 [==============================] - 0s 4ms/step - loss: 0.6897 - accuracy: 0.5612 - val_loss: 0.6934 - val_accuracy: 0.4586\n",
      "Epoch 3/30\n",
      "50/50 [==============================] - 0s 4ms/step - loss: 0.6834 - accuracy: 0.5756 - val_loss: 0.6928 - val_accuracy: 0.4787\n",
      "Epoch 4/30\n",
      "50/50 [==============================] - 0s 3ms/step - loss: 0.6733 - accuracy: 0.6089 - val_loss: 0.6820 - val_accuracy: 0.5489\n",
      "Epoch 5/30\n",
      "50/50 [==============================] - 0s 3ms/step - loss: 0.6564 - accuracy: 0.6924 - val_loss: 0.6713 - val_accuracy: 0.5639\n",
      "Epoch 6/30\n",
      "50/50 [==============================] - 0s 3ms/step - loss: 0.6317 - accuracy: 0.7257 - val_loss: 0.6525 - val_accuracy: 0.6065\n",
      "Epoch 7/30\n",
      "50/50 [==============================] - 0s 3ms/step - loss: 0.5995 - accuracy: 0.7734 - val_loss: 0.6282 - val_accuracy: 0.6767\n",
      "Epoch 8/30\n",
      "50/50 [==============================] - 0s 3ms/step - loss: 0.5595 - accuracy: 0.8029 - val_loss: 0.6051 - val_accuracy: 0.6892\n",
      "Epoch 9/30\n",
      "50/50 [==============================] - 0s 3ms/step - loss: 0.5200 - accuracy: 0.8192 - val_loss: 0.5772 - val_accuracy: 0.7218\n",
      "Epoch 10/30\n",
      "50/50 [==============================] - 0s 3ms/step - loss: 0.4781 - accuracy: 0.8418 - val_loss: 0.5616 - val_accuracy: 0.7243\n",
      "Epoch 11/30\n",
      "50/50 [==============================] - 0s 3ms/step - loss: 0.4405 - accuracy: 0.8588 - val_loss: 0.5362 - val_accuracy: 0.7469\n",
      "Epoch 12/30\n",
      "50/50 [==============================] - 0s 3ms/step - loss: 0.4085 - accuracy: 0.8581 - val_loss: 0.5157 - val_accuracy: 0.7719\n",
      "Epoch 13/30\n",
      "50/50 [==============================] - 0s 4ms/step - loss: 0.3800 - accuracy: 0.8701 - val_loss: 0.5140 - val_accuracy: 0.7444\n",
      "Epoch 14/30\n",
      "50/50 [==============================] - 0s 3ms/step - loss: 0.3538 - accuracy: 0.8745 - val_loss: 0.5203 - val_accuracy: 0.7444\n",
      "Epoch 15/30\n",
      "50/50 [==============================] - 0s 4ms/step - loss: 0.3335 - accuracy: 0.8807 - val_loss: 0.5277 - val_accuracy: 0.7318\n",
      "Epoch 16/30\n",
      "50/50 [==============================] - 0s 3ms/step - loss: 0.3150 - accuracy: 0.8876 - val_loss: 0.4940 - val_accuracy: 0.7594\n",
      "Epoch 17/30\n",
      "50/50 [==============================] - 0s 3ms/step - loss: 0.2981 - accuracy: 0.8970 - val_loss: 0.4978 - val_accuracy: 0.7619\n",
      "Epoch 18/30\n",
      "50/50 [==============================] - 0s 3ms/step - loss: 0.2827 - accuracy: 0.9014 - val_loss: 0.5161 - val_accuracy: 0.7444\n",
      "Epoch 19/30\n",
      "50/50 [==============================] - 0s 3ms/step - loss: 0.2687 - accuracy: 0.9071 - val_loss: 0.5112 - val_accuracy: 0.7544\n",
      "Epoch 20/30\n",
      "50/50 [==============================] - 0s 4ms/step - loss: 0.2566 - accuracy: 0.9090 - val_loss: 0.5173 - val_accuracy: 0.7569\n",
      "Epoch 21/30\n",
      "50/50 [==============================] - 0s 3ms/step - loss: 0.2448 - accuracy: 0.9171 - val_loss: 0.5226 - val_accuracy: 0.7494\n",
      "Epoch 22/30\n",
      "50/50 [==============================] - 0s 3ms/step - loss: 0.2351 - accuracy: 0.9184 - val_loss: 0.5217 - val_accuracy: 0.7544\n",
      "Epoch 23/30\n",
      "50/50 [==============================] - 0s 4ms/step - loss: 0.2237 - accuracy: 0.9222 - val_loss: 0.5180 - val_accuracy: 0.7619\n",
      "Epoch 24/30\n",
      "50/50 [==============================] - 0s 3ms/step - loss: 0.2153 - accuracy: 0.9272 - val_loss: 0.5360 - val_accuracy: 0.7519\n",
      "Epoch 25/30\n",
      "50/50 [==============================] - 0s 4ms/step - loss: 0.2087 - accuracy: 0.9272 - val_loss: 0.5445 - val_accuracy: 0.7419\n",
      "Epoch 26/30\n",
      "50/50 [==============================] - 0s 3ms/step - loss: 0.2000 - accuracy: 0.9291 - val_loss: 0.5488 - val_accuracy: 0.7469\n",
      "Epoch 27/30\n",
      "50/50 [==============================] - 0s 3ms/step - loss: 0.1926 - accuracy: 0.9372 - val_loss: 0.5734 - val_accuracy: 0.7393\n",
      "Epoch 28/30\n",
      "50/50 [==============================] - 0s 3ms/step - loss: 0.1850 - accuracy: 0.9385 - val_loss: 0.5724 - val_accuracy: 0.7419\n",
      "Epoch 29/30\n",
      "50/50 [==============================] - 0s 3ms/step - loss: 0.1782 - accuracy: 0.9473 - val_loss: 0.5768 - val_accuracy: 0.7469\n",
      "Epoch 30/30\n",
      "50/50 [==============================] - 0s 3ms/step - loss: 0.1721 - accuracy: 0.9498 - val_loss: 0.5972 - val_accuracy: 0.7444\n"
     ]
    }
   ],
   "source": [
    "num_epochs = 30\n",
    "model.compile(loss='binary_crossentropy',optimizer='adam',metrics=['accuracy'])\n",
    "history = model.fit(training_sequences, training_labels_final, epochs=num_epochs, validation_data=(testing_sequences, testing_labels_final))\n"
   ]
  },
  {
   "cell_type": "markdown",
   "metadata": {
    "colab_type": "text",
    "id": "81QQWcb7BsCV"
   },
   "source": [
    "# Plot the accuracy and loss"
   ]
  },
  {
   "cell_type": "code",
   "execution_count": 13,
   "metadata": {
    "colab": {
     "base_uri": "https://localhost:8080/",
     "height": 541
    },
    "colab_type": "code",
    "id": "bVv7AbUEBqtS",
    "outputId": "044530b4-dd05-48bf-901f-66cb62f1cb4c"
   },
   "outputs": [
    {
     "data": {
      "image/png": "[encoded data removed]",
      "text/plain": [
       "<Figure size 432x288 with 1 Axes>"
      ]
     },
     "metadata": {
      "needs_background": "light",
      "tags": []
     },
     "output_type": "display_data"
    },
    {
     "data": {
      "image/png": "[encoded data removed]",
      "text/plain": [
       "<Figure size 432x288 with 1 Axes>"
      ]
     },
     "metadata": {
      "needs_background": "light",
      "tags": []
     },
     "output_type": "display_data"
    }
   ],
   "source": [
    "import matplotlib.pyplot as plt\n",
    "\n",
    "\n",
    "def plot_graphs(history, string):\n",
    "  plt.plot(history.history[string])\n",
    "  plt.plot(history.history['val_'+string])\n",
    "  plt.xlabel(\"Epochs\")\n",
    "  plt.ylabel(string)\n",
    "  plt.legend([string, 'val_'+string])\n",
    "  plt.show()\n",
    "  \n",
    "plot_graphs(history, \"accuracy\")\n",
    "plot_graphs(history, \"loss\")"
   ]
  },
  {
   "cell_type": "markdown",
   "metadata": {
    "colab_type": "text",
    "id": "0-HbCo1mBvFD"
   },
   "source": [
    "# Define a function to predict the sentiment of reviews\n",
    "\n",
    "We'll be creating models with some differences and will use each model to predict the sentiment of some new reviews.\n",
    "\n",
    "To save time, create a function that will take in a model and some new reviews, and print out the sentiment of each reviews.\n",
    "\n",
    "The higher the sentiment value is to 1, the more positive the review is."
   ]
  },
  {
   "cell_type": "code",
   "execution_count": 14,
   "metadata": {
    "colab": {},
    "colab_type": "code",
    "id": "2g4SSDmtBwvw"
   },
   "outputs": [],
   "source": [
    "# Define a function to take a series of reviews\n",
    "# and predict whether each one is a positive or negative review\n",
    "\n",
    "# max_length = 100 # previously defined\n",
    "\n",
    "def predict_review(model, new_sentences, maxlen=max_length, show_padded_sequence=True ):\n",
    "  # Keep the original sentences so that we can keep using them later\n",
    "  # Create an array to hold the encoded sequences\n",
    "  new_sequences = []\n",
    "\n",
    "  # Convert the new reviews to sequences\n",
    "  for i, frvw in enumerate(new_sentences):\n",
    "    new_sequences.append(tokenizer.encode(frvw))\n",
    "\n",
    "  trunc_type='post' \n",
    "  padding_type='post'\n",
    "\n",
    "  # Pad all sequences for the new reviews\n",
    "  new_reviews_padded = pad_sequences(new_sequences, maxlen=max_length, \n",
    "                                 padding=padding_type, truncating=trunc_type)             \n",
    "\n",
    "  classes = model.predict(new_reviews_padded)\n",
    "\n",
    "  # The closer the class is to 1, the more positive the review is\n",
    "  for x in range(len(new_sentences)):\n",
    "    \n",
    "    # We can see the padded sequence if desired\n",
    "    # Print the sequence\n",
    "    if (show_padded_sequence):\n",
    "      print(new_reviews_padded[x])\n",
    "    # Print the review as text\n",
    "    print(new_sentences[x])\n",
    "    # Print its predicted class\n",
    "    print(classes[x])\n",
    "    print(\"\\n\")"
   ]
  },
  {
   "cell_type": "code",
   "execution_count": 15,
   "metadata": {
    "colab": {
     "base_uri": "https://localhost:8080/",
     "height": 850
    },
    "colab_type": "code",
    "id": "PJ6KIXsFByQZ",
    "outputId": "a898ad30-ce01-4e51-c2f1-b70248b8a4cf"
   },
   "outputs": [
    {
     "name": "stdout",
     "output_type": "stream",
     "text": [
      "[  4 281  16  25   0   0   0   0   0   0   0   0   0   0   0   0   0   0\n",
      "   0   0   0   0   0   0   0   0   0   0   0   0   0   0   0   0   0   0\n",
      "   0   0   0   0   0   0   0   0   0   0   0   0   0   0]\n",
      "I love this phone\n",
      "[0.9025642]\n",
      "\n",
      "\n",
      "[812 227 864 100 775   9 525 843   0   0   0   0   0   0   0   0   0   0\n",
      "   0   0   0   0   0   0   0   0   0   0   0   0   0   0   0   0   0   0\n",
      "   0   0   0   0   0   0   0   0   0   0   0   0   0   0]\n",
      "Everything was cold\n",
      "[0.10863601]\n",
      "\n",
      "\n",
      "[812 227 864 100 775   9 109   8 333 731  24  61   4 171  59  77   0   0\n",
      "   0   0   0   0   0   0   0   0   0   0   0   0   0   0   0   0   0   0\n",
      "   0   0   0   0   0   0   0   0   0   0   0   0   0   0]\n",
      "Everything was hot exactly as I wanted\n",
      "[0.33902964]\n",
      "\n",
      "\n",
      "[812 227 864 100 775   9 157 359 853   0   0   0   0   0   0   0   0   0\n",
      "   0   0   0   0   0   0   0   0   0   0   0   0   0   0   0   0   0   0\n",
      "   0   0   0   0   0   0   0   0   0   0   0   0   0   0]\n",
      "Everything was green\n",
      "[0.09309307]\n",
      "\n",
      "\n",
      "[  1 109 228 540 237 635 241 423 340  89 298   0   0   0   0   0   0   0\n",
      "   0   0   0   0   0   0   0   0   0   0   0   0   0   0   0   0   0   0\n",
      "   0   0   0   0   0   0   0   0   0   0   0   0   0   0]\n",
      "the host seated us immediately\n",
      "[0.4488544]\n",
      "\n",
      "\n",
      "[154 242  47 635 341  12 569 547 147 319 775 125  85   0   0   0   0   0\n",
      "   0   0   0   0   0   0   0   0   0   0   0   0   0   0   0   0   0   0\n",
      "   0   0   0   0   0   0   0   0   0   0   0   0   0   0]\n",
      "they gave us free chocolate cake\n",
      "[0.73490804]\n",
      "\n",
      "\n",
      "[158 190 853 782   8 607 775 210 232 146 775 470  67 305 101  15   1 328\n",
      " 296  26  19   1 661 641 195   0   0   0   0   0   0   0   0   0   0   0\n",
      "   0   0   0   0   0   0   0   0   0   0   0   0   0   0]\n",
      "we couldn't hear each other talk because of the shouting in the kitchen\n",
      "[0.01328599]\n",
      "\n",
      "\n"
     ]
    }
   ],
   "source": [
    "# Use the model to predict some reviews   \n",
    "fake_reviews = [\"I love this phone\", \n",
    "                \"Everything was cold\",\n",
    "                \"Everything was hot exactly as I wanted\", \n",
    "                \"Everything was green\", \n",
    "                \"the host seated us immediately\",\n",
    "                \"they gave us free chocolate cake\", \n",
    "                \"we couldn't hear each other talk because of the shouting in the kitchen\"\n",
    "              ]\n",
    "\n",
    "predict_review(model, fake_reviews)\n"
   ]
  },
  {
   "cell_type": "markdown",
   "metadata": {
    "colab_type": "text",
    "id": "cN5zOEngBzuX"
   },
   "source": [
    "# Define a function to train and show the results of models with different layers\n",
    "\n",
    "In the rest of this colab, we will define models, and then see the results. \n",
    "\n",
    "Define a function that will take the model, compile it, train it, graph the accuracy and loss, and then predict some results."
   ]
  },
  {
   "cell_type": "code",
   "execution_count": 16,
   "metadata": {
    "colab": {},
    "colab_type": "code",
    "id": "HOkiSRfbB0ny"
   },
   "outputs": [],
   "source": [
    "def fit_model_now (model, sentences) :\n",
    "  model.compile(loss='binary_crossentropy',optimizer='adam',metrics=['accuracy'])\n",
    "  model.summary()\n",
    "  history = model.fit(training_sequences, training_labels_final, epochs=num_epochs, \n",
    "                      validation_data=(testing_sequences, testing_labels_final))\n",
    "  return history\n",
    "\n",
    "def plot_results (history):\n",
    "  plot_graphs(history, \"accuracy\")\n",
    "  plot_graphs(history, \"loss\")\n",
    "\n",
    "def fit_model_and_show_results (model, sentences):\n",
    "  history = fit_model_now(model, sentences)\n",
    "  plot_results(history)\n",
    "  predict_review(model, sentences)"
   ]
  },
  {
   "cell_type": "markdown",
   "metadata": {
    "colab_type": "text",
    "id": "3F9D494pB3n5"
   },
   "source": [
    "# Add a bidirectional LSTM\n",
    "\n",
    "Create a new model that uses a bidirectional LSTM.\n",
    "\n",
    "Then use the function we have already defined to compile the model, train it, graph the accuracy and loss, then predict some results."
   ]
  },
  {
   "cell_type": "code",
   "execution_count": 17,
   "metadata": {
    "colab": {
     "base_uri": "https://localhost:8080/",
     "height": 1000
    },
    "colab_type": "code",
    "id": "pP7eGUq8B16k",
    "outputId": "5bc230bf-c516-4a93-e4b1-7a61371ecfb1"
   },
   "outputs": [
    {
     "name": "stdout",
     "output_type": "stream",
     "text": [
      "Model: \"sequential_1\"\n",
      "_________________________________________________________________\n",
      "Layer (type)                 Output Shape              Param #   \n",
      "=================================================================\n",
      "embedding_1 (Embedding)      (None, 50, 16)            16000     \n",
      "_________________________________________________________________\n",
      "bidirectional (Bidirectional (None, 32)                4224      \n",
      "_________________________________________________________________\n",
      "dense_2 (Dense)              (None, 6)                 198       \n",
      "_________________________________________________________________\n",
      "dense_3 (Dense)              (None, 1)                 7         \n",
      "=================================================================\n",
      "Total params: 20,429\n",
      "Trainable params: 20,429\n",
      "Non-trainable params: 0\n",
      "_________________________________________________________________\n",
      "Epoch 1/30\n",
      "50/50 [==============================] - 1s 22ms/step - loss: 0.6919 - accuracy: 0.5154 - val_loss: 0.6990 - val_accuracy: 0.4110\n",
      "Epoch 2/30\n",
      "50/50 [==============================] - 1s 10ms/step - loss: 0.6751 - accuracy: 0.5512 - val_loss: 0.6687 - val_accuracy: 0.6316\n",
      "Epoch 3/30\n",
      "50/50 [==============================] - 0s 10ms/step - loss: 0.5267 - accuracy: 0.7784 - val_loss: 0.5080 - val_accuracy: 0.7669\n",
      "Epoch 4/30\n",
      "50/50 [==============================] - 0s 9ms/step - loss: 0.3710 - accuracy: 0.8519 - val_loss: 0.4966 - val_accuracy: 0.7544\n",
      "Epoch 5/30\n",
      "50/50 [==============================] - 0s 9ms/step - loss: 0.2943 - accuracy: 0.8901 - val_loss: 0.5170 - val_accuracy: 0.7619\n",
      "Epoch 6/30\n",
      "50/50 [==============================] - 0s 9ms/step - loss: 0.2324 - accuracy: 0.9127 - val_loss: 0.6464 - val_accuracy: 0.7419\n",
      "Epoch 7/30\n",
      "50/50 [==============================] - 1s 11ms/step - loss: 0.1893 - accuracy: 0.9391 - val_loss: 0.6523 - val_accuracy: 0.7569\n",
      "Epoch 8/30\n",
      "50/50 [==============================] - 1s 10ms/step - loss: 0.1586 - accuracy: 0.9466 - val_loss: 0.6563 - val_accuracy: 0.7544\n",
      "Epoch 9/30\n",
      "50/50 [==============================] - 1s 11ms/step - loss: 0.1513 - accuracy: 0.9479 - val_loss: 0.9043 - val_accuracy: 0.7494\n",
      "Epoch 10/30\n",
      "50/50 [==============================] - 0s 9ms/step - loss: 0.1325 - accuracy: 0.9586 - val_loss: 0.9822 - val_accuracy: 0.7519\n",
      "Epoch 11/30\n",
      "50/50 [==============================] - 0s 9ms/step - loss: 0.1215 - accuracy: 0.9636 - val_loss: 0.8725 - val_accuracy: 0.7494\n",
      "Epoch 12/30\n",
      "50/50 [==============================] - 0s 9ms/step - loss: 0.0982 - accuracy: 0.9711 - val_loss: 0.9002 - val_accuracy: 0.7469\n",
      "Epoch 13/30\n",
      "50/50 [==============================] - 1s 10ms/step - loss: 0.0786 - accuracy: 0.9824 - val_loss: 1.0444 - val_accuracy: 0.7419\n",
      "Epoch 14/30\n",
      "50/50 [==============================] - 0s 9ms/step - loss: 0.0833 - accuracy: 0.9812 - val_loss: 1.0630 - val_accuracy: 0.7594\n",
      "Epoch 15/30\n",
      "50/50 [==============================] - 0s 9ms/step - loss: 0.0886 - accuracy: 0.9730 - val_loss: 1.2106 - val_accuracy: 0.7368\n",
      "Epoch 16/30\n",
      "50/50 [==============================] - 0s 10ms/step - loss: 0.0750 - accuracy: 0.9799 - val_loss: 1.1668 - val_accuracy: 0.7569\n",
      "Epoch 17/30\n",
      "50/50 [==============================] - 1s 10ms/step - loss: 0.0551 - accuracy: 0.9912 - val_loss: 1.0425 - val_accuracy: 0.7669\n",
      "Epoch 18/30\n",
      "50/50 [==============================] - 0s 9ms/step - loss: 0.0567 - accuracy: 0.9900 - val_loss: 1.0160 - val_accuracy: 0.7444\n",
      "Epoch 19/30\n",
      "50/50 [==============================] - 0s 9ms/step - loss: 0.0482 - accuracy: 0.9925 - val_loss: 1.4153 - val_accuracy: 0.7343\n",
      "Epoch 20/30\n",
      "50/50 [==============================] - 0s 9ms/step - loss: 0.0412 - accuracy: 0.9931 - val_loss: 1.2101 - val_accuracy: 0.7469\n",
      "Epoch 21/30\n",
      "50/50 [==============================] - 0s 9ms/step - loss: 0.0375 - accuracy: 0.9944 - val_loss: 1.2740 - val_accuracy: 0.7444\n",
      "Epoch 22/30\n",
      "50/50 [==============================] - 0s 10ms/step - loss: 0.0332 - accuracy: 0.9950 - val_loss: 1.3241 - val_accuracy: 0.7444\n",
      "Epoch 23/30\n",
      "50/50 [==============================] - 1s 10ms/step - loss: 0.0362 - accuracy: 0.9931 - val_loss: 1.4030 - val_accuracy: 0.7469\n",
      "Epoch 24/30\n",
      "50/50 [==============================] - 1s 10ms/step - loss: 0.0810 - accuracy: 0.9761 - val_loss: 1.5282 - val_accuracy: 0.7293\n",
      "Epoch 25/30\n",
      "50/50 [==============================] - 1s 10ms/step - loss: 0.0729 - accuracy: 0.9805 - val_loss: 1.5500 - val_accuracy: 0.7193\n",
      "Epoch 26/30\n",
      "50/50 [==============================] - 0s 9ms/step - loss: 0.0625 - accuracy: 0.9837 - val_loss: 1.6487 - val_accuracy: 0.7143\n",
      "Epoch 27/30\n",
      "50/50 [==============================] - 0s 9ms/step - loss: 0.0570 - accuracy: 0.9868 - val_loss: 1.6483 - val_accuracy: 0.7243\n",
      "Epoch 28/30\n",
      "50/50 [==============================] - 0s 9ms/step - loss: 0.0419 - accuracy: 0.9912 - val_loss: 1.4770 - val_accuracy: 0.7469\n",
      "Epoch 29/30\n",
      "50/50 [==============================] - 0s 9ms/step - loss: 0.0316 - accuracy: 0.9956 - val_loss: 1.5001 - val_accuracy: 0.7469\n",
      "Epoch 30/30\n",
      "50/50 [==============================] - 0s 9ms/step - loss: 0.0296 - accuracy: 0.9956 - val_loss: 1.5527 - val_accuracy: 0.7444\n"
     ]
    },
    {
     "data": {
      "image/png": "[encoded data removed]",
      "text/plain": [
       "<Figure size 432x288 with 1 Axes>"
      ]
     },
     "metadata": {
      "needs_background": "light",
      "tags": []
     },
     "output_type": "display_data"
    },
    {
     "data": {
      "image/png": "[encoded data removed]",
      "text/plain": [
       "<Figure size 432x288 with 1 Axes>"
      ]
     },
     "metadata": {
      "needs_background": "light",
      "tags": []
     },
     "output_type": "display_data"
    },
    {
     "name": "stdout",
     "output_type": "stream",
     "text": [
      "[  4 281  16  25   0   0   0   0   0   0   0   0   0   0   0   0   0   0\n",
      "   0   0   0   0   0   0   0   0   0   0   0   0   0   0   0   0   0   0\n",
      "   0   0   0   0   0   0   0   0   0   0   0   0   0   0]\n",
      "I love this phone\n",
      "[0.99872476]\n",
      "\n",
      "\n",
      "[812 227 864 100 775   9 525 843   0   0   0   0   0   0   0   0   0   0\n",
      "   0   0   0   0   0   0   0   0   0   0   0   0   0   0   0   0   0   0\n",
      "   0   0   0   0   0   0   0   0   0   0   0   0   0   0]\n",
      "Everything was cold\n",
      "[0.01407116]\n",
      "\n",
      "\n",
      "[812 227 864 100 775   9 109   8 333 731  24  61   4 171  59  77   0   0\n",
      "   0   0   0   0   0   0   0   0   0   0   0   0   0   0   0   0   0   0\n",
      "   0   0   0   0   0   0   0   0   0   0   0   0   0   0]\n",
      "Everything was hot exactly as I wanted\n",
      "[0.20281683]\n",
      "\n",
      "\n",
      "[812 227 864 100 775   9 157 359 853   0   0   0   0   0   0   0   0   0\n",
      "   0   0   0   0   0   0   0   0   0   0   0   0   0   0   0   0   0   0\n",
      "   0   0   0   0   0   0   0   0   0   0   0   0   0   0]\n",
      "Everything was green\n",
      "[0.02202881]\n",
      "\n",
      "\n",
      "[  1 109 228 540 237 635 241 423 340  89 298   0   0   0   0   0   0   0\n",
      "   0   0   0   0   0   0   0   0   0   0   0   0   0   0   0   0   0   0\n",
      "   0   0   0   0   0   0   0   0   0   0   0   0   0   0]\n",
      "the host seated us immediately\n",
      "[0.9954371]\n",
      "\n",
      "\n",
      "[154 242  47 635 341  12 569 547 147 319 775 125  85   0   0   0   0   0\n",
      "   0   0   0   0   0   0   0   0   0   0   0   0   0   0   0   0   0   0\n",
      "   0   0   0   0   0   0   0   0   0   0   0   0   0   0]\n",
      "they gave us free chocolate cake\n",
      "[0.9972101]\n",
      "\n",
      "\n",
      "[158 190 853 782   8 607 775 210 232 146 775 470  67 305 101  15   1 328\n",
      " 296  26  19   1 661 641 195   0   0   0   0   0   0   0   0   0   0   0\n",
      "   0   0   0   0   0   0   0   0   0   0   0   0   0   0]\n",
      "we couldn't hear each other talk because of the shouting in the kitchen\n",
      "[0.01071847]\n",
      "\n",
      "\n"
     ]
    }
   ],
   "source": [
    "# Define the model\n",
    "model_bidi_lstm = tf.keras.Sequential([\n",
    "    tf.keras.layers.Embedding(vocab_size, embedding_dim, input_length=max_length),\n",
    "    tf.keras.layers.Bidirectional(tf.keras.layers.LSTM(embedding_dim)), \n",
    "    tf.keras.layers.Dense(6, activation='relu'), \n",
    "    tf.keras.layers.Dense(1, activation='sigmoid')\n",
    "])\n",
    "\n",
    "# Compile and train the model and then show the predictions for our extra sentences\n",
    "fit_model_and_show_results(model_bidi_lstm, fake_reviews)\n"
   ]
  },
  {
   "cell_type": "markdown",
   "metadata": {
    "colab_type": "text",
    "id": "tiglgH_dB6xr"
   },
   "source": [
    "# Use multiple bidirectional layers\n",
    "\n",
    "Now let's see if we get any improvements from adding another Bidirectional LSTM layer to the model.\n",
    "\n",
    "Notice that the first Bidirectionl LSTM layer returns a sequence."
   ]
  },
  {
   "cell_type": "code",
   "execution_count": 18,
   "metadata": {
    "colab": {
     "base_uri": "https://localhost:8080/",
     "height": 1000
    },
    "colab_type": "code",
    "id": "H-6hlHskB13O",
    "outputId": "1ace414f-e9fc-40f2-cc39-5d70090dda65"
   },
   "outputs": [
    {
     "name": "stdout",
     "output_type": "stream",
     "text": [
      "Model: \"sequential_2\"\n",
      "_________________________________________________________________\n",
      "Layer (type)                 Output Shape              Param #   \n",
      "=================================================================\n",
      "embedding_2 (Embedding)      (None, 50, 16)            16000     \n",
      "_________________________________________________________________\n",
      "bidirectional_1 (Bidirection (None, 50, 32)            4224      \n",
      "_________________________________________________________________\n",
      "bidirectional_2 (Bidirection (None, 32)                6272      \n",
      "_________________________________________________________________\n",
      "dense_4 (Dense)              (None, 6)                 198       \n",
      "_________________________________________________________________\n",
      "dense_5 (Dense)              (None, 1)                 7         \n",
      "=================================================================\n",
      "Total params: 26,701\n",
      "Trainable params: 26,701\n",
      "Non-trainable params: 0\n",
      "_________________________________________________________________\n",
      "Epoch 1/30\n",
      "50/50 [==============================] - 2s 38ms/step - loss: 0.6914 - accuracy: 0.5223 - val_loss: 0.7030 - val_accuracy: 0.4110\n",
      "Epoch 2/30\n",
      "50/50 [==============================] - 1s 14ms/step - loss: 0.6588 - accuracy: 0.5800 - val_loss: 0.6652 - val_accuracy: 0.5639\n",
      "Epoch 3/30\n",
      "50/50 [==============================] - 1s 17ms/step - loss: 0.4784 - accuracy: 0.8123 - val_loss: 0.5752 - val_accuracy: 0.7368\n",
      "Epoch 4/30\n",
      "50/50 [==============================] - 1s 17ms/step - loss: 0.3339 - accuracy: 0.8738 - val_loss: 0.6423 - val_accuracy: 0.7569\n",
      "Epoch 5/30\n",
      "50/50 [==============================] - 1s 16ms/step - loss: 0.2613 - accuracy: 0.8933 - val_loss: 0.6480 - val_accuracy: 0.7343\n",
      "Epoch 6/30\n",
      "50/50 [==============================] - 1s 15ms/step - loss: 0.1982 - accuracy: 0.9291 - val_loss: 0.6755 - val_accuracy: 0.7519\n",
      "Epoch 7/30\n",
      "50/50 [==============================] - 1s 14ms/step - loss: 0.1700 - accuracy: 0.9410 - val_loss: 0.7369 - val_accuracy: 0.7569\n",
      "Epoch 8/30\n",
      "50/50 [==============================] - 1s 14ms/step - loss: 0.1342 - accuracy: 0.9605 - val_loss: 0.7639 - val_accuracy: 0.7794\n",
      "Epoch 9/30\n",
      "50/50 [==============================] - 1s 15ms/step - loss: 0.1097 - accuracy: 0.9705 - val_loss: 0.9304 - val_accuracy: 0.7494\n",
      "Epoch 10/30\n",
      "50/50 [==============================] - 1s 14ms/step - loss: 0.0999 - accuracy: 0.9743 - val_loss: 0.9490 - val_accuracy: 0.7544\n",
      "Epoch 11/30\n",
      "50/50 [==============================] - 1s 14ms/step - loss: 0.0826 - accuracy: 0.9805 - val_loss: 1.0866 - val_accuracy: 0.7368\n",
      "Epoch 12/30\n",
      "50/50 [==============================] - 1s 15ms/step - loss: 0.0727 - accuracy: 0.9831 - val_loss: 1.0949 - val_accuracy: 0.7519\n",
      "Epoch 13/30\n",
      "50/50 [==============================] - 1s 16ms/step - loss: 0.0722 - accuracy: 0.9831 - val_loss: 1.3035 - val_accuracy: 0.7318\n",
      "Epoch 14/30\n",
      "50/50 [==============================] - 1s 14ms/step - loss: 0.1060 - accuracy: 0.9699 - val_loss: 0.8344 - val_accuracy: 0.7744\n",
      "Epoch 15/30\n",
      "50/50 [==============================] - 1s 14ms/step - loss: 0.1199 - accuracy: 0.9648 - val_loss: 0.8988 - val_accuracy: 0.7619\n",
      "Epoch 16/30\n",
      "50/50 [==============================] - 1s 14ms/step - loss: 0.0821 - accuracy: 0.9812 - val_loss: 1.0178 - val_accuracy: 0.7569\n",
      "Epoch 17/30\n",
      "50/50 [==============================] - 1s 14ms/step - loss: 0.0777 - accuracy: 0.9812 - val_loss: 1.0891 - val_accuracy: 0.7669\n",
      "Epoch 18/30\n",
      "50/50 [==============================] - 1s 14ms/step - loss: 0.0833 - accuracy: 0.9774 - val_loss: 0.9208 - val_accuracy: 0.7569\n",
      "Epoch 19/30\n",
      "50/50 [==============================] - 1s 14ms/step - loss: 0.0641 - accuracy: 0.9862 - val_loss: 1.1231 - val_accuracy: 0.7393\n",
      "Epoch 20/30\n",
      "50/50 [==============================] - 1s 15ms/step - loss: 0.0571 - accuracy: 0.9881 - val_loss: 1.1479 - val_accuracy: 0.7594\n",
      "Epoch 21/30\n",
      "50/50 [==============================] - 1s 14ms/step - loss: 0.0550 - accuracy: 0.9887 - val_loss: 1.1901 - val_accuracy: 0.7594\n",
      "Epoch 22/30\n",
      "50/50 [==============================] - 1s 14ms/step - loss: 0.0544 - accuracy: 0.9887 - val_loss: 1.2309 - val_accuracy: 0.7594\n",
      "Epoch 23/30\n",
      "50/50 [==============================] - 1s 14ms/step - loss: 0.0544 - accuracy: 0.9887 - val_loss: 1.2504 - val_accuracy: 0.7619\n",
      "Epoch 24/30\n",
      "50/50 [==============================] - 1s 14ms/step - loss: 0.0542 - accuracy: 0.9887 - val_loss: 1.2719 - val_accuracy: 0.7619\n",
      "Epoch 25/30\n",
      "50/50 [==============================] - 1s 14ms/step - loss: 0.0540 - accuracy: 0.9887 - val_loss: 1.2795 - val_accuracy: 0.7644\n",
      "Epoch 26/30\n",
      "50/50 [==============================] - 1s 14ms/step - loss: 0.0541 - accuracy: 0.9887 - val_loss: 1.2968 - val_accuracy: 0.7644\n",
      "Epoch 27/30\n",
      "50/50 [==============================] - 1s 14ms/step - loss: 0.0538 - accuracy: 0.9887 - val_loss: 1.3081 - val_accuracy: 0.7644\n",
      "Epoch 28/30\n",
      "50/50 [==============================] - 1s 14ms/step - loss: 0.0537 - accuracy: 0.9887 - val_loss: 1.3254 - val_accuracy: 0.7669\n",
      "Epoch 29/30\n",
      "50/50 [==============================] - 1s 15ms/step - loss: 0.0536 - accuracy: 0.9887 - val_loss: 1.3361 - val_accuracy: 0.7619\n",
      "Epoch 30/30\n",
      "50/50 [==============================] - 1s 16ms/step - loss: 0.0537 - accuracy: 0.9887 - val_loss: 1.3501 - val_accuracy: 0.7619\n"
     ]
    },
    {
     "data": {
      "image/png": "[encoded data removed]",
      "text/plain": [
       "<Figure size 432x288 with 1 Axes>"
      ]
     },
     "metadata": {
      "needs_background": "light",
      "tags": []
     },
     "output_type": "display_data"
    },
    {
     "data": {
      "image/png": "[encoded data removed]",
      "text/plain": [
       "<Figure size 432x288 with 1 Axes>"
      ]
     },
     "metadata": {
      "needs_background": "light",
      "tags": []
     },
     "output_type": "display_data"
    },
    {
     "name": "stdout",
     "output_type": "stream",
     "text": [
      "[  4 281  16  25   0   0   0   0   0   0   0   0   0   0   0   0   0   0\n",
      "   0   0   0   0   0   0   0   0   0   0   0   0   0   0   0   0   0   0\n",
      "   0   0   0   0   0   0   0   0   0   0   0   0   0   0]\n",
      "I love this phone\n",
      "[0.9999465]\n",
      "\n",
      "\n",
      "[812 227 864 100 775   9 525 843   0   0   0   0   0   0   0   0   0   0\n",
      "   0   0   0   0   0   0   0   0   0   0   0   0   0   0   0   0   0   0\n",
      "   0   0   0   0   0   0   0   0   0   0   0   0   0   0]\n",
      "Everything was cold\n",
      "[0.02729134]\n",
      "\n",
      "\n",
      "[812 227 864 100 775   9 109   8 333 731  24  61   4 171  59  77   0   0\n",
      "   0   0   0   0   0   0   0   0   0   0   0   0   0   0   0   0   0   0\n",
      "   0   0   0   0   0   0   0   0   0   0   0   0   0   0]\n",
      "Everything was hot exactly as I wanted\n",
      "[0.9990119]\n",
      "\n",
      "\n",
      "[812 227 864 100 775   9 157 359 853   0   0   0   0   0   0   0   0   0\n",
      "   0   0   0   0   0   0   0   0   0   0   0   0   0   0   0   0   0   0\n",
      "   0   0   0   0   0   0   0   0   0   0   0   0   0   0]\n",
      "Everything was green\n",
      "[0.02564479]\n",
      "\n",
      "\n",
      "[  1 109 228 540 237 635 241 423 340  89 298   0   0   0   0   0   0   0\n",
      "   0   0   0   0   0   0   0   0   0   0   0   0   0   0   0   0   0   0\n",
      "   0   0   0   0   0   0   0   0   0   0   0   0   0   0]\n",
      "the host seated us immediately\n",
      "[0.02473117]\n",
      "\n",
      "\n",
      "[154 242  47 635 341  12 569 547 147 319 775 125  85   0   0   0   0   0\n",
      "   0   0   0   0   0   0   0   0   0   0   0   0   0   0   0   0   0   0\n",
      "   0   0   0   0   0   0   0   0   0   0   0   0   0   0]\n",
      "they gave us free chocolate cake\n",
      "[0.99992454]\n",
      "\n",
      "\n",
      "[158 190 853 782   8 607 775 210 232 146 775 470  67 305 101  15   1 328\n",
      " 296  26  19   1 661 641 195   0   0   0   0   0   0   0   0   0   0   0\n",
      "   0   0   0   0   0   0   0   0   0   0   0   0   0   0]\n",
      "we couldn't hear each other talk because of the shouting in the kitchen\n",
      "[0.02545766]\n",
      "\n",
      "\n"
     ]
    }
   ],
   "source": [
    "model_multiple_bidi_lstm = tf.keras.Sequential([\n",
    "    tf.keras.layers.Embedding(vocab_size, embedding_dim, input_length=max_length),\n",
    "    tf.keras.layers.Bidirectional(tf.keras.layers.LSTM(embedding_dim, \n",
    "                                                       return_sequences=True)), \n",
    "    tf.keras.layers.Bidirectional(tf.keras.layers.LSTM(embedding_dim)),\n",
    "    tf.keras.layers.Dense(6, activation='relu'),\n",
    "    tf.keras.layers.Dense(1, activation='sigmoid')\n",
    "])\n",
    "\n",
    "fit_model_and_show_results(model_multiple_bidi_lstm, fake_reviews)"
   ]
  },
  {
   "cell_type": "markdown",
   "metadata": {
    "colab_type": "text",
    "id": "AzAiJe8sB9Wm"
   },
   "source": [
    "# Compare predictions for all the models\n",
    "\n",
    "It can be hard to see which model gives a better prediction for different reviews when you examine each model separately. So for comparison purposes, here we define some more reviews and print out the predictions that each of the three models gives for each review:\n",
    "\n",
    "*   Embeddings and a Global Average Pooling layer\n",
    "*   Embeddings and a Bidirectional LSTM layer\n",
    "*   Embeddings and two Bidirectional LSTM layers\n",
    "\n",
    "The results are not always what you might expect. The input dataset is fairly small, it has less than 2000 reviews. Some of the reviews are fairly short, and some of the short ones are fairly repetitive which reduces their impact on improving the  model, such as these two reviews:\n",
    "\n",
    "*   Bad Quality.\n",
    "*   Low Quality.\n",
    "\n",
    "Feel free to add more reviews of your own, or change the reviews. The results will depend on the combination of words in the reviews, and how well they match to reviews in the training set. \n",
    "\n",
    "How do the different models handle things like \"wasn't good\" which contains a positive word (good) but is a poor review?\n",
    "\n",
    "\n",
    "\n",
    "\n",
    "\n",
    "\n",
    "\n"
   ]
  },
  {
   "cell_type": "code",
   "execution_count": 19,
   "metadata": {
    "colab": {},
    "colab_type": "code",
    "id": "LonwjIB8CAH7"
   },
   "outputs": [],
   "source": [
    "my_reviews =[\"lovely\", \"dreadful\", \"stay away\",\n",
    "             \"everything was hot exactly as I wanted\",\n",
    "             \"everything was not exactly as I wanted\",\n",
    "             \"they gave us free chocolate cake\",\n",
    "             \"I've never eaten anything so spicy in my life, my throat burned for hours\",\n",
    "             \"for a phone that is as expensive as this one I expect it to be much easier to use than this thing is\",\n",
    "             \"we left there very full for a low price so I'd say you just can't go wrong at this place\",\n",
    "             \"that place does not have quality meals and it isn't a good place to go for dinner\",\n",
    "             ]"
   ]
  },
  {
   "cell_type": "code",
   "execution_count": 20,
   "metadata": {
    "colab": {
     "base_uri": "https://localhost:8080/",
     "height": 748
    },
    "colab_type": "code",
    "id": "H4FLcimRCB53",
    "outputId": "e8112de0-3657-4bce-cde8-29c3f476a898"
   },
   "outputs": [
    {
     "name": "stdout",
     "output_type": "stream",
     "text": [
      "===================================\n",
      " Embeddings only:\n",
      " ===================================\n",
      "lovely\n",
      "[0.92708254]\n",
      "\n",
      "\n",
      "dreadful\n",
      "[0.32230794]\n",
      "\n",
      "\n",
      "stay away\n",
      "[0.6518728]\n",
      "\n",
      "\n",
      "everything was hot exactly as I wanted\n",
      "[0.7750879]\n",
      "\n",
      "\n",
      "everything was not exactly as I wanted\n",
      "[0.55371344]\n",
      "\n",
      "\n",
      "they gave us free chocolate cake\n",
      "[0.73490804]\n",
      "\n",
      "\n",
      "I've never eaten anything so spicy in my life, my throat burned for hours\n",
      "[0.01812866]\n",
      "\n",
      "\n",
      "for a phone that is as expensive as this one I expect it to be much easier to use than this thing is\n",
      "[0.6021914]\n",
      "\n",
      "\n",
      "we left there very full for a low price so I'd say you just can't go wrong at this place\n",
      "[0.79115725]\n",
      "\n",
      "\n",
      "that place does not have quality meals and it isn't a good place to go for dinner\n",
      "[0.88204527]\n",
      "\n",
      "\n"
     ]
    }
   ],
   "source": [
    "print(\"===================================\\n\",\"Embeddings only:\\n\", \"===================================\",)\n",
    "predict_review(model, my_reviews, show_padded_sequence=False)"
   ]
  },
  {
   "cell_type": "code",
   "execution_count": 21,
   "metadata": {
    "colab": {
     "base_uri": "https://localhost:8080/",
     "height": 748
    },
    "colab_type": "code",
    "id": "R9KGJulfCC0S",
    "outputId": "dc260ee7-81a9-489b-bf33-19746f4a12bd"
   },
   "outputs": [
    {
     "name": "stdout",
     "output_type": "stream",
     "text": [
      "===================================\n",
      " With a single bidirectional LSTM:\n",
      " ===================================\n",
      "lovely\n",
      "[0.9992417]\n",
      "\n",
      "\n",
      "dreadful\n",
      "[0.00907197]\n",
      "\n",
      "\n",
      "stay away\n",
      "[0.0233862]\n",
      "\n",
      "\n",
      "everything was hot exactly as I wanted\n",
      "[0.6811935]\n",
      "\n",
      "\n",
      "everything was not exactly as I wanted\n",
      "[0.01769193]\n",
      "\n",
      "\n",
      "they gave us free chocolate cake\n",
      "[0.9972101]\n",
      "\n",
      "\n",
      "I've never eaten anything so spicy in my life, my throat burned for hours\n",
      "[0.01404104]\n",
      "\n",
      "\n",
      "for a phone that is as expensive as this one I expect it to be much easier to use than this thing is\n",
      "[0.01039576]\n",
      "\n",
      "\n",
      "we left there very full for a low price so I'd say you just can't go wrong at this place\n",
      "[0.9999728]\n",
      "\n",
      "\n",
      "that place does not have quality meals and it isn't a good place to go for dinner\n",
      "[0.99948883]\n",
      "\n",
      "\n"
     ]
    }
   ],
   "source": [
    "print(\"===================================\\n\", \"With a single bidirectional LSTM:\\n\", \"===================================\")\n",
    "predict_review(model_bidi_lstm, my_reviews, show_padded_sequence=False)"
   ]
  },
  {
   "cell_type": "code",
   "execution_count": 22,
   "metadata": {
    "colab": {
     "base_uri": "https://localhost:8080/",
     "height": 748
    },
    "colab_type": "code",
    "id": "tO1plEfwCEEL",
    "outputId": "80d82144-b552-400f-bcca-3659fad3a830"
   },
   "outputs": [
    {
     "name": "stdout",
     "output_type": "stream",
     "text": [
      "===================================\n",
      " With two bidirectional LSTMs:\n",
      " ===================================\n",
      "lovely\n",
      "[0.99993587]\n",
      "\n",
      "\n",
      "dreadful\n",
      "[0.0210799]\n",
      "\n",
      "\n",
      "stay away\n",
      "[0.33392268]\n",
      "\n",
      "\n",
      "everything was hot exactly as I wanted\n",
      "[0.999716]\n",
      "\n",
      "\n",
      "everything was not exactly as I wanted\n",
      "[0.04492097]\n",
      "\n",
      "\n",
      "they gave us free chocolate cake\n",
      "[0.99992454]\n",
      "\n",
      "\n",
      "I've never eaten anything so spicy in my life, my throat burned for hours\n",
      "[0.0302036]\n",
      "\n",
      "\n",
      "for a phone that is as expensive as this one I expect it to be much easier to use than this thing is\n",
      "[0.02199314]\n",
      "\n",
      "\n",
      "we left there very full for a low price so I'd say you just can't go wrong at this place\n",
      "[0.9997241]\n",
      "\n",
      "\n",
      "that place does not have quality meals and it isn't a good place to go for dinner\n",
      "[0.02401786]\n",
      "\n",
      "\n"
     ]
    }
   ],
   "source": [
    "print(\"===================================\\n\",\"With two bidirectional LSTMs:\\n\", \"===================================\")\n",
    "predict_review(model_multiple_bidi_lstm, my_reviews, show_padded_sequence=False)"
   ]
  },
  {
   "cell_type": "code",
   "execution_count": 22,
   "metadata": {
    "colab": {},
    "colab_type": "code",
    "id": "Hvy4Ldy1CGg7"
   },
   "outputs": [],
   "source": []
  }
 ],
 "metadata": {
  "accelerator": "GPU",
  "colab": {
   "collapsed_sections": [],
   "name": "l10c01_nlp_lstms_with_reviews_subwords_dataset.ipynb",
   "provenance": []
  },
  "kernelspec": {
   "display_name": "Python 3",
   "language": "python",
   "name": "python3"
  },
  "language_info": {
   "codemirror_mode": {
    "name": "ipython",
    "version": 3
   },
   "file_extension": ".py",
   "mimetype": "text/x-python",
   "name": "python",
   "nbconvert_exporter": "python",
   "pygments_lexer": "ipython3",
   "version": "3.7.2"
  }
 },
 "nbformat": 4,
 "nbformat_minor": 1
}
