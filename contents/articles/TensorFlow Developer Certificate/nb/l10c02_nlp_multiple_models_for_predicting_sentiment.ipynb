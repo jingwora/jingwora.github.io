{
 "cells": [
  {
   "cell_type": "markdown",
   "metadata": {
    "colab_type": "text",
    "id": "yoWmH3jGJp9y"
   },
   "source": [
    "# Using LSTMs, CNNs, GRUs with a larger dataset"
   ]
  },
  {
   "cell_type": "markdown",
   "metadata": {
    "colab_type": "text",
    "id": "vSd9IxuZJsI3"
   },
   "source": [
    "In this colab, you use different kinds of layers to see how they affect the model.\n",
    "\n",
    "You will use the glue/sst2 dataset, which is available through tensorflow_datasets. \n",
    "\n",
    "The General Language Understanding Evaluation (GLUE) benchmark (https://gluebenchmark.com/) is a collection of resources for training, evaluating, and analyzing natural language understanding systems.\n",
    "\n",
    "These resources include the Stanford Sentiment Treebank (SST) dataset that consists of sentences from movie reviews and human annotations of their sentiment. This colab uses version 2 of the SST dataset.\n",
    "\n",
    "The splits are:\n",
    "\n",
    "*   train\t67,349\n",
    "*   validation\t872\n",
    "\n",
    "\n",
    "and the column headings are:\n",
    "\n",
    "*   sentence\n",
    "*   label\n",
    "\n",
    "\n",
    "For more information about the dataset, see [https://www.tensorflow.org/datasets/catalog/glue#gluesst2](https://www.tensorflow.org/datasets/catalog/glue#gluesst2)"
   ]
  },
  {
   "cell_type": "code",
   "execution_count": 1,
   "metadata": {
    "colab": {},
    "colab_type": "code",
    "id": "MyRhcPczJtVu"
   },
   "outputs": [],
   "source": [
    "import tensorflow as tf\n",
    "import tensorflow_datasets as tfds\n",
    "\n",
    "import numpy as np"
   ]
  },
  {
   "cell_type": "markdown",
   "metadata": {
    "colab_type": "text",
    "id": "vodxWKlsJw7D"
   },
   "source": [
    "# Get the dataset\n"
   ]
  },
  {
   "cell_type": "code",
   "execution_count": 2,
   "metadata": {
    "colab": {
     "base_uri": "https://localhost:8080/",
     "height": 569,
     "referenced_widgets": [
      "34cb610fa02a4c6aa1dbae8de4d20e15",
      "6ed3e83b9b874e058b306f0d62f39b68",
      "21337688a5234c76a4d8713dfa345874",
      "d6cad663313f449d815094f57a37ef12",
      "1d1e978dd82742969c890ed666b09ae1",
      "02f364e0a7484435a2811dd98728f6ad",
      "a3d6cb9e3bac466f8e89d9c685e17ee3",
      "2a788d009dc94d83aab4690c1bb15c80",
      "f7dd3768e1c24317b6ea86ba69785cbe",
      "db9a36a2dea8475b98b38368d2614fb9",
      "225cf31be71541c2a4b3812042e674f1",
      "6ad96ff0318849568118c7d1cc73f6ef",
      "5d2c7c3de7b9476bbbe64cb5b0bb7dca",
      "5c98a7a83093460d8526d235ada2bc19",
      "519ea5fc1f4a4df0a8cee128b2eed0ba",
      "865280a7b646468183d837dc66d530f8",
      "c0a19aa4793440ebb9c68aaeddba47f4",
      "1e4a29090c69401482f032b7abc7b024",
      "90863c4613f540dda350c20a808e0bd8",
      "f1591636e2b44b1896b0d9846f8d362a",
      "7a7fe62dbe9b4744b0bef9cd1cd5adff",
      "45c9ba0cb04e427299e2f1fc2a6daa5d",
      "54f8af0d1e3b4453b7a11c0725f0b129",
      "a38060256585451d8126975a1c2fa2c2",
      "302f1f810a4b4182837c6d440ee8397a",
      "525d9d41324248f4aa82c2b4cb6bf757",
      "7fa1635321de43eba7d11aba9c8a5965",
      "a5687303ca144db6a328e1669cc95e79",
      "bb5e96afee664b90be2e14eee1e6c2ae",
      "7f7ce10dfb7c4e38acaa4307127b4a53",
      "e95156167f564c7ea738dab63a42afe0",
      "afe1036399d24dcaaa5540982b5271d4",
      "f2d399378d1a4ba0a8a09a359416d699",
      "f5f88c08db844aa9958d975f893d68ee",
      "c126c0d0f7544d269109879137907285",
      "e7c575cf217a4f5f882a601e3400c925",
      "88c3388cbf91402d8672d9ed188a5259",
      "57bcc11d1e12409ab1bfdc3c21e4c2ca",
      "e11ef90a72ce47c1964e1ec12c3df1e3",
      "0d763e252aeb4511afed13e14cd906ef",
      "6923fc620e9f4939bf9ecfd60aac1830",
      "2f029dd0a573494c90ca60032692a87a",
      "11dd00bc138c4265a1f6d9337dc2ede9",
      "751f7a58768540b9b01f6947769151da",
      "9741df96ebab4ae9a3aa9bff966e0a2f",
      "e9af158fd89b4001b58c678a7309f890",
      "2b9110270a394f8eaed1861264ec57ce",
      "2365694938e542b3ab1c9f5300220501",
      "9a4281856f534232a9b9bc31b186cfe2",
      "24344f370a144b7f85bfaa81bb110479",
      "84348e7684224b0b8594155e8f0607f8",
      "75b3e438424e477fa87902011c86c724",
      "00fecc067c1348ad83fbf196a632228a",
      "3618313048664cccbc6e15491167cf6a",
      "e0ca22896fc24a23adabdeef64e17848",
      "6d93b38c11bf44d2aecc905fbfe2f6a0",
      "8706856fe13c4d47b2e5fb5c9240b234",
      "62f2e0f379a9494ea5bbe8fda3b01fe4",
      "29b3d6084f2541e999e1b7d126ed37d9",
      "01ea266e17244f1a9ea29eb5734f5b40",
      "9764fa1e21734050bac6ecc5bdaf5134",
      "a7970048131c4dc483d20b9836d5094e",
      "e9bf785ff4fe43c38ba67e846cfd3e7a",
      "4eb77c3151b240c19db50f07785d6950",
      "8ad761fa4c174664917f1c013b3b4f2e",
      "31b7f42875284793ae967bf118057b90",
      "215f5600e22d4d16ae70b536ae5d07a1",
      "4017670389e347b6aced753d6b7d73de",
      "6b977a143020416a9b81cb3255c86b01",
      "0f9c1c2d2129458b881abd6a18fcdc50",
      "041287272a7f414d934c36f6465e3c5b",
      "bd71b219bc7d402ba50a7ff4bf3cc4b3"
     ]
    },
    "colab_type": "code",
    "id": "SyBcIqr7Jtds",
    "outputId": "afeac981-b0ea-4442-82fb-c2044bea1b8b"
   },
   "outputs": [
    {
     "name": "stdout",
     "output_type": "stream",
     "text": [
      "\u001b[1mDownloading and preparing dataset glue/sst2/1.0.0 (download: 7.09 MiB, generated: Unknown size, total: 7.09 MiB) to /root/tensorflow_datasets/glue/sst2/1.0.0...\u001b[0m\n"
     ]
    },
    {
     "data": {
      "application/vnd.jupyter.widget-view+json": {
       "model_id": "34cb610fa02a4c6aa1dbae8de4d20e15",
       "version_major": 2,
       "version_minor": 0
      },
      "text/plain": [
       "HBox(children=(FloatProgress(value=1.0, bar_style='info', description='Dl Completed...', max=1.0, style=Progre…"
      ]
     },
     "metadata": {
      "tags": []
     },
     "output_type": "display_data"
    },
    {
     "data": {
      "application/vnd.jupyter.widget-view+json": {
       "model_id": "f7dd3768e1c24317b6ea86ba69785cbe",
       "version_major": 2,
       "version_minor": 0
      },
      "text/plain": [
       "HBox(children=(FloatProgress(value=1.0, bar_style='info', description='Dl Size...', max=1.0, style=ProgressSty…"
      ]
     },
     "metadata": {
      "tags": []
     },
     "output_type": "display_data"
    },
    {
     "data": {
      "application/vnd.jupyter.widget-view+json": {
       "model_id": "c0a19aa4793440ebb9c68aaeddba47f4",
       "version_major": 2,
       "version_minor": 0
      },
      "text/plain": [
       "HBox(children=(FloatProgress(value=1.0, bar_style='info', description='Extraction completed...', max=1.0, styl…"
      ]
     },
     "metadata": {
      "tags": []
     },
     "output_type": "display_data"
    },
    {
     "name": "stderr",
     "output_type": "stream",
     "text": [
      "/usr/local/lib/python3.6/dist-packages/urllib3/connectionpool.py:847: InsecureRequestWarning: Unverified HTTPS request is being made. Adding certificate verification is strongly advised. See: https://urllib3.readthedocs.io/en/latest/advanced-usage.html#ssl-warnings\n",
      "  InsecureRequestWarning)\n"
     ]
    },
    {
     "name": "stdout",
     "output_type": "stream",
     "text": [
      "\n",
      "\n",
      "\n",
      "\n",
      "\n",
      "\n"
     ]
    },
    {
     "data": {
      "application/vnd.jupyter.widget-view+json": {
       "model_id": "302f1f810a4b4182837c6d440ee8397a",
       "version_major": 2,
       "version_minor": 0
      },
      "text/plain": [
       "HBox(children=(FloatProgress(value=1.0, bar_style='info', max=1.0), HTML(value='')))"
      ]
     },
     "metadata": {
      "tags": []
     },
     "output_type": "display_data"
    },
    {
     "name": "stdout",
     "output_type": "stream",
     "text": [
      "\r",
      "Shuffling and writing examples to /root/tensorflow_datasets/glue/sst2/1.0.0.incompleteQNAJNR/glue-train.tfrecord\n"
     ]
    },
    {
     "data": {
      "application/vnd.jupyter.widget-view+json": {
       "model_id": "f2d399378d1a4ba0a8a09a359416d699",
       "version_major": 2,
       "version_minor": 0
      },
      "text/plain": [
       "HBox(children=(FloatProgress(value=0.0, max=67349.0), HTML(value='')))"
      ]
     },
     "metadata": {
      "tags": []
     },
     "output_type": "display_data"
    },
    {
     "data": {
      "application/vnd.jupyter.widget-view+json": {
       "model_id": "6923fc620e9f4939bf9ecfd60aac1830",
       "version_major": 2,
       "version_minor": 0
      },
      "text/plain": [
       "HBox(children=(FloatProgress(value=1.0, bar_style='info', max=1.0), HTML(value='')))"
      ]
     },
     "metadata": {
      "tags": []
     },
     "output_type": "display_data"
    },
    {
     "name": "stdout",
     "output_type": "stream",
     "text": [
      "Shuffling and writing examples to /root/tensorflow_datasets/glue/sst2/1.0.0.incompleteQNAJNR/glue-validation.tfrecord\n"
     ]
    },
    {
     "data": {
      "application/vnd.jupyter.widget-view+json": {
       "model_id": "9a4281856f534232a9b9bc31b186cfe2",
       "version_major": 2,
       "version_minor": 0
      },
      "text/plain": [
       "HBox(children=(FloatProgress(value=0.0, max=872.0), HTML(value='')))"
      ]
     },
     "metadata": {
      "tags": []
     },
     "output_type": "display_data"
    },
    {
     "data": {
      "application/vnd.jupyter.widget-view+json": {
       "model_id": "8706856fe13c4d47b2e5fb5c9240b234",
       "version_major": 2,
       "version_minor": 0
      },
      "text/plain": [
       "HBox(children=(FloatProgress(value=1.0, bar_style='info', max=1.0), HTML(value='')))"
      ]
     },
     "metadata": {
      "tags": []
     },
     "output_type": "display_data"
    },
    {
     "name": "stdout",
     "output_type": "stream",
     "text": [
      "Shuffling and writing examples to /root/tensorflow_datasets/glue/sst2/1.0.0.incompleteQNAJNR/glue-test.tfrecord\n"
     ]
    },
    {
     "data": {
      "application/vnd.jupyter.widget-view+json": {
       "model_id": "8ad761fa4c174664917f1c013b3b4f2e",
       "version_major": 2,
       "version_minor": 0
      },
      "text/plain": [
       "HBox(children=(FloatProgress(value=0.0, max=1821.0), HTML(value='')))"
      ]
     },
     "metadata": {
      "tags": []
     },
     "output_type": "display_data"
    },
    {
     "name": "stdout",
     "output_type": "stream",
     "text": [
      "\u001b[1mDataset glue downloaded and prepared to /root/tensorflow_datasets/glue/sst2/1.0.0. Subsequent calls will reuse this data.\u001b[0m\n",
      "FeaturesDict({\n",
      "    'idx': tf.int32,\n",
      "    'label': ClassLabel(shape=(), dtype=tf.int64, num_classes=2),\n",
      "    'sentence': Text(shape=(), dtype=tf.string),\n",
      "})\n",
      "2\n",
      "['negative', 'positive']\n"
     ]
    }
   ],
   "source": [
    "# Get the dataset.\n",
    "# It has 70000 items, so might take a while to download\n",
    "dataset, info = tfds.load('glue/sst2', with_info=True)\n",
    "print(info.features)\n",
    "print(info.features[\"label\"].num_classes)\n",
    "print(info.features[\"label\"].names)\n"
   ]
  },
  {
   "cell_type": "code",
   "execution_count": 3,
   "metadata": {
    "colab": {
     "base_uri": "https://localhost:8080/",
     "height": 34
    },
    "colab_type": "code",
    "id": "lCl1R4PEJtlz",
    "outputId": "89fc5d9e-4855-4d2e-9b9d-63f9538b0f15"
   },
   "outputs": [
    {
     "data": {
      "text/plain": [
       "<DatasetV1Adapter shapes: {idx: (), label: (), sentence: ()}, types: {idx: tf.int32, label: tf.int64, sentence: tf.string}>"
      ]
     },
     "execution_count": 3,
     "metadata": {
      "tags": []
     },
     "output_type": "execute_result"
    }
   ],
   "source": [
    "# Get the training and validation datasets\n",
    "dataset_train, dataset_validation = dataset['train'], dataset['validation']\n",
    "dataset_train"
   ]
  },
  {
   "cell_type": "code",
   "execution_count": 4,
   "metadata": {
    "colab": {
     "base_uri": "https://localhost:8080/",
     "height": 139
    },
    "colab_type": "code",
    "id": "yKzz-6jrJtt9",
    "outputId": "f4cce7b4-7f96-42b9-dfb8-6f4744ec639a"
   },
   "outputs": [
    {
     "name": "stdout",
     "output_type": "stream",
     "text": [
      "Review: tf.Tensor(b'for the uninitiated plays better on video with the sound ', shape=(), dtype=string)\n",
      "Label: 0 \n",
      "\n",
      "Review: tf.Tensor(b'like a giant commercial for universal studios , where much of the action takes place ', shape=(), dtype=string)\n",
      "Label: 0 \n",
      "\n"
     ]
    }
   ],
   "source": [
    "# Print some of the entries\n",
    "for example in dataset_train.take(2):  \n",
    "  review, label = example[\"sentence\"], example[\"label\"]\n",
    "  print(\"Review:\", review)\n",
    "  print(\"Label: %d \\n\" % label.numpy())"
   ]
  },
  {
   "cell_type": "code",
   "execution_count": 5,
   "metadata": {
    "colab": {
     "base_uri": "https://localhost:8080/",
     "height": 241
    },
    "colab_type": "code",
    "id": "Q_0oW6skJt1_",
    "outputId": "1e7ff14a-6ff1-4af0-a946-75d8660fd73f"
   },
   "outputs": [
    {
     "name": "stdout",
     "output_type": "stream",
     "text": [
      "\n",
      "Number of training reviews is:  10000\n",
      "b'for the uninitiated plays better on video with the sound '\n",
      "0\n",
      "b'like a giant commercial for universal studios , where much of the action takes place '\n",
      "0\n",
      "\n",
      "Number of validation reviews is:  872\n",
      "b'a valueless kiddie paean to pro basketball underwritten by the nba . '\n",
      "0\n",
      "b\"featuring a dangerously seductive performance from the great daniel auteuil , `` sade '' covers the same period as kaufmann 's `` quills '' with more unsettlingly realistic results . \"\n",
      "1\n"
     ]
    }
   ],
   "source": [
    "# Get the sentences and the labels\n",
    "# for both the training and the validation sets\n",
    "training_reviews = []\n",
    "training_labels = []\n",
    " \n",
    "validation_reviews = []\n",
    "validation_labels = []\n",
    "\n",
    "# The dataset has 67,000 training entries, but that's a lot to process here!\n",
    "\n",
    "# If you want to take the entire dataset: WARNING: takes longer!!\n",
    "# for item in dataset_train.take(-1):\n",
    "\n",
    "# Take 10,000 reviews\n",
    "for item in dataset_train.take(10000):\n",
    "  review, label = item[\"sentence\"], item[\"label\"]\n",
    "  training_reviews.append(str(review.numpy()))\n",
    "  training_labels.append(label.numpy())\n",
    "\n",
    "print (\"\\nNumber of training reviews is: \", len(training_reviews))\n",
    "\n",
    "# print some of the reviews and labels\n",
    "for i in range(0, 2):\n",
    "  print (training_reviews[i])\n",
    "  print (training_labels[i])\n",
    "\n",
    "# Get the validation data\n",
    "# there's only about 800 items, so take them all\n",
    "for item in dataset_validation.take(-1):  \n",
    "  review, label = item[\"sentence\"], item[\"label\"]\n",
    "  validation_reviews.append(str(review.numpy()))\n",
    "  validation_labels.append(label.numpy())\n",
    "\n",
    "print (\"\\nNumber of validation reviews is: \", len(validation_reviews))\n",
    "\n",
    "# Print some of the validation reviews and labels\n",
    "for i in range(0, 2):\n",
    "  print (validation_reviews[i])\n",
    "  print (validation_labels[i])\n"
   ]
  },
  {
   "cell_type": "markdown",
   "metadata": {
    "colab_type": "text",
    "id": "Y4njzwebJ3ua"
   },
   "source": [
    "# Tokenize the words and sequence the sentences\n"
   ]
  },
  {
   "cell_type": "code",
   "execution_count": 6,
   "metadata": {
    "colab": {},
    "colab_type": "code",
    "id": "L_u1LWYrJtzK"
   },
   "outputs": [],
   "source": [
    "# There's a total of 21224 words in the reviews\n",
    "# but many of them are irrelevant like with, it, of, on.\n",
    "# If we take a subset of the training data, then the vocab\n",
    "# will be smaller.\n",
    "\n",
    "# A reasonable review might have about 50 words or so,\n",
    "# so we can set max_length to 50 (but feel free to change it as you like)\n",
    "\n",
    "vocab_size = 4000\n",
    "embedding_dim = 16\n",
    "max_length = 50\n",
    "trunc_type='post'\n",
    "pad_type='post'\n",
    "oov_tok = \"<OOV>\"\n",
    "\n",
    "from tensorflow.keras.preprocessing.text import Tokenizer\n",
    "from tensorflow.keras.preprocessing.sequence import pad_sequences\n",
    "\n",
    "tokenizer = Tokenizer(num_words = vocab_size, oov_token=oov_tok)\n",
    "tokenizer.fit_on_texts(training_reviews)\n",
    "word_index = tokenizer.word_index\n"
   ]
  },
  {
   "cell_type": "markdown",
   "metadata": {
    "colab_type": "text",
    "id": "j4sKwocJJ6ia"
   },
   "source": [
    "# Pad the sequences"
   ]
  },
  {
   "cell_type": "code",
   "execution_count": 7,
   "metadata": {
    "colab": {},
    "colab_type": "code",
    "id": "_P-_sagrJtrZ"
   },
   "outputs": [],
   "source": [
    "# Pad the sequences so that they are all the same length\n",
    "training_sequences = tokenizer.texts_to_sequences(training_reviews)\n",
    "training_padded = pad_sequences(training_sequences,maxlen=max_length, \n",
    "                                truncating=trunc_type, padding=pad_type)\n",
    "\n",
    "validation_sequences = tokenizer.texts_to_sequences(validation_reviews)\n",
    "validation_padded = pad_sequences(validation_sequences,maxlen=max_length)\n",
    "\n",
    "training_labels_final = np.array(training_labels)\n",
    "validation_labels_final = np.array(validation_labels)"
   ]
  },
  {
   "cell_type": "markdown",
   "metadata": {
    "colab_type": "text",
    "id": "1xdHVI1sJ9oO"
   },
   "source": [
    "# Create the model using an Embedding"
   ]
  },
  {
   "cell_type": "code",
   "execution_count": 8,
   "metadata": {
    "colab": {
     "base_uri": "https://localhost:8080/",
     "height": 255
    },
    "colab_type": "code",
    "id": "en9Bgt-mJtjC",
    "outputId": "ddc806a8-9b0b-4c97-b5d9-3d6f28ba558b"
   },
   "outputs": [
    {
     "name": "stdout",
     "output_type": "stream",
     "text": [
      "Model: \"sequential\"\n",
      "_________________________________________________________________\n",
      "Layer (type)                 Output Shape              Param #   \n",
      "=================================================================\n",
      "embedding (Embedding)        (None, 50, 16)            64000     \n",
      "_________________________________________________________________\n",
      "global_average_pooling1d (Gl (None, 16)                0         \n",
      "_________________________________________________________________\n",
      "dense (Dense)                (None, 1)                 17        \n",
      "=================================================================\n",
      "Total params: 64,017\n",
      "Trainable params: 64,017\n",
      "Non-trainable params: 0\n",
      "_________________________________________________________________\n"
     ]
    }
   ],
   "source": [
    "model = tf.keras.Sequential([\n",
    "    tf.keras.layers.Embedding(vocab_size, embedding_dim, input_length=max_length),\n",
    "    tf.keras.layers.GlobalAveragePooling1D(),  \n",
    "    tf.keras.layers.Dense(1, activation='sigmoid')\n",
    "])\n",
    "model.compile(loss='binary_crossentropy',optimizer='adam',metrics=['accuracy'])\n",
    "model.summary()"
   ]
  },
  {
   "cell_type": "markdown",
   "metadata": {
    "colab_type": "text",
    "id": "JWjOewprKAst"
   },
   "source": [
    "# Train the model"
   ]
  },
  {
   "cell_type": "code",
   "execution_count": 9,
   "metadata": {
    "colab": {
     "base_uri": "https://localhost:8080/",
     "height": 717
    },
    "colab_type": "code",
    "id": "PGk5y2VsJta9",
    "outputId": "2eddd3bb-ed12-45f0-a20a-7be46c47f8b6"
   },
   "outputs": [
    {
     "name": "stdout",
     "output_type": "stream",
     "text": [
      "Epoch 1/20\n",
      "313/313 [==============================] - 1s 4ms/step - loss: 0.6830 - accuracy: 0.5591 - val_loss: 0.6879 - val_accuracy: 0.5183\n",
      "Epoch 2/20\n",
      "313/313 [==============================] - 1s 3ms/step - loss: 0.6709 - accuracy: 0.5751 - val_loss: 0.6693 - val_accuracy: 0.6124\n",
      "Epoch 3/20\n",
      "313/313 [==============================] - 1s 3ms/step - loss: 0.6505 - accuracy: 0.6296 - val_loss: 0.6455 - val_accuracy: 0.6399\n",
      "Epoch 4/20\n",
      "313/313 [==============================] - 1s 3ms/step - loss: 0.6218 - accuracy: 0.6695 - val_loss: 0.6136 - val_accuracy: 0.6950\n",
      "Epoch 5/20\n",
      "313/313 [==============================] - 1s 3ms/step - loss: 0.5889 - accuracy: 0.7097 - val_loss: 0.5820 - val_accuracy: 0.7236\n",
      "Epoch 6/20\n",
      "313/313 [==============================] - 1s 3ms/step - loss: 0.5554 - accuracy: 0.7425 - val_loss: 0.5554 - val_accuracy: 0.7202\n",
      "Epoch 7/20\n",
      "313/313 [==============================] - 1s 4ms/step - loss: 0.5242 - accuracy: 0.7706 - val_loss: 0.5351 - val_accuracy: 0.7489\n",
      "Epoch 8/20\n",
      "313/313 [==============================] - 1s 3ms/step - loss: 0.4950 - accuracy: 0.7927 - val_loss: 0.5198 - val_accuracy: 0.7351\n",
      "Epoch 9/20\n",
      "313/313 [==============================] - 1s 3ms/step - loss: 0.4698 - accuracy: 0.8038 - val_loss: 0.5034 - val_accuracy: 0.7592\n",
      "Epoch 10/20\n",
      "313/313 [==============================] - 1s 3ms/step - loss: 0.4461 - accuracy: 0.8213 - val_loss: 0.4957 - val_accuracy: 0.7592\n",
      "Epoch 11/20\n",
      "313/313 [==============================] - 1s 4ms/step - loss: 0.4250 - accuracy: 0.8307 - val_loss: 0.4889 - val_accuracy: 0.7592\n",
      "Epoch 12/20\n",
      "313/313 [==============================] - 1s 4ms/step - loss: 0.4066 - accuracy: 0.8373 - val_loss: 0.4861 - val_accuracy: 0.7672\n",
      "Epoch 13/20\n",
      "313/313 [==============================] - 1s 4ms/step - loss: 0.3907 - accuracy: 0.8404 - val_loss: 0.4849 - val_accuracy: 0.7615\n",
      "Epoch 14/20\n",
      "313/313 [==============================] - 1s 3ms/step - loss: 0.3750 - accuracy: 0.8469 - val_loss: 0.4868 - val_accuracy: 0.7661\n",
      "Epoch 15/20\n",
      "313/313 [==============================] - 1s 3ms/step - loss: 0.3611 - accuracy: 0.8552 - val_loss: 0.4911 - val_accuracy: 0.7603\n",
      "Epoch 16/20\n",
      "313/313 [==============================] - 1s 3ms/step - loss: 0.3486 - accuracy: 0.8553 - val_loss: 0.4939 - val_accuracy: 0.7649\n",
      "Epoch 17/20\n",
      "313/313 [==============================] - 1s 3ms/step - loss: 0.3376 - accuracy: 0.8623 - val_loss: 0.4985 - val_accuracy: 0.7661\n",
      "Epoch 18/20\n",
      "313/313 [==============================] - 1s 3ms/step - loss: 0.3271 - accuracy: 0.8649 - val_loss: 0.5023 - val_accuracy: 0.7764\n",
      "Epoch 19/20\n",
      "313/313 [==============================] - 1s 4ms/step - loss: 0.3173 - accuracy: 0.8684 - val_loss: 0.5131 - val_accuracy: 0.7615\n",
      "Epoch 20/20\n",
      "313/313 [==============================] - 1s 3ms/step - loss: 0.3082 - accuracy: 0.8707 - val_loss: 0.5176 - val_accuracy: 0.7729\n"
     ]
    }
   ],
   "source": [
    "num_epochs = 20\n",
    "history = model.fit(training_padded, training_labels_final, epochs=num_epochs, \n",
    "                    validation_data=(validation_padded, validation_labels_final))\n"
   ]
  },
  {
   "cell_type": "markdown",
   "metadata": {
    "colab_type": "text",
    "id": "4ErbMinXKEbs"
   },
   "source": [
    "# Plot the accurracy and loss"
   ]
  },
  {
   "cell_type": "code",
   "execution_count": 10,
   "metadata": {
    "colab": {
     "base_uri": "https://localhost:8080/",
     "height": 542
    },
    "colab_type": "code",
    "id": "9vvcQflsKClH",
    "outputId": "c2de4099-0cf7-4454-b71d-d8432e2b0871"
   },
   "outputs": [
    {
     "data": {
      "image/png": "[encoded data removed]",
      "text/plain": [
       "<Figure size 432x288 with 1 Axes>"
      ]
     },
     "metadata": {
      "needs_background": "light",
      "tags": []
     },
     "output_type": "display_data"
    },
    {
     "data": {
      "image/png": "[encoded data removed]",
      "text/plain": [
       "<Figure size 432x288 with 1 Axes>"
      ]
     },
     "metadata": {
      "needs_background": "light",
      "tags": []
     },
     "output_type": "display_data"
    }
   ],
   "source": [
    "import matplotlib.pyplot as plt\n",
    "\n",
    "\n",
    "def plot_graphs(history, string):\n",
    "  plt.plot(history.history[string])\n",
    "  plt.plot(history.history['val_'+string])\n",
    "  plt.xlabel(\"Epochs\")\n",
    "  plt.ylabel(string)\n",
    "  plt.legend([string, 'val_'+string])\n",
    "  plt.show()\n",
    "  \n",
    "plot_graphs(history, \"accuracy\")\n",
    "plot_graphs(history, \"loss\")"
   ]
  },
  {
   "cell_type": "markdown",
   "metadata": {
    "colab_type": "text",
    "id": "2KZ3L0JOKHRm"
   },
   "source": [
    "# Write a function to predict the sentiment of reviews"
   ]
  },
  {
   "cell_type": "code",
   "execution_count": 11,
   "metadata": {
    "colab": {},
    "colab_type": "code",
    "id": "Ba2U2F5rKCs9"
   },
   "outputs": [],
   "source": [
    "# Write some new reviews \n",
    "\n",
    "review1 = \"\"\"I loved this movie\"\"\"\n",
    "\n",
    "review2 = \"\"\"that was the worst movie I've ever seen\"\"\"\n",
    "\n",
    "review3 = \"\"\"too much violence even for a Bond film\"\"\"\n",
    "\n",
    "review4 = \"\"\"a captivating recounting of a cherished myth\"\"\"\n",
    "\n",
    "new_reviews = [review1, review2, review3, review4]\n"
   ]
  },
  {
   "cell_type": "code",
   "execution_count": 12,
   "metadata": {
    "colab": {
     "base_uri": "https://localhost:8080/",
     "height": 289
    },
    "colab_type": "code",
    "id": "YO9jXX9ZKC09",
    "outputId": "7e40d618-75ee-4495-9137-026d5d07eab2"
   },
   "outputs": [
    {
     "name": "stdout",
     "output_type": "stream",
     "text": [
      "I loved this movie\n",
      "[0.37605193]\n",
      "\n",
      "\n",
      "that was the worst movie I've ever seen\n",
      "[0.10751317]\n",
      "\n",
      "\n",
      "too much violence even for a Bond film\n",
      "[0.03014242]\n",
      "\n",
      "\n",
      "a captivating recounting of a cherished myth\n",
      "[0.5916903]\n",
      "\n",
      "\n"
     ]
    }
   ],
   "source": [
    "# Define a function to prepare the new reviews for use with a model\n",
    "# and then use the model to predict the sentiment of the new reviews           \n",
    "\n",
    "def predict_review(model, reviews):\n",
    "  # Create the sequences\n",
    "  padding_type='post'\n",
    "  sample_sequences = tokenizer.texts_to_sequences(reviews)\n",
    "  reviews_padded = pad_sequences(sample_sequences, padding=padding_type, \n",
    "                                 maxlen=max_length) \n",
    "  classes = model.predict(reviews_padded)\n",
    "  for x in range(len(reviews_padded)):\n",
    "    print(reviews[x])\n",
    "    print(classes[x])\n",
    "    print('\\n')\n",
    "\n",
    "predict_review(model, new_reviews)\n"
   ]
  },
  {
   "cell_type": "markdown",
   "metadata": {
    "colab_type": "text",
    "id": "zi-rd2kmKL3i"
   },
   "source": [
    "# Define a function to train and show the results of models with different layers"
   ]
  },
  {
   "cell_type": "code",
   "execution_count": 13,
   "metadata": {
    "colab": {},
    "colab_type": "code",
    "id": "RsRTN32OKCyQ"
   },
   "outputs": [],
   "source": [
    "def fit_model_and_show_results (model, reviews):\n",
    "  model.summary()\n",
    "  history = model.fit(training_padded, training_labels_final, epochs=num_epochs, \n",
    "                      validation_data=(validation_padded, validation_labels_final))\n",
    "  plot_graphs(history, \"accuracy\")\n",
    "  plot_graphs(history, \"loss\")\n",
    "  predict_review(model, reviews)"
   ]
  },
  {
   "cell_type": "markdown",
   "metadata": {
    "colab_type": "text",
    "id": "AmqrTwheKOqb"
   },
   "source": [
    "# Use a CNN"
   ]
  },
  {
   "cell_type": "code",
   "execution_count": 14,
   "metadata": {
    "colab": {
     "base_uri": "https://localhost:8080/",
     "height": 1000
    },
    "colab_type": "code",
    "id": "cOEIwaydKCqS",
    "outputId": "f728dceb-7b3a-4572-b82c-896f835c3bc0"
   },
   "outputs": [
    {
     "name": "stdout",
     "output_type": "stream",
     "text": [
      "Model: \"sequential_1\"\n",
      "_________________________________________________________________\n",
      "Layer (type)                 Output Shape              Param #   \n",
      "=================================================================\n",
      "embedding_1 (Embedding)      (None, 50, 16)            64000     \n",
      "_________________________________________________________________\n",
      "conv1d (Conv1D)              (None, 46, 16)            1296      \n",
      "_________________________________________________________________\n",
      "global_max_pooling1d (Global (None, 16)                0         \n",
      "_________________________________________________________________\n",
      "dense_1 (Dense)              (None, 1)                 17        \n",
      "=================================================================\n",
      "Total params: 65,313\n",
      "Trainable params: 65,313\n",
      "Non-trainable params: 0\n",
      "_________________________________________________________________\n",
      "Epoch 1/30\n",
      "313/313 [==============================] - 1s 4ms/step - loss: 0.6895 - accuracy: 0.5434 - val_loss: 0.6926 - val_accuracy: 0.5092\n",
      "Epoch 2/30\n",
      "313/313 [==============================] - 1s 4ms/step - loss: 0.6825 - accuracy: 0.5590 - val_loss: 0.6922 - val_accuracy: 0.5092\n",
      "Epoch 3/30\n",
      "313/313 [==============================] - 1s 4ms/step - loss: 0.6777 - accuracy: 0.5590 - val_loss: 0.6907 - val_accuracy: 0.5092\n",
      "Epoch 4/30\n",
      "313/313 [==============================] - 1s 4ms/step - loss: 0.6721 - accuracy: 0.5592 - val_loss: 0.6870 - val_accuracy: 0.5092\n",
      "Epoch 5/30\n",
      "313/313 [==============================] - 1s 4ms/step - loss: 0.6640 - accuracy: 0.5671 - val_loss: 0.6803 - val_accuracy: 0.5252\n",
      "Epoch 6/30\n",
      "313/313 [==============================] - 1s 4ms/step - loss: 0.6518 - accuracy: 0.6107 - val_loss: 0.6694 - val_accuracy: 0.6089\n",
      "Epoch 7/30\n",
      "313/313 [==============================] - 1s 4ms/step - loss: 0.6338 - accuracy: 0.6735 - val_loss: 0.6531 - val_accuracy: 0.6892\n",
      "Epoch 8/30\n",
      "313/313 [==============================] - 1s 4ms/step - loss: 0.6086 - accuracy: 0.7331 - val_loss: 0.6306 - val_accuracy: 0.7144\n",
      "Epoch 9/30\n",
      "313/313 [==============================] - 1s 4ms/step - loss: 0.5766 - accuracy: 0.7762 - val_loss: 0.6044 - val_accuracy: 0.7328\n",
      "Epoch 10/30\n",
      "313/313 [==============================] - 1s 4ms/step - loss: 0.5406 - accuracy: 0.8003 - val_loss: 0.5774 - val_accuracy: 0.7374\n",
      "Epoch 11/30\n",
      "313/313 [==============================] - 1s 4ms/step - loss: 0.5036 - accuracy: 0.8162 - val_loss: 0.5526 - val_accuracy: 0.7523\n",
      "Epoch 12/30\n",
      "313/313 [==============================] - 1s 4ms/step - loss: 0.4684 - accuracy: 0.8314 - val_loss: 0.5308 - val_accuracy: 0.7615\n",
      "Epoch 13/30\n",
      "313/313 [==============================] - 1s 4ms/step - loss: 0.4361 - accuracy: 0.8382 - val_loss: 0.5135 - val_accuracy: 0.7615\n",
      "Epoch 14/30\n",
      "313/313 [==============================] - 1s 4ms/step - loss: 0.4073 - accuracy: 0.8471 - val_loss: 0.5000 - val_accuracy: 0.7649\n",
      "Epoch 15/30\n",
      "313/313 [==============================] - 1s 4ms/step - loss: 0.3820 - accuracy: 0.8536 - val_loss: 0.4901 - val_accuracy: 0.7729\n",
      "Epoch 16/30\n",
      "313/313 [==============================] - 1s 4ms/step - loss: 0.3598 - accuracy: 0.8606 - val_loss: 0.4834 - val_accuracy: 0.7741\n",
      "Epoch 17/30\n",
      "313/313 [==============================] - 1s 4ms/step - loss: 0.3402 - accuracy: 0.8669 - val_loss: 0.4796 - val_accuracy: 0.7729\n",
      "Epoch 18/30\n",
      "313/313 [==============================] - 1s 4ms/step - loss: 0.3231 - accuracy: 0.8757 - val_loss: 0.4776 - val_accuracy: 0.7683\n",
      "Epoch 19/30\n",
      "313/313 [==============================] - 1s 4ms/step - loss: 0.3078 - accuracy: 0.8771 - val_loss: 0.4776 - val_accuracy: 0.7683\n",
      "Epoch 20/30\n",
      "313/313 [==============================] - 1s 4ms/step - loss: 0.2941 - accuracy: 0.8840 - val_loss: 0.4789 - val_accuracy: 0.7661\n",
      "Epoch 21/30\n",
      "313/313 [==============================] - 1s 4ms/step - loss: 0.2819 - accuracy: 0.8845 - val_loss: 0.4821 - val_accuracy: 0.7638\n",
      "Epoch 22/30\n",
      "313/313 [==============================] - 1s 4ms/step - loss: 0.2706 - accuracy: 0.8885 - val_loss: 0.4868 - val_accuracy: 0.7649\n",
      "Epoch 23/30\n",
      "313/313 [==============================] - 1s 4ms/step - loss: 0.2607 - accuracy: 0.8912 - val_loss: 0.4914 - val_accuracy: 0.7638\n",
      "Epoch 24/30\n",
      "313/313 [==============================] - 1s 4ms/step - loss: 0.2513 - accuracy: 0.8940 - val_loss: 0.4975 - val_accuracy: 0.7626\n",
      "Epoch 25/30\n",
      "313/313 [==============================] - 1s 4ms/step - loss: 0.2427 - accuracy: 0.8957 - val_loss: 0.5052 - val_accuracy: 0.7534\n",
      "Epoch 26/30\n",
      "313/313 [==============================] - 1s 4ms/step - loss: 0.2348 - accuracy: 0.8998 - val_loss: 0.5116 - val_accuracy: 0.7615\n",
      "Epoch 27/30\n",
      "313/313 [==============================] - 1s 4ms/step - loss: 0.2274 - accuracy: 0.9024 - val_loss: 0.5194 - val_accuracy: 0.7626\n",
      "Epoch 28/30\n",
      "313/313 [==============================] - 1s 4ms/step - loss: 0.2205 - accuracy: 0.9035 - val_loss: 0.5286 - val_accuracy: 0.7626\n",
      "Epoch 29/30\n",
      "313/313 [==============================] - 1s 4ms/step - loss: 0.2143 - accuracy: 0.9073 - val_loss: 0.5379 - val_accuracy: 0.7649\n",
      "Epoch 30/30\n",
      "313/313 [==============================] - 1s 4ms/step - loss: 0.2084 - accuracy: 0.9090 - val_loss: 0.5471 - val_accuracy: 0.7638\n"
     ]
    },
    {
     "data": {
      "image/png": "[encoded data removed]",
      "text/plain": [
       "<Figure size 432x288 with 1 Axes>"
      ]
     },
     "metadata": {
      "needs_background": "light",
      "tags": []
     },
     "output_type": "display_data"
    },
    {
     "data": {
      "image/png": "[encoded data removed]",
      "text/plain": [
       "<Figure size 432x288 with 1 Axes>"
      ]
     },
     "metadata": {
      "needs_background": "light",
      "tags": []
     },
     "output_type": "display_data"
    },
    {
     "name": "stdout",
     "output_type": "stream",
     "text": [
      "I loved this movie\n",
      "[0.8168465]\n",
      "\n",
      "\n",
      "that was the worst movie I've ever seen\n",
      "[0.02201137]\n",
      "\n",
      "\n",
      "too much violence even for a Bond film\n",
      "[0.00506399]\n",
      "\n",
      "\n",
      "a captivating recounting of a cherished myth\n",
      "[0.6824714]\n",
      "\n",
      "\n"
     ]
    }
   ],
   "source": [
    "num_epochs = 30\n",
    "\n",
    "model_cnn = tf.keras.Sequential([\n",
    "    tf.keras.layers.Embedding(vocab_size, embedding_dim, input_length=max_length),\n",
    "    tf.keras.layers.Conv1D(16, 5, activation='relu'),\n",
    "    tf.keras.layers.GlobalMaxPooling1D(),\n",
    "    tf.keras.layers.Dense(1, activation='sigmoid')\n",
    "])\n",
    "\n",
    "# Default learning rate for the Adam optimizer is 0.001\n",
    "# Let's slow down the learning rate by 10.\n",
    "learning_rate = 0.0001\n",
    "model_cnn.compile(loss='binary_crossentropy',\n",
    "                  optimizer=tf.keras.optimizers.Adam(learning_rate), \n",
    "                  metrics=['accuracy'])\n",
    "\n",
    "fit_model_and_show_results(model_cnn, new_reviews)"
   ]
  },
  {
   "cell_type": "markdown",
   "metadata": {
    "colab_type": "text",
    "id": "VxhzkAVqKRn_"
   },
   "source": [
    "# Use a GRU"
   ]
  },
  {
   "cell_type": "code",
   "execution_count": 15,
   "metadata": {
    "colab": {
     "base_uri": "https://localhost:8080/",
     "height": 1000
    },
    "colab_type": "code",
    "id": "XHHjM2HrJntp",
    "outputId": "aef4dc7c-3185-442a-c504-8f0d45decb62"
   },
   "outputs": [
    {
     "name": "stdout",
     "output_type": "stream",
     "text": [
      "Model: \"sequential_2\"\n",
      "_________________________________________________________________\n",
      "Layer (type)                 Output Shape              Param #   \n",
      "=================================================================\n",
      "embedding_2 (Embedding)      (None, 50, 16)            64000     \n",
      "_________________________________________________________________\n",
      "bidirectional (Bidirectional (None, 64)                9600      \n",
      "_________________________________________________________________\n",
      "dense_2 (Dense)              (None, 1)                 65        \n",
      "=================================================================\n",
      "Total params: 73,665\n",
      "Trainable params: 73,665\n",
      "Non-trainable params: 0\n",
      "_________________________________________________________________\n",
      "Epoch 1/30\n",
      "313/313 [==============================] - 3s 11ms/step - loss: 0.6906 - accuracy: 0.5568 - val_loss: 0.6931 - val_accuracy: 0.5092\n",
      "Epoch 2/30\n",
      "313/313 [==============================] - 3s 9ms/step - loss: 0.6874 - accuracy: 0.5590 - val_loss: 0.6940 - val_accuracy: 0.5092\n",
      "Epoch 3/30\n",
      "313/313 [==============================] - 3s 9ms/step - loss: 0.6857 - accuracy: 0.5590 - val_loss: 0.6950 - val_accuracy: 0.5092\n",
      "Epoch 4/30\n",
      "313/313 [==============================] - 3s 9ms/step - loss: 0.6847 - accuracy: 0.5590 - val_loss: 0.6958 - val_accuracy: 0.5092\n",
      "Epoch 5/30\n",
      "313/313 [==============================] - 3s 9ms/step - loss: 0.6834 - accuracy: 0.5590 - val_loss: 0.6967 - val_accuracy: 0.5092\n",
      "Epoch 6/30\n",
      "313/313 [==============================] - 3s 9ms/step - loss: 0.6814 - accuracy: 0.5590 - val_loss: 0.6981 - val_accuracy: 0.5092\n",
      "Epoch 7/30\n",
      "313/313 [==============================] - 3s 9ms/step - loss: 0.6783 - accuracy: 0.5590 - val_loss: 0.7002 - val_accuracy: 0.5092\n",
      "Epoch 8/30\n",
      "313/313 [==============================] - 3s 9ms/step - loss: 0.6732 - accuracy: 0.5593 - val_loss: 0.7066 - val_accuracy: 0.5092\n",
      "Epoch 9/30\n",
      "313/313 [==============================] - 3s 9ms/step - loss: 0.6645 - accuracy: 0.5656 - val_loss: 0.7215 - val_accuracy: 0.5092\n",
      "Epoch 10/30\n",
      "313/313 [==============================] - 3s 9ms/step - loss: 0.6517 - accuracy: 0.6056 - val_loss: 0.7315 - val_accuracy: 0.5092\n",
      "Epoch 11/30\n",
      "313/313 [==============================] - 3s 9ms/step - loss: 0.6348 - accuracy: 0.6465 - val_loss: 0.7338 - val_accuracy: 0.5092\n",
      "Epoch 12/30\n",
      "313/313 [==============================] - 3s 9ms/step - loss: 0.6131 - accuracy: 0.6697 - val_loss: 0.7243 - val_accuracy: 0.5080\n",
      "Epoch 13/30\n",
      "313/313 [==============================] - 3s 9ms/step - loss: 0.5838 - accuracy: 0.6914 - val_loss: 0.6755 - val_accuracy: 0.5115\n",
      "Epoch 14/30\n",
      "313/313 [==============================] - 3s 9ms/step - loss: 0.5539 - accuracy: 0.7135 - val_loss: 0.6381 - val_accuracy: 0.5275\n",
      "Epoch 15/30\n",
      "313/313 [==============================] - 3s 9ms/step - loss: 0.5333 - accuracy: 0.7401 - val_loss: 0.6336 - val_accuracy: 0.5722\n",
      "Epoch 16/30\n",
      "313/313 [==============================] - 3s 9ms/step - loss: 0.5166 - accuracy: 0.7494 - val_loss: 0.6355 - val_accuracy: 0.5516\n",
      "Epoch 17/30\n",
      "313/313 [==============================] - 3s 9ms/step - loss: 0.5005 - accuracy: 0.7638 - val_loss: 0.6290 - val_accuracy: 0.5849\n",
      "Epoch 18/30\n",
      "313/313 [==============================] - 3s 9ms/step - loss: 0.4834 - accuracy: 0.7744 - val_loss: 0.6210 - val_accuracy: 0.6055\n",
      "Epoch 19/30\n",
      "313/313 [==============================] - 3s 9ms/step - loss: 0.4692 - accuracy: 0.7882 - val_loss: 0.6060 - val_accuracy: 0.6869\n",
      "Epoch 20/30\n",
      "313/313 [==============================] - 3s 9ms/step - loss: 0.4524 - accuracy: 0.7974 - val_loss: 0.5977 - val_accuracy: 0.7190\n",
      "Epoch 21/30\n",
      "313/313 [==============================] - 3s 9ms/step - loss: 0.4397 - accuracy: 0.8020 - val_loss: 0.5957 - val_accuracy: 0.7236\n",
      "Epoch 22/30\n",
      "313/313 [==============================] - 3s 9ms/step - loss: 0.4263 - accuracy: 0.8095 - val_loss: 0.6010 - val_accuracy: 0.7248\n",
      "Epoch 23/30\n",
      "313/313 [==============================] - 3s 9ms/step - loss: 0.4158 - accuracy: 0.8155 - val_loss: 0.5843 - val_accuracy: 0.7454\n",
      "Epoch 24/30\n",
      "313/313 [==============================] - 3s 8ms/step - loss: 0.4068 - accuracy: 0.8203 - val_loss: 0.6000 - val_accuracy: 0.7420\n",
      "Epoch 25/30\n",
      "313/313 [==============================] - 3s 8ms/step - loss: 0.3974 - accuracy: 0.8260 - val_loss: 0.5887 - val_accuracy: 0.7511\n",
      "Epoch 26/30\n",
      "313/313 [==============================] - 3s 9ms/step - loss: 0.3893 - accuracy: 0.8288 - val_loss: 0.6098 - val_accuracy: 0.7431\n",
      "Epoch 27/30\n",
      "313/313 [==============================] - 3s 9ms/step - loss: 0.3803 - accuracy: 0.8373 - val_loss: 0.5997 - val_accuracy: 0.7511\n",
      "Epoch 28/30\n",
      "313/313 [==============================] - 3s 9ms/step - loss: 0.3738 - accuracy: 0.8402 - val_loss: 0.5968 - val_accuracy: 0.7592\n",
      "Epoch 29/30\n",
      "313/313 [==============================] - 3s 9ms/step - loss: 0.3669 - accuracy: 0.8424 - val_loss: 0.6115 - val_accuracy: 0.7477\n",
      "Epoch 30/30\n",
      "313/313 [==============================] - 3s 9ms/step - loss: 0.3596 - accuracy: 0.8469 - val_loss: 0.5881 - val_accuracy: 0.7534\n"
     ]
    },
    {
     "data": {
      "image/png": "[encoded data removed]",
      "text/plain": [
       "<Figure size 432x288 with 1 Axes>"
      ]
     },
     "metadata": {
      "needs_background": "light",
      "tags": []
     },
     "output_type": "display_data"
    },
    {
     "data": {
      "image/png": "[encoded data removed]",
      "text/plain": [
       "<Figure size 432x288 with 1 Axes>"
      ]
     },
     "metadata": {
      "needs_background": "light",
      "tags": []
     },
     "output_type": "display_data"
    },
    {
     "name": "stdout",
     "output_type": "stream",
     "text": [
      "I loved this movie\n",
      "[0.32080284]\n",
      "\n",
      "\n",
      "that was the worst movie I've ever seen\n",
      "[0.1174226]\n",
      "\n",
      "\n",
      "too much violence even for a Bond film\n",
      "[0.09885525]\n",
      "\n",
      "\n",
      "a captivating recounting of a cherished myth\n",
      "[0.5114694]\n",
      "\n",
      "\n"
     ]
    }
   ],
   "source": [
    "num_epochs = 30\n",
    "\n",
    "model_gru = tf.keras.Sequential([\n",
    "    tf.keras.layers.Embedding(vocab_size, embedding_dim, input_length=max_length),\n",
    "    tf.keras.layers.Bidirectional(tf.keras.layers.GRU(32)),\n",
    "    tf.keras.layers.Dense(1, activation='sigmoid')\n",
    "])\n",
    "\n",
    "learning_rate = 0.00003 # slower than the default learning rate\n",
    "model_gru.compile(loss='binary_crossentropy',\n",
    "                  optimizer=tf.keras.optimizers.Adam(learning_rate),\n",
    "                  metrics=['accuracy'])\n",
    "\n",
    "fit_model_and_show_results(model_gru, new_reviews)"
   ]
  },
  {
   "cell_type": "markdown",
   "metadata": {
    "colab_type": "text",
    "id": "CQ7Jv3knKVAe"
   },
   "source": [
    "# Add a bidirectional LSTM"
   ]
  },
  {
   "cell_type": "code",
   "execution_count": 16,
   "metadata": {
    "colab": {
     "base_uri": "https://localhost:8080/",
     "height": 1000
    },
    "colab_type": "code",
    "id": "Udg59ZJ1KTZM",
    "outputId": "f8cfc3d3-1383-4495-faca-e05985ff36c6"
   },
   "outputs": [
    {
     "name": "stdout",
     "output_type": "stream",
     "text": [
      "Model: \"sequential_3\"\n",
      "_________________________________________________________________\n",
      "Layer (type)                 Output Shape              Param #   \n",
      "=================================================================\n",
      "embedding_3 (Embedding)      (None, 50, 16)            64000     \n",
      "_________________________________________________________________\n",
      "bidirectional_1 (Bidirection (None, 32)                4224      \n",
      "_________________________________________________________________\n",
      "dense_3 (Dense)              (None, 1)                 33        \n",
      "=================================================================\n",
      "Total params: 68,257\n",
      "Trainable params: 68,257\n",
      "Non-trainable params: 0\n",
      "_________________________________________________________________\n",
      "Epoch 1/30\n",
      "313/313 [==============================] - 4s 11ms/step - loss: 0.6908 - accuracy: 0.5571 - val_loss: 0.6932 - val_accuracy: 0.5092\n",
      "Epoch 2/30\n",
      "313/313 [==============================] - 3s 10ms/step - loss: 0.6870 - accuracy: 0.5590 - val_loss: 0.6949 - val_accuracy: 0.5092\n",
      "Epoch 3/30\n",
      "313/313 [==============================] - 3s 10ms/step - loss: 0.6843 - accuracy: 0.5590 - val_loss: 0.6979 - val_accuracy: 0.5092\n",
      "Epoch 4/30\n",
      "313/313 [==============================] - 3s 9ms/step - loss: 0.6824 - accuracy: 0.5590 - val_loss: 0.7012 - val_accuracy: 0.5092\n",
      "Epoch 5/30\n",
      "313/313 [==============================] - 3s 9ms/step - loss: 0.6806 - accuracy: 0.5590 - val_loss: 0.7052 - val_accuracy: 0.5092\n",
      "Epoch 6/30\n",
      "313/313 [==============================] - 3s 9ms/step - loss: 0.6784 - accuracy: 0.5590 - val_loss: 0.7088 - val_accuracy: 0.5092\n",
      "Epoch 7/30\n",
      "313/313 [==============================] - 3s 9ms/step - loss: 0.6758 - accuracy: 0.5591 - val_loss: 0.7124 - val_accuracy: 0.5092\n",
      "Epoch 8/30\n",
      "313/313 [==============================] - 3s 9ms/step - loss: 0.6726 - accuracy: 0.5610 - val_loss: 0.7184 - val_accuracy: 0.5092\n",
      "Epoch 9/30\n",
      "313/313 [==============================] - 3s 9ms/step - loss: 0.6686 - accuracy: 0.5701 - val_loss: 0.7211 - val_accuracy: 0.5092\n",
      "Epoch 10/30\n",
      "313/313 [==============================] - 3s 9ms/step - loss: 0.6640 - accuracy: 0.5907 - val_loss: 0.7287 - val_accuracy: 0.5092\n",
      "Epoch 11/30\n",
      "313/313 [==============================] - 3s 9ms/step - loss: 0.6584 - accuracy: 0.6092 - val_loss: 0.7337 - val_accuracy: 0.5092\n",
      "Epoch 12/30\n",
      "313/313 [==============================] - 3s 9ms/step - loss: 0.6515 - accuracy: 0.6235 - val_loss: 0.7355 - val_accuracy: 0.5092\n",
      "Epoch 13/30\n",
      "313/313 [==============================] - 3s 9ms/step - loss: 0.6431 - accuracy: 0.6402 - val_loss: 0.7350 - val_accuracy: 0.5092\n",
      "Epoch 14/30\n",
      "313/313 [==============================] - 3s 9ms/step - loss: 0.6322 - accuracy: 0.6543 - val_loss: 0.7401 - val_accuracy: 0.5092\n",
      "Epoch 15/30\n",
      "313/313 [==============================] - 3s 9ms/step - loss: 0.6180 - accuracy: 0.6659 - val_loss: 0.7352 - val_accuracy: 0.5092\n",
      "Epoch 16/30\n",
      "313/313 [==============================] - 3s 9ms/step - loss: 0.5994 - accuracy: 0.6843 - val_loss: 0.7407 - val_accuracy: 0.5092\n",
      "Epoch 17/30\n",
      "313/313 [==============================] - 3s 9ms/step - loss: 0.5754 - accuracy: 0.7052 - val_loss: 0.7411 - val_accuracy: 0.5080\n",
      "Epoch 18/30\n",
      "313/313 [==============================] - 3s 9ms/step - loss: 0.5515 - accuracy: 0.7271 - val_loss: 0.7281 - val_accuracy: 0.5046\n",
      "Epoch 19/30\n",
      "313/313 [==============================] - 3s 9ms/step - loss: 0.5319 - accuracy: 0.7465 - val_loss: 0.7155 - val_accuracy: 0.5046\n",
      "Epoch 20/30\n",
      "313/313 [==============================] - 3s 9ms/step - loss: 0.5171 - accuracy: 0.7599 - val_loss: 0.7103 - val_accuracy: 0.5000\n",
      "Epoch 21/30\n",
      "313/313 [==============================] - 3s 9ms/step - loss: 0.5033 - accuracy: 0.7698 - val_loss: 0.7089 - val_accuracy: 0.4920\n",
      "Epoch 22/30\n",
      "313/313 [==============================] - 3s 9ms/step - loss: 0.4918 - accuracy: 0.7780 - val_loss: 0.7228 - val_accuracy: 0.4908\n",
      "Epoch 23/30\n",
      "313/313 [==============================] - 3s 9ms/step - loss: 0.4804 - accuracy: 0.7863 - val_loss: 0.7264 - val_accuracy: 0.5057\n",
      "Epoch 24/30\n",
      "313/313 [==============================] - 3s 9ms/step - loss: 0.4705 - accuracy: 0.7917 - val_loss: 0.7385 - val_accuracy: 0.5069\n",
      "Epoch 25/30\n",
      "313/313 [==============================] - 3s 9ms/step - loss: 0.4617 - accuracy: 0.7994 - val_loss: 0.7537 - val_accuracy: 0.5011\n",
      "Epoch 26/30\n",
      "313/313 [==============================] - 3s 9ms/step - loss: 0.4526 - accuracy: 0.8047 - val_loss: 0.7754 - val_accuracy: 0.4817\n",
      "Epoch 27/30\n",
      "313/313 [==============================] - 3s 9ms/step - loss: 0.4446 - accuracy: 0.8086 - val_loss: 0.7863 - val_accuracy: 0.4817\n",
      "Epoch 28/30\n",
      "313/313 [==============================] - 3s 9ms/step - loss: 0.4361 - accuracy: 0.8151 - val_loss: 0.8063 - val_accuracy: 0.4748\n",
      "Epoch 29/30\n",
      "313/313 [==============================] - 3s 9ms/step - loss: 0.4290 - accuracy: 0.8209 - val_loss: 0.8121 - val_accuracy: 0.4897\n",
      "Epoch 30/30\n",
      "313/313 [==============================] - 3s 9ms/step - loss: 0.4212 - accuracy: 0.8218 - val_loss: 0.8247 - val_accuracy: 0.4782\n"
     ]
    },
    {
     "data": {
      "image/png": "[encoded data removed]",
      "text/plain": [
       "<Figure size 432x288 with 1 Axes>"
      ]
     },
     "metadata": {
      "needs_background": "light",
      "tags": []
     },
     "output_type": "display_data"
    },
    {
     "data": {
      "image/png": "[encoded data removed]",
      "text/plain": [
       "<Figure size 432x288 with 1 Axes>"
      ]
     },
     "metadata": {
      "needs_background": "light",
      "tags": []
     },
     "output_type": "display_data"
    },
    {
     "name": "stdout",
     "output_type": "stream",
     "text": [
      "I loved this movie\n",
      "[0.46079838]\n",
      "\n",
      "\n",
      "that was the worst movie I've ever seen\n",
      "[0.21177636]\n",
      "\n",
      "\n",
      "too much violence even for a Bond film\n",
      "[0.38008955]\n",
      "\n",
      "\n",
      "a captivating recounting of a cherished myth\n",
      "[0.51104355]\n",
      "\n",
      "\n"
     ]
    }
   ],
   "source": [
    "num_epochs = 30\n",
    "\n",
    "model_bidi_lstm = tf.keras.Sequential([\n",
    "    tf.keras.layers.Embedding(vocab_size, embedding_dim, input_length=max_length),\n",
    "    tf.keras.layers.Bidirectional(tf.keras.layers.LSTM(embedding_dim)), \n",
    "    tf.keras.layers.Dense(1, activation='sigmoid')\n",
    "])\n",
    "\n",
    "learning_rate = 0.00003\n",
    "model_bidi_lstm.compile(loss='binary_crossentropy',\n",
    "                        optimizer=tf.keras.optimizers.Adam(learning_rate),\n",
    "                        metrics=['accuracy'])\n",
    "fit_model_and_show_results(model_bidi_lstm, new_reviews)"
   ]
  },
  {
   "cell_type": "markdown",
   "metadata": {
    "colab_type": "text",
    "id": "E_dzWRXXKYVV"
   },
   "source": [
    "# Use multiple bidirectional LSTMs"
   ]
  },
  {
   "cell_type": "code",
   "execution_count": 17,
   "metadata": {
    "colab": {
     "base_uri": "https://localhost:8080/",
     "height": 1000
    },
    "colab_type": "code",
    "id": "1Mdu1vXTKTRD",
    "outputId": "272d97fe-bae6-4f20-9b77-a15abd9b7fde"
   },
   "outputs": [
    {
     "name": "stdout",
     "output_type": "stream",
     "text": [
      "Model: \"sequential_4\"\n",
      "_________________________________________________________________\n",
      "Layer (type)                 Output Shape              Param #   \n",
      "=================================================================\n",
      "embedding_4 (Embedding)      (None, 50, 16)            64000     \n",
      "_________________________________________________________________\n",
      "bidirectional_2 (Bidirection (None, 50, 32)            4224      \n",
      "_________________________________________________________________\n",
      "bidirectional_3 (Bidirection (None, 32)                6272      \n",
      "_________________________________________________________________\n",
      "dense_4 (Dense)              (None, 1)                 33        \n",
      "=================================================================\n",
      "Total params: 74,529\n",
      "Trainable params: 74,529\n",
      "Non-trainable params: 0\n",
      "_________________________________________________________________\n",
      "Epoch 1/30\n",
      "313/313 [==============================] - 6s 18ms/step - loss: 0.6792 - accuracy: 0.5677 - val_loss: 0.7080 - val_accuracy: 0.5080\n",
      "Epoch 2/30\n",
      "313/313 [==============================] - 5s 14ms/step - loss: 0.4833 - accuracy: 0.7603 - val_loss: 0.6775 - val_accuracy: 0.5310\n",
      "Epoch 3/30\n",
      "313/313 [==============================] - 5s 15ms/step - loss: 0.3540 - accuracy: 0.8385 - val_loss: 0.6808 - val_accuracy: 0.5608\n",
      "Epoch 4/30\n",
      "313/313 [==============================] - 5s 15ms/step - loss: 0.3003 - accuracy: 0.8586 - val_loss: 0.6894 - val_accuracy: 0.4989\n",
      "Epoch 5/30\n",
      "313/313 [==============================] - 4s 14ms/step - loss: 0.2732 - accuracy: 0.8752 - val_loss: 0.6847 - val_accuracy: 0.5241\n",
      "Epoch 6/30\n",
      "313/313 [==============================] - 5s 15ms/step - loss: 0.2479 - accuracy: 0.8875 - val_loss: 0.9345 - val_accuracy: 0.4966\n",
      "Epoch 7/30\n",
      "313/313 [==============================] - 5s 15ms/step - loss: 0.2326 - accuracy: 0.8930 - val_loss: 0.7061 - val_accuracy: 0.5138\n",
      "Epoch 8/30\n",
      "313/313 [==============================] - 5s 14ms/step - loss: 0.2196 - accuracy: 0.8992 - val_loss: 0.7168 - val_accuracy: 0.5172\n",
      "Epoch 9/30\n",
      "313/313 [==============================] - 5s 14ms/step - loss: 0.2087 - accuracy: 0.9016 - val_loss: 0.7078 - val_accuracy: 0.4977\n",
      "Epoch 10/30\n",
      "313/313 [==============================] - 5s 15ms/step - loss: 0.2009 - accuracy: 0.9025 - val_loss: 1.1168 - val_accuracy: 0.4966\n",
      "Epoch 11/30\n",
      "313/313 [==============================] - 5s 15ms/step - loss: 0.2002 - accuracy: 0.9046 - val_loss: 0.8402 - val_accuracy: 0.4966\n",
      "Epoch 12/30\n",
      "313/313 [==============================] - 5s 15ms/step - loss: 0.1899 - accuracy: 0.9073 - val_loss: 0.9489 - val_accuracy: 0.5000\n",
      "Epoch 13/30\n",
      "313/313 [==============================] - 5s 14ms/step - loss: 0.1846 - accuracy: 0.9140 - val_loss: 0.7806 - val_accuracy: 0.5103\n",
      "Epoch 14/30\n",
      "313/313 [==============================] - 5s 14ms/step - loss: 0.1789 - accuracy: 0.9140 - val_loss: 0.9045 - val_accuracy: 0.5034\n",
      "Epoch 15/30\n",
      "313/313 [==============================] - 5s 15ms/step - loss: 0.1759 - accuracy: 0.9177 - val_loss: 1.0088 - val_accuracy: 0.5103\n",
      "Epoch 16/30\n",
      "313/313 [==============================] - 5s 15ms/step - loss: 0.1704 - accuracy: 0.9163 - val_loss: 0.9685 - val_accuracy: 0.5126\n",
      "Epoch 17/30\n",
      "313/313 [==============================] - 5s 15ms/step - loss: 0.1690 - accuracy: 0.9153 - val_loss: 0.9409 - val_accuracy: 0.5722\n",
      "Epoch 18/30\n",
      "313/313 [==============================] - 5s 15ms/step - loss: 0.1667 - accuracy: 0.9219 - val_loss: 0.9282 - val_accuracy: 0.5413\n",
      "Epoch 19/30\n",
      "313/313 [==============================] - 5s 15ms/step - loss: 0.1622 - accuracy: 0.9223 - val_loss: 0.8734 - val_accuracy: 0.4977\n",
      "Epoch 20/30\n",
      "313/313 [==============================] - 5s 15ms/step - loss: 0.1626 - accuracy: 0.9232 - val_loss: 1.1524 - val_accuracy: 0.5275\n",
      "Epoch 21/30\n",
      "313/313 [==============================] - 5s 15ms/step - loss: 0.1586 - accuracy: 0.9246 - val_loss: 0.8853 - val_accuracy: 0.5482\n",
      "Epoch 22/30\n",
      "313/313 [==============================] - 5s 15ms/step - loss: 0.1570 - accuracy: 0.9214 - val_loss: 0.9026 - val_accuracy: 0.5482\n",
      "Epoch 23/30\n",
      "313/313 [==============================] - 5s 15ms/step - loss: 0.1549 - accuracy: 0.9217 - val_loss: 1.0543 - val_accuracy: 0.5413\n",
      "Epoch 24/30\n",
      "313/313 [==============================] - 5s 15ms/step - loss: 0.1540 - accuracy: 0.9269 - val_loss: 0.9559 - val_accuracy: 0.5367\n",
      "Epoch 25/30\n",
      "313/313 [==============================] - 5s 15ms/step - loss: 0.1516 - accuracy: 0.9245 - val_loss: 0.9176 - val_accuracy: 0.5482\n",
      "Epoch 26/30\n",
      "313/313 [==============================] - 5s 15ms/step - loss: 0.1519 - accuracy: 0.9242 - val_loss: 0.8955 - val_accuracy: 0.5883\n",
      "Epoch 27/30\n",
      "313/313 [==============================] - 5s 15ms/step - loss: 0.1492 - accuracy: 0.9243 - val_loss: 0.8403 - val_accuracy: 0.4885\n",
      "Epoch 28/30\n",
      "313/313 [==============================] - 5s 15ms/step - loss: 0.1494 - accuracy: 0.9255 - val_loss: 0.8266 - val_accuracy: 0.4817\n",
      "Epoch 29/30\n",
      "313/313 [==============================] - 5s 15ms/step - loss: 0.1478 - accuracy: 0.9251 - val_loss: 0.8842 - val_accuracy: 0.5378\n",
      "Epoch 30/30\n",
      "313/313 [==============================] - 5s 15ms/step - loss: 0.1517 - accuracy: 0.9264 - val_loss: 0.8363 - val_accuracy: 0.5206\n"
     ]
    },
    {
     "data": {
      "image/png": "[encoded data removed]",
      "text/plain": [
       "<Figure size 432x288 with 1 Axes>"
      ]
     },
     "metadata": {
      "needs_background": "light",
      "tags": []
     },
     "output_type": "display_data"
    },
    {
     "data": {
      "image/png": "[encoded data removed]",
      "text/plain": [
       "<Figure size 432x288 with 1 Axes>"
      ]
     },
     "metadata": {
      "needs_background": "light",
      "tags": []
     },
     "output_type": "display_data"
    },
    {
     "name": "stdout",
     "output_type": "stream",
     "text": [
      "WARNING:tensorflow:5 out of the last 5 calls to <function Model.make_predict_function.<locals>.predict_function at 0x7fc8d850f378> triggered tf.function retracing. Tracing is expensive and the excessive number of tracings could be due to (1) creating @tf.function repeatedly in a loop, (2) passing tensors with different shapes, (3) passing Python objects instead of tensors. For (1), please define your @tf.function outside of the loop. For (2), @tf.function has experimental_relax_shapes=True option that relaxes argument shapes that can avoid unnecessary retracing. For (3), please refer to https://www.tensorflow.org/tutorials/customization/performance#python_or_tensor_args and https://www.tensorflow.org/api_docs/python/tf/function for  more details.\n"
     ]
    },
    {
     "name": "stderr",
     "output_type": "stream",
     "text": [
      "WARNING:tensorflow:5 out of the last 5 calls to <function Model.make_predict_function.<locals>.predict_function at 0x7fc8d850f378> triggered tf.function retracing. Tracing is expensive and the excessive number of tracings could be due to (1) creating @tf.function repeatedly in a loop, (2) passing tensors with different shapes, (3) passing Python objects instead of tensors. For (1), please define your @tf.function outside of the loop. For (2), @tf.function has experimental_relax_shapes=True option that relaxes argument shapes that can avoid unnecessary retracing. For (3), please refer to https://www.tensorflow.org/tutorials/customization/performance#python_or_tensor_args and https://www.tensorflow.org/api_docs/python/tf/function for  more details.\n"
     ]
    },
    {
     "name": "stdout",
     "output_type": "stream",
     "text": [
      "I loved this movie\n",
      "[0.547561]\n",
      "\n",
      "\n",
      "that was the worst movie I've ever seen\n",
      "[0.02361305]\n",
      "\n",
      "\n",
      "too much violence even for a Bond film\n",
      "[0.00933948]\n",
      "\n",
      "\n",
      "a captivating recounting of a cherished myth\n",
      "[0.9962529]\n",
      "\n",
      "\n"
     ]
    }
   ],
   "source": [
    "num_epochs = 30\n",
    "\n",
    "model_multiple_bidi_lstm = tf.keras.Sequential([\n",
    "    tf.keras.layers.Embedding(vocab_size, embedding_dim, input_length=max_length),\n",
    "    tf.keras.layers.Bidirectional(tf.keras.layers.LSTM(embedding_dim, \n",
    "                                                       return_sequences=True)),\n",
    "    tf.keras.layers.Bidirectional(tf.keras.layers.LSTM(embedding_dim)),\n",
    "    tf.keras.layers.Dense(1, activation='sigmoid')\n",
    "])\n",
    "\n",
    "learning_rate = 0.0003\n",
    "model_multiple_bidi_lstm.compile(loss='binary_crossentropy',\n",
    "                                 optimizer=tf.keras.optimizers.Adam(learning_rate),\n",
    "                                 metrics=['accuracy'])\n",
    "fit_model_and_show_results(model_multiple_bidi_lstm, new_reviews)"
   ]
  },
  {
   "cell_type": "markdown",
   "metadata": {
    "colab_type": "text",
    "id": "C3NdhFxhKbCK"
   },
   "source": [
    "# Try some more reviews"
   ]
  },
  {
   "cell_type": "code",
   "execution_count": 18,
   "metadata": {
    "colab": {},
    "colab_type": "code",
    "id": "0RJtbs_9Kc7x"
   },
   "outputs": [],
   "source": [
    "# Write some new reviews \n",
    "\n",
    "review1 = \"\"\"I loved this movie\"\"\"\n",
    "\n",
    "review2 = \"\"\"that was the worst movie I've ever seen\"\"\"\n",
    "\n",
    "review3 = \"\"\"too much violence even for a Bond film\"\"\"\n",
    "\n",
    "review4 = \"\"\"a captivating recounting of a cherished myth\"\"\"\n",
    "\n",
    "review5 = \"\"\"I saw this movie yesterday and I was feeling low to start with,\n",
    " but it was such a wonderful movie that it lifted my spirits and brightened \n",
    " my day, you can\\'t go wrong with a movie with Whoopi Goldberg in it.\"\"\"\n",
    "\n",
    "review6 = \"\"\"I don\\'t understand why it received an oscar recommendation\n",
    " for best movie, it was long and boring\"\"\"\n",
    "\n",
    "review7 = \"\"\"the scenery was magnificent, the CGI of the dogs was so realistic I\n",
    " thought they were played by real dogs even though they talked!\"\"\"\n",
    "\n",
    "review8 = \"\"\"The ending was so sad and yet so uplifting at the same time. \n",
    " I'm looking for an excuse to see it again\"\"\"\n",
    "\n",
    "review9 = \"\"\"I had expected so much more from a movie made by the director \n",
    " who made my most favorite movie ever, I was very disappointed in the tedious \n",
    " story\"\"\"\n",
    "\n",
    "review10 = \"I wish I could watch this movie every day for the rest of my life\"\n",
    "\n",
    "more_reviews = [review1, review2, review3, review4, review5, review6, review7, \n",
    "               review8, review9, review10]\n"
   ]
  },
  {
   "cell_type": "code",
   "execution_count": 19,
   "metadata": {
    "colab": {
     "base_uri": "https://localhost:8080/",
     "height": 867
    },
    "colab_type": "code",
    "id": "QlYO7ftVKeMm",
    "outputId": "19d07a30-f030-416f-df81-12ac2763b444"
   },
   "outputs": [
    {
     "name": "stdout",
     "output_type": "stream",
     "text": [
      "============================\n",
      " Embeddings only:\n",
      " ============================\n",
      "I loved this movie\n",
      "[0.37605193]\n",
      "\n",
      "\n",
      "that was the worst movie I've ever seen\n",
      "[0.10751317]\n",
      "\n",
      "\n",
      "too much violence even for a Bond film\n",
      "[0.03014242]\n",
      "\n",
      "\n",
      "a captivating recounting of a cherished myth\n",
      "[0.5916903]\n",
      "\n",
      "\n",
      "I saw this movie yesterday and I was feeling low to start with,\n",
      " but it was such a wonderful movie that it lifted my spirits and brightened \n",
      " my day, you can't go wrong with a movie with Whoopi Goldberg in it.\n",
      "[0.28195438]\n",
      "\n",
      "\n",
      "I don't understand why it received an oscar recommendation\n",
      " for best movie, it was long and boring\n",
      "[0.47447312]\n",
      "\n",
      "\n",
      "the scenery was magnificent, the CGI of the dogs was so realistic I\n",
      " thought they were played by real dogs even though they talked!\n",
      "[0.26735488]\n",
      "\n",
      "\n",
      "The ending was so sad and yet so uplifting at the same time. \n",
      " I'm looking for an excuse to see it again\n",
      "[0.489395]\n",
      "\n",
      "\n",
      "I had expected so much more from a movie made by the director \n",
      " who made my most favorite movie ever, I was very disappointed in the tedious \n",
      " story\n",
      "[0.01013994]\n",
      "\n",
      "\n",
      "I wish I could watch this movie every day for the rest of my life\n",
      "[0.29397354]\n",
      "\n",
      "\n"
     ]
    }
   ],
   "source": [
    "print(\"============================\\n\",\"Embeddings only:\\n\", \"============================\")\n",
    "predict_review(model, more_reviews)"
   ]
  },
  {
   "cell_type": "code",
   "execution_count": 20,
   "metadata": {
    "colab": {
     "base_uri": "https://localhost:8080/",
     "height": 867
    },
    "colab_type": "code",
    "id": "Olf2fQ1BKfj9",
    "outputId": "d5d93145-ba2e-4cc9-9fd0-50aff863afcc"
   },
   "outputs": [
    {
     "name": "stdout",
     "output_type": "stream",
     "text": [
      "============================\n",
      " With CNN\n",
      " ============================\n",
      "I loved this movie\n",
      "[0.8168465]\n",
      "\n",
      "\n",
      "that was the worst movie I've ever seen\n",
      "[0.02201137]\n",
      "\n",
      "\n",
      "too much violence even for a Bond film\n",
      "[0.00506399]\n",
      "\n",
      "\n",
      "a captivating recounting of a cherished myth\n",
      "[0.6824714]\n",
      "\n",
      "\n",
      "I saw this movie yesterday and I was feeling low to start with,\n",
      " but it was such a wonderful movie that it lifted my spirits and brightened \n",
      " my day, you can't go wrong with a movie with Whoopi Goldberg in it.\n",
      "[0.65323055]\n",
      "\n",
      "\n",
      "I don't understand why it received an oscar recommendation\n",
      " for best movie, it was long and boring\n",
      "[0.91850924]\n",
      "\n",
      "\n",
      "the scenery was magnificent, the CGI of the dogs was so realistic I\n",
      " thought they were played by real dogs even though they talked!\n",
      "[0.22881518]\n",
      "\n",
      "\n",
      "The ending was so sad and yet so uplifting at the same time. \n",
      " I'm looking for an excuse to see it again\n",
      "[0.70266366]\n",
      "\n",
      "\n",
      "I had expected so much more from a movie made by the director \n",
      " who made my most favorite movie ever, I was very disappointed in the tedious \n",
      " story\n",
      "[0.05980185]\n",
      "\n",
      "\n",
      "I wish I could watch this movie every day for the rest of my life\n",
      "[0.3399837]\n",
      "\n",
      "\n"
     ]
    }
   ],
   "source": [
    "print(\"============================\\n\",\"With CNN\\n\", \"============================\")\n",
    "predict_review(model_cnn, more_reviews)"
   ]
  },
  {
   "cell_type": "code",
   "execution_count": 21,
   "metadata": {
    "colab": {
     "base_uri": "https://localhost:8080/",
     "height": 867
    },
    "colab_type": "code",
    "id": "dbVa0gccKgoy",
    "outputId": "f848577d-1338-4787-b8a3-575fd2777f4c"
   },
   "outputs": [
    {
     "name": "stdout",
     "output_type": "stream",
     "text": [
      "===========================\n",
      " With bidirectional GRU\n",
      " ============================\n",
      "I loved this movie\n",
      "[0.32080284]\n",
      "\n",
      "\n",
      "that was the worst movie I've ever seen\n",
      "[0.1174226]\n",
      "\n",
      "\n",
      "too much violence even for a Bond film\n",
      "[0.09885525]\n",
      "\n",
      "\n",
      "a captivating recounting of a cherished myth\n",
      "[0.5114695]\n",
      "\n",
      "\n",
      "I saw this movie yesterday and I was feeling low to start with,\n",
      " but it was such a wonderful movie that it lifted my spirits and brightened \n",
      " my day, you can't go wrong with a movie with Whoopi Goldberg in it.\n",
      "[0.10725697]\n",
      "\n",
      "\n",
      "I don't understand why it received an oscar recommendation\n",
      " for best movie, it was long and boring\n",
      "[0.2416777]\n",
      "\n",
      "\n",
      "the scenery was magnificent, the CGI of the dogs was so realistic I\n",
      " thought they were played by real dogs even though they talked!\n",
      "[0.13711616]\n",
      "\n",
      "\n",
      "The ending was so sad and yet so uplifting at the same time. \n",
      " I'm looking for an excuse to see it again\n",
      "[0.5463115]\n",
      "\n",
      "\n",
      "I had expected so much more from a movie made by the director \n",
      " who made my most favorite movie ever, I was very disappointed in the tedious \n",
      " story\n",
      "[0.07194155]\n",
      "\n",
      "\n",
      "I wish I could watch this movie every day for the rest of my life\n",
      "[0.15554607]\n",
      "\n",
      "\n"
     ]
    }
   ],
   "source": [
    "print(\"===========================\\n\",\"With bidirectional GRU\\n\", \"============================\")\n",
    "predict_review(model_gru, more_reviews)"
   ]
  },
  {
   "cell_type": "code",
   "execution_count": 22,
   "metadata": {
    "colab": {
     "base_uri": "https://localhost:8080/",
     "height": 867
    },
    "colab_type": "code",
    "id": "f5ROD-BCKh9D",
    "outputId": "671f5006-ac09-4d2f-eaed-d7943960c0c8"
   },
   "outputs": [
    {
     "name": "stdout",
     "output_type": "stream",
     "text": [
      "===========================\n",
      " With a single bidirectional LSTM:\n",
      " ===========================\n",
      "I loved this movie\n",
      "[0.46079838]\n",
      "\n",
      "\n",
      "that was the worst movie I've ever seen\n",
      "[0.21177636]\n",
      "\n",
      "\n",
      "too much violence even for a Bond film\n",
      "[0.38008955]\n",
      "\n",
      "\n",
      "a captivating recounting of a cherished myth\n",
      "[0.51104355]\n",
      "\n",
      "\n",
      "I saw this movie yesterday and I was feeling low to start with,\n",
      " but it was such a wonderful movie that it lifted my spirits and brightened \n",
      " my day, you can't go wrong with a movie with Whoopi Goldberg in it.\n",
      "[0.3585305]\n",
      "\n",
      "\n",
      "I don't understand why it received an oscar recommendation\n",
      " for best movie, it was long and boring\n",
      "[0.5652817]\n",
      "\n",
      "\n",
      "the scenery was magnificent, the CGI of the dogs was so realistic I\n",
      " thought they were played by real dogs even though they talked!\n",
      "[0.20136029]\n",
      "\n",
      "\n",
      "The ending was so sad and yet so uplifting at the same time. \n",
      " I'm looking for an excuse to see it again\n",
      "[0.43636012]\n",
      "\n",
      "\n",
      "I had expected so much more from a movie made by the director \n",
      " who made my most favorite movie ever, I was very disappointed in the tedious \n",
      " story\n",
      "[0.19525565]\n",
      "\n",
      "\n",
      "I wish I could watch this movie every day for the rest of my life\n",
      "[0.5879127]\n",
      "\n",
      "\n"
     ]
    }
   ],
   "source": [
    "print(\"===========================\\n\", \"With a single bidirectional LSTM:\\n\", \"===========================\")\n",
    "predict_review(model_bidi_lstm, more_reviews)"
   ]
  },
  {
   "cell_type": "code",
   "execution_count": 23,
   "metadata": {
    "colab": {
     "base_uri": "https://localhost:8080/",
     "height": 867
    },
    "colab_type": "code",
    "id": "fHLevLgdKi3Z",
    "outputId": "3094a773-82e6-401d-df48-0d52ae06c258"
   },
   "outputs": [
    {
     "name": "stdout",
     "output_type": "stream",
     "text": [
      "===========================\n",
      " With multiple bidirectional LSTM:\n",
      " ==========================\n",
      "I loved this movie\n",
      "[0.547561]\n",
      "\n",
      "\n",
      "that was the worst movie I've ever seen\n",
      "[0.02361305]\n",
      "\n",
      "\n",
      "too much violence even for a Bond film\n",
      "[0.00933948]\n",
      "\n",
      "\n",
      "a captivating recounting of a cherished myth\n",
      "[0.9962529]\n",
      "\n",
      "\n",
      "I saw this movie yesterday and I was feeling low to start with,\n",
      " but it was such a wonderful movie that it lifted my spirits and brightened \n",
      " my day, you can't go wrong with a movie with Whoopi Goldberg in it.\n",
      "[0.7593361]\n",
      "\n",
      "\n",
      "I don't understand why it received an oscar recommendation\n",
      " for best movie, it was long and boring\n",
      "[0.9966543]\n",
      "\n",
      "\n",
      "the scenery was magnificent, the CGI of the dogs was so realistic I\n",
      " thought they were played by real dogs even though they talked!\n",
      "[0.99291575]\n",
      "\n",
      "\n",
      "The ending was so sad and yet so uplifting at the same time. \n",
      " I'm looking for an excuse to see it again\n",
      "[0.99276567]\n",
      "\n",
      "\n",
      "I had expected so much more from a movie made by the director \n",
      " who made my most favorite movie ever, I was very disappointed in the tedious \n",
      " story\n",
      "[0.01475957]\n",
      "\n",
      "\n",
      "I wish I could watch this movie every day for the rest of my life\n",
      "[0.0172475]\n",
      "\n",
      "\n"
     ]
    }
   ],
   "source": [
    "print(\"===========================\\n\", \"With multiple bidirectional LSTM:\\n\", \"==========================\")\n",
    "predict_review(model_multiple_bidi_lstm, more_reviews)"
   ]
  }
 ],
 "metadata": {
  "accelerator": "GPU",
  "colab": {
   "name": "l10c02_nlp_multiple_models_for_predicting_sentiment.ipynb",
   "provenance": []
  },
  "kernelspec": {
   "display_name": "Python 3",
   "language": "python",
   "name": "python3"
  },
  "language_info": {
   "codemirror_mode": {
    "name": "ipython",
    "version": 3
   },
   "file_extension": ".py",
   "mimetype": "text/x-python",
   "name": "python",
   "nbconvert_exporter": "python",
   "pygments_lexer": "ipython3",
   "version": "3.7.2"
  },
  "widgets": {
   "application/vnd.jupyter.widget-state+json": {
    "00fecc067c1348ad83fbf196a632228a": {
     "model_module": "@jupyter-widgets/controls",
     "model_name": "ProgressStyleModel",
     "state": {
      "_model_module": "@jupyter-widgets/controls",
      "_model_module_version": "1.5.0",
      "_model_name": "ProgressStyleModel",
      "_view_count": null,
      "_view_module": "@jupyter-widgets/base",
      "_view_module_version": "1.2.0",
      "_view_name": "StyleView",
      "bar_color": null,
      "description_width": "initial"
     }
    },
    "01ea266e17244f1a9ea29eb5734f5b40": {
     "model_module": "@jupyter-widgets/controls",
     "model_name": "HTMLModel",
     "state": {
      "_dom_classes": [],
      "_model_module": "@jupyter-widgets/controls",
      "_model_module_version": "1.5.0",
      "_model_name": "HTMLModel",
      "_view_count": null,
      "_view_module": "@jupyter-widgets/controls",
      "_view_module_version": "1.5.0",
      "_view_name": "HTMLView",
      "description": "",
      "description_tooltip": null,
      "layout": "IPY_MODEL_4eb77c3151b240c19db50f07785d6950",
      "placeholder": "​",
      "style": "IPY_MODEL_e9bf785ff4fe43c38ba67e846cfd3e7a",
      "value": " 1821/0 [00:00&lt;00:00, 2454.91 examples/s]"
     }
    },
    "02f364e0a7484435a2811dd98728f6ad": {
     "model_module": "@jupyter-widgets/base",
     "model_name": "LayoutModel",
     "state": {
      "_model_module": "@jupyter-widgets/base",
      "_model_module_version": "1.2.0",
      "_model_name": "LayoutModel",
      "_view_count": null,
      "_view_module": "@jupyter-widgets/base",
      "_view_module_version": "1.2.0",
      "_view_name": "LayoutView",
      "align_content": null,
      "align_items": null,
      "align_self": null,
      "border": null,
      "bottom": null,
      "display": null,
      "flex": null,
      "flex_flow": null,
      "grid_area": null,
      "grid_auto_columns": null,
      "grid_auto_flow": null,
      "grid_auto_rows": null,
      "grid_column": null,
      "grid_gap": null,
      "grid_row": null,
      "grid_template_areas": null,
      "grid_template_columns": null,
      "grid_template_rows": null,
      "height": null,
      "justify_content": null,
      "justify_items": null,
      "left": null,
      "margin": null,
      "max_height": null,
      "max_width": null,
      "min_height": null,
      "min_width": null,
      "object_fit": null,
      "object_position": null,
      "order": null,
      "overflow": null,
      "overflow_x": null,
      "overflow_y": null,
      "padding": null,
      "right": null,
      "top": null,
      "visibility": null,
      "width": null
     }
    },
    "041287272a7f414d934c36f6465e3c5b": {
     "model_module": "@jupyter-widgets/controls",
     "model_name": "DescriptionStyleModel",
     "state": {
      "_model_module": "@jupyter-widgets/controls",
      "_model_module_version": "1.5.0",
      "_model_name": "DescriptionStyleModel",
      "_view_count": null,
      "_view_module": "@jupyter-widgets/base",
      "_view_module_version": "1.2.0",
      "_view_name": "StyleView",
      "description_width": ""
     }
    },
    "0d763e252aeb4511afed13e14cd906ef": {
     "model_module": "@jupyter-widgets/base",
     "model_name": "LayoutModel",
     "state": {
      "_model_module": "@jupyter-widgets/base",
      "_model_module_version": "1.2.0",
      "_model_name": "LayoutModel",
      "_view_count": null,
      "_view_module": "@jupyter-widgets/base",
      "_view_module_version": "1.2.0",
      "_view_name": "LayoutView",
      "align_content": null,
      "align_items": null,
      "align_self": null,
      "border": null,
      "bottom": null,
      "display": null,
      "flex": null,
      "flex_flow": null,
      "grid_area": null,
      "grid_auto_columns": null,
      "grid_auto_flow": null,
      "grid_auto_rows": null,
      "grid_column": null,
      "grid_gap": null,
      "grid_row": null,
      "grid_template_areas": null,
      "grid_template_columns": null,
      "grid_template_rows": null,
      "height": null,
      "justify_content": null,
      "justify_items": null,
      "left": null,
      "margin": null,
      "max_height": null,
      "max_width": null,
      "min_height": null,
      "min_width": null,
      "object_fit": null,
      "object_position": null,
      "order": null,
      "overflow": null,
      "overflow_x": null,
      "overflow_y": null,
      "padding": null,
      "right": null,
      "top": null,
      "visibility": null,
      "width": null
     }
    },
    "0f9c1c2d2129458b881abd6a18fcdc50": {
     "model_module": "@jupyter-widgets/base",
     "model_name": "LayoutModel",
     "state": {
      "_model_module": "@jupyter-widgets/base",
      "_model_module_version": "1.2.0",
      "_model_name": "LayoutModel",
      "_view_count": null,
      "_view_module": "@jupyter-widgets/base",
      "_view_module_version": "1.2.0",
      "_view_name": "LayoutView",
      "align_content": null,
      "align_items": null,
      "align_self": null,
      "border": null,
      "bottom": null,
      "display": null,
      "flex": null,
      "flex_flow": null,
      "grid_area": null,
      "grid_auto_columns": null,
      "grid_auto_flow": null,
      "grid_auto_rows": null,
      "grid_column": null,
      "grid_gap": null,
      "grid_row": null,
      "grid_template_areas": null,
      "grid_template_columns": null,
      "grid_template_rows": null,
      "height": null,
      "justify_content": null,
      "justify_items": null,
      "left": null,
      "margin": null,
      "max_height": null,
      "max_width": null,
      "min_height": null,
      "min_width": null,
      "object_fit": null,
      "object_position": null,
      "order": null,
      "overflow": null,
      "overflow_x": null,
      "overflow_y": null,
      "padding": null,
      "right": null,
      "top": null,
      "visibility": null,
      "width": null
     }
    },
    "11dd00bc138c4265a1f6d9337dc2ede9": {
     "model_module": "@jupyter-widgets/controls",
     "model_name": "FloatProgressModel",
     "state": {
      "_dom_classes": [],
      "_model_module": "@jupyter-widgets/controls",
      "_model_module_version": "1.5.0",
      "_model_name": "FloatProgressModel",
      "_view_count": null,
      "_view_module": "@jupyter-widgets/controls",
      "_view_module_version": "1.5.0",
      "_view_name": "ProgressView",
      "bar_style": "info",
      "description": "",
      "description_tooltip": null,
      "layout": "IPY_MODEL_e9af158fd89b4001b58c678a7309f890",
      "max": 1,
      "min": 0,
      "orientation": "horizontal",
      "style": "IPY_MODEL_9741df96ebab4ae9a3aa9bff966e0a2f",
      "value": 1
     }
    },
    "1d1e978dd82742969c890ed666b09ae1": {
     "model_module": "@jupyter-widgets/controls",
     "model_name": "ProgressStyleModel",
     "state": {
      "_model_module": "@jupyter-widgets/controls",
      "_model_module_version": "1.5.0",
      "_model_name": "ProgressStyleModel",
      "_view_count": null,
      "_view_module": "@jupyter-widgets/base",
      "_view_module_version": "1.2.0",
      "_view_name": "StyleView",
      "bar_color": null,
      "description_width": "initial"
     }
    },
    "1e4a29090c69401482f032b7abc7b024": {
     "model_module": "@jupyter-widgets/base",
     "model_name": "LayoutModel",
     "state": {
      "_model_module": "@jupyter-widgets/base",
      "_model_module_version": "1.2.0",
      "_model_name": "LayoutModel",
      "_view_count": null,
      "_view_module": "@jupyter-widgets/base",
      "_view_module_version": "1.2.0",
      "_view_name": "LayoutView",
      "align_content": null,
      "align_items": null,
      "align_self": null,
      "border": null,
      "bottom": null,
      "display": null,
      "flex": null,
      "flex_flow": null,
      "grid_area": null,
      "grid_auto_columns": null,
      "grid_auto_flow": null,
      "grid_auto_rows": null,
      "grid_column": null,
      "grid_gap": null,
      "grid_row": null,
      "grid_template_areas": null,
      "grid_template_columns": null,
      "grid_template_rows": null,
      "height": null,
      "justify_content": null,
      "justify_items": null,
      "left": null,
      "margin": null,
      "max_height": null,
      "max_width": null,
      "min_height": null,
      "min_width": null,
      "object_fit": null,
      "object_position": null,
      "order": null,
      "overflow": null,
      "overflow_x": null,
      "overflow_y": null,
      "padding": null,
      "right": null,
      "top": null,
      "visibility": null,
      "width": null
     }
    },
    "21337688a5234c76a4d8713dfa345874": {
     "model_module": "@jupyter-widgets/controls",
     "model_name": "FloatProgressModel",
     "state": {
      "_dom_classes": [],
      "_model_module": "@jupyter-widgets/controls",
      "_model_module_version": "1.5.0",
      "_model_name": "FloatProgressModel",
      "_view_count": null,
      "_view_module": "@jupyter-widgets/controls",
      "_view_module_version": "1.5.0",
      "_view_name": "ProgressView",
      "bar_style": "success",
      "description": "Dl Completed...: 100%",
      "description_tooltip": null,
      "layout": "IPY_MODEL_02f364e0a7484435a2811dd98728f6ad",
      "max": 1,
      "min": 0,
      "orientation": "horizontal",
      "style": "IPY_MODEL_1d1e978dd82742969c890ed666b09ae1",
      "value": 1
     }
    },
    "215f5600e22d4d16ae70b536ae5d07a1": {
     "model_module": "@jupyter-widgets/controls",
     "model_name": "FloatProgressModel",
     "state": {
      "_dom_classes": [],
      "_model_module": "@jupyter-widgets/controls",
      "_model_module_version": "1.5.0",
      "_model_name": "FloatProgressModel",
      "_view_count": null,
      "_view_module": "@jupyter-widgets/controls",
      "_view_module_version": "1.5.0",
      "_view_name": "ProgressView",
      "bar_style": "danger",
      "description": "  0%",
      "description_tooltip": null,
      "layout": "IPY_MODEL_0f9c1c2d2129458b881abd6a18fcdc50",
      "max": 1821,
      "min": 0,
      "orientation": "horizontal",
      "style": "IPY_MODEL_6b977a143020416a9b81cb3255c86b01",
      "value": 0
     }
    },
    "225cf31be71541c2a4b3812042e674f1": {
     "model_module": "@jupyter-widgets/controls",
     "model_name": "FloatProgressModel",
     "state": {
      "_dom_classes": [],
      "_model_module": "@jupyter-widgets/controls",
      "_model_module_version": "1.5.0",
      "_model_name": "FloatProgressModel",
      "_view_count": null,
      "_view_module": "@jupyter-widgets/controls",
      "_view_module_version": "1.5.0",
      "_view_name": "ProgressView",
      "bar_style": "success",
      "description": "Dl Size...: 100%",
      "description_tooltip": null,
      "layout": "IPY_MODEL_5c98a7a83093460d8526d235ada2bc19",
      "max": 1,
      "min": 0,
      "orientation": "horizontal",
      "style": "IPY_MODEL_5d2c7c3de7b9476bbbe64cb5b0bb7dca",
      "value": 1
     }
    },
    "2365694938e542b3ab1c9f5300220501": {
     "model_module": "@jupyter-widgets/base",
     "model_name": "LayoutModel",
     "state": {
      "_model_module": "@jupyter-widgets/base",
      "_model_module_version": "1.2.0",
      "_model_name": "LayoutModel",
      "_view_count": null,
      "_view_module": "@jupyter-widgets/base",
      "_view_module_version": "1.2.0",
      "_view_name": "LayoutView",
      "align_content": null,
      "align_items": null,
      "align_self": null,
      "border": null,
      "bottom": null,
      "display": null,
      "flex": null,
      "flex_flow": null,
      "grid_area": null,
      "grid_auto_columns": null,
      "grid_auto_flow": null,
      "grid_auto_rows": null,
      "grid_column": null,
      "grid_gap": null,
      "grid_row": null,
      "grid_template_areas": null,
      "grid_template_columns": null,
      "grid_template_rows": null,
      "height": null,
      "justify_content": null,
      "justify_items": null,
      "left": null,
      "margin": null,
      "max_height": null,
      "max_width": null,
      "min_height": null,
      "min_width": null,
      "object_fit": null,
      "object_position": null,
      "order": null,
      "overflow": null,
      "overflow_x": null,
      "overflow_y": null,
      "padding": null,
      "right": null,
      "top": null,
      "visibility": null,
      "width": null
     }
    },
    "24344f370a144b7f85bfaa81bb110479": {
     "model_module": "@jupyter-widgets/base",
     "model_name": "LayoutModel",
     "state": {
      "_model_module": "@jupyter-widgets/base",
      "_model_module_version": "1.2.0",
      "_model_name": "LayoutModel",
      "_view_count": null,
      "_view_module": "@jupyter-widgets/base",
      "_view_module_version": "1.2.0",
      "_view_name": "LayoutView",
      "align_content": null,
      "align_items": null,
      "align_self": null,
      "border": null,
      "bottom": null,
      "display": null,
      "flex": null,
      "flex_flow": null,
      "grid_area": null,
      "grid_auto_columns": null,
      "grid_auto_flow": null,
      "grid_auto_rows": null,
      "grid_column": null,
      "grid_gap": null,
      "grid_row": null,
      "grid_template_areas": null,
      "grid_template_columns": null,
      "grid_template_rows": null,
      "height": null,
      "justify_content": null,
      "justify_items": null,
      "left": null,
      "margin": null,
      "max_height": null,
      "max_width": null,
      "min_height": null,
      "min_width": null,
      "object_fit": null,
      "object_position": null,
      "order": null,
      "overflow": null,
      "overflow_x": null,
      "overflow_y": null,
      "padding": null,
      "right": null,
      "top": null,
      "visibility": null,
      "width": null
     }
    },
    "29b3d6084f2541e999e1b7d126ed37d9": {
     "model_module": "@jupyter-widgets/controls",
     "model_name": "FloatProgressModel",
     "state": {
      "_dom_classes": [],
      "_model_module": "@jupyter-widgets/controls",
      "_model_module_version": "1.5.0",
      "_model_name": "FloatProgressModel",
      "_view_count": null,
      "_view_module": "@jupyter-widgets/controls",
      "_view_module_version": "1.5.0",
      "_view_name": "ProgressView",
      "bar_style": "info",
      "description": "",
      "description_tooltip": null,
      "layout": "IPY_MODEL_a7970048131c4dc483d20b9836d5094e",
      "max": 1,
      "min": 0,
      "orientation": "horizontal",
      "style": "IPY_MODEL_9764fa1e21734050bac6ecc5bdaf5134",
      "value": 1
     }
    },
    "2a788d009dc94d83aab4690c1bb15c80": {
     "model_module": "@jupyter-widgets/base",
     "model_name": "LayoutModel",
     "state": {
      "_model_module": "@jupyter-widgets/base",
      "_model_module_version": "1.2.0",
      "_model_name": "LayoutModel",
      "_view_count": null,
      "_view_module": "@jupyter-widgets/base",
      "_view_module_version": "1.2.0",
      "_view_name": "LayoutView",
      "align_content": null,
      "align_items": null,
      "align_self": null,
      "border": null,
      "bottom": null,
      "display": null,
      "flex": null,
      "flex_flow": null,
      "grid_area": null,
      "grid_auto_columns": null,
      "grid_auto_flow": null,
      "grid_auto_rows": null,
      "grid_column": null,
      "grid_gap": null,
      "grid_row": null,
      "grid_template_areas": null,
      "grid_template_columns": null,
      "grid_template_rows": null,
      "height": null,
      "justify_content": null,
      "justify_items": null,
      "left": null,
      "margin": null,
      "max_height": null,
      "max_width": null,
      "min_height": null,
      "min_width": null,
      "object_fit": null,
      "object_position": null,
      "order": null,
      "overflow": null,
      "overflow_x": null,
      "overflow_y": null,
      "padding": null,
      "right": null,
      "top": null,
      "visibility": null,
      "width": null
     }
    },
    "2b9110270a394f8eaed1861264ec57ce": {
     "model_module": "@jupyter-widgets/controls",
     "model_name": "DescriptionStyleModel",
     "state": {
      "_model_module": "@jupyter-widgets/controls",
      "_model_module_version": "1.5.0",
      "_model_name": "DescriptionStyleModel",
      "_view_count": null,
      "_view_module": "@jupyter-widgets/base",
      "_view_module_version": "1.2.0",
      "_view_name": "StyleView",
      "description_width": ""
     }
    },
    "2f029dd0a573494c90ca60032692a87a": {
     "model_module": "@jupyter-widgets/base",
     "model_name": "LayoutModel",
     "state": {
      "_model_module": "@jupyter-widgets/base",
      "_model_module_version": "1.2.0",
      "_model_name": "LayoutModel",
      "_view_count": null,
      "_view_module": "@jupyter-widgets/base",
      "_view_module_version": "1.2.0",
      "_view_name": "LayoutView",
      "align_content": null,
      "align_items": null,
      "align_self": null,
      "border": null,
      "bottom": null,
      "display": null,
      "flex": null,
      "flex_flow": null,
      "grid_area": null,
      "grid_auto_columns": null,
      "grid_auto_flow": null,
      "grid_auto_rows": null,
      "grid_column": null,
      "grid_gap": null,
      "grid_row": null,
      "grid_template_areas": null,
      "grid_template_columns": null,
      "grid_template_rows": null,
      "height": null,
      "justify_content": null,
      "justify_items": null,
      "left": null,
      "margin": null,
      "max_height": null,
      "max_width": null,
      "min_height": null,
      "min_width": null,
      "object_fit": null,
      "object_position": null,
      "order": null,
      "overflow": null,
      "overflow_x": null,
      "overflow_y": null,
      "padding": null,
      "right": null,
      "top": null,
      "visibility": null,
      "width": null
     }
    },
    "302f1f810a4b4182837c6d440ee8397a": {
     "model_module": "@jupyter-widgets/controls",
     "model_name": "HBoxModel",
     "state": {
      "_dom_classes": [],
      "_model_module": "@jupyter-widgets/controls",
      "_model_module_version": "1.5.0",
      "_model_name": "HBoxModel",
      "_view_count": null,
      "_view_module": "@jupyter-widgets/controls",
      "_view_module_version": "1.5.0",
      "_view_name": "HBoxView",
      "box_style": "",
      "children": [
       "IPY_MODEL_7fa1635321de43eba7d11aba9c8a5965",
       "IPY_MODEL_a5687303ca144db6a328e1669cc95e79"
      ],
      "layout": "IPY_MODEL_525d9d41324248f4aa82c2b4cb6bf757"
     }
    },
    "31b7f42875284793ae967bf118057b90": {
     "model_module": "@jupyter-widgets/base",
     "model_name": "LayoutModel",
     "state": {
      "_model_module": "@jupyter-widgets/base",
      "_model_module_version": "1.2.0",
      "_model_name": "LayoutModel",
      "_view_count": null,
      "_view_module": "@jupyter-widgets/base",
      "_view_module_version": "1.2.0",
      "_view_name": "LayoutView",
      "align_content": null,
      "align_items": null,
      "align_self": null,
      "border": null,
      "bottom": null,
      "display": null,
      "flex": null,
      "flex_flow": null,
      "grid_area": null,
      "grid_auto_columns": null,
      "grid_auto_flow": null,
      "grid_auto_rows": null,
      "grid_column": null,
      "grid_gap": null,
      "grid_row": null,
      "grid_template_areas": null,
      "grid_template_columns": null,
      "grid_template_rows": null,
      "height": null,
      "justify_content": null,
      "justify_items": null,
      "left": null,
      "margin": null,
      "max_height": null,
      "max_width": null,
      "min_height": null,
      "min_width": null,
      "object_fit": null,
      "object_position": null,
      "order": null,
      "overflow": null,
      "overflow_x": null,
      "overflow_y": null,
      "padding": null,
      "right": null,
      "top": null,
      "visibility": null,
      "width": null
     }
    },
    "34cb610fa02a4c6aa1dbae8de4d20e15": {
     "model_module": "@jupyter-widgets/controls",
     "model_name": "HBoxModel",
     "state": {
      "_dom_classes": [],
      "_model_module": "@jupyter-widgets/controls",
      "_model_module_version": "1.5.0",
      "_model_name": "HBoxModel",
      "_view_count": null,
      "_view_module": "@jupyter-widgets/controls",
      "_view_module_version": "1.5.0",
      "_view_name": "HBoxView",
      "box_style": "",
      "children": [
       "IPY_MODEL_21337688a5234c76a4d8713dfa345874",
       "IPY_MODEL_d6cad663313f449d815094f57a37ef12"
      ],
      "layout": "IPY_MODEL_6ed3e83b9b874e058b306f0d62f39b68"
     }
    },
    "3618313048664cccbc6e15491167cf6a": {
     "model_module": "@jupyter-widgets/base",
     "model_name": "LayoutModel",
     "state": {
      "_model_module": "@jupyter-widgets/base",
      "_model_module_version": "1.2.0",
      "_model_name": "LayoutModel",
      "_view_count": null,
      "_view_module": "@jupyter-widgets/base",
      "_view_module_version": "1.2.0",
      "_view_name": "LayoutView",
      "align_content": null,
      "align_items": null,
      "align_self": null,
      "border": null,
      "bottom": null,
      "display": null,
      "flex": null,
      "flex_flow": null,
      "grid_area": null,
      "grid_auto_columns": null,
      "grid_auto_flow": null,
      "grid_auto_rows": null,
      "grid_column": null,
      "grid_gap": null,
      "grid_row": null,
      "grid_template_areas": null,
      "grid_template_columns": null,
      "grid_template_rows": null,
      "height": null,
      "justify_content": null,
      "justify_items": null,
      "left": null,
      "margin": null,
      "max_height": null,
      "max_width": null,
      "min_height": null,
      "min_width": null,
      "object_fit": null,
      "object_position": null,
      "order": null,
      "overflow": null,
      "overflow_x": null,
      "overflow_y": null,
      "padding": null,
      "right": null,
      "top": null,
      "visibility": null,
      "width": null
     }
    },
    "4017670389e347b6aced753d6b7d73de": {
     "model_module": "@jupyter-widgets/controls",
     "model_name": "HTMLModel",
     "state": {
      "_dom_classes": [],
      "_model_module": "@jupyter-widgets/controls",
      "_model_module_version": "1.5.0",
      "_model_name": "HTMLModel",
      "_view_count": null,
      "_view_module": "@jupyter-widgets/controls",
      "_view_module_version": "1.5.0",
      "_view_name": "HTMLView",
      "description": "",
      "description_tooltip": null,
      "layout": "IPY_MODEL_bd71b219bc7d402ba50a7ff4bf3cc4b3",
      "placeholder": "​",
      "style": "IPY_MODEL_041287272a7f414d934c36f6465e3c5b",
      "value": " 0/1821 [00:00&lt;?, ? examples/s]"
     }
    },
    "45c9ba0cb04e427299e2f1fc2a6daa5d": {
     "model_module": "@jupyter-widgets/base",
     "model_name": "LayoutModel",
     "state": {
      "_model_module": "@jupyter-widgets/base",
      "_model_module_version": "1.2.0",
      "_model_name": "LayoutModel",
      "_view_count": null,
      "_view_module": "@jupyter-widgets/base",
      "_view_module_version": "1.2.0",
      "_view_name": "LayoutView",
      "align_content": null,
      "align_items": null,
      "align_self": null,
      "border": null,
      "bottom": null,
      "display": null,
      "flex": null,
      "flex_flow": null,
      "grid_area": null,
      "grid_auto_columns": null,
      "grid_auto_flow": null,
      "grid_auto_rows": null,
      "grid_column": null,
      "grid_gap": null,
      "grid_row": null,
      "grid_template_areas": null,
      "grid_template_columns": null,
      "grid_template_rows": null,
      "height": null,
      "justify_content": null,
      "justify_items": null,
      "left": null,
      "margin": null,
      "max_height": null,
      "max_width": null,
      "min_height": null,
      "min_width": null,
      "object_fit": null,
      "object_position": null,
      "order": null,
      "overflow": null,
      "overflow_x": null,
      "overflow_y": null,
      "padding": null,
      "right": null,
      "top": null,
      "visibility": null,
      "width": null
     }
    },
    "4eb77c3151b240c19db50f07785d6950": {
     "model_module": "@jupyter-widgets/base",
     "model_name": "LayoutModel",
     "state": {
      "_model_module": "@jupyter-widgets/base",
      "_model_module_version": "1.2.0",
      "_model_name": "LayoutModel",
      "_view_count": null,
      "_view_module": "@jupyter-widgets/base",
      "_view_module_version": "1.2.0",
      "_view_name": "LayoutView",
      "align_content": null,
      "align_items": null,
      "align_self": null,
      "border": null,
      "bottom": null,
      "display": null,
      "flex": null,
      "flex_flow": null,
      "grid_area": null,
      "grid_auto_columns": null,
      "grid_auto_flow": null,
      "grid_auto_rows": null,
      "grid_column": null,
      "grid_gap": null,
      "grid_row": null,
      "grid_template_areas": null,
      "grid_template_columns": null,
      "grid_template_rows": null,
      "height": null,
      "justify_content": null,
      "justify_items": null,
      "left": null,
      "margin": null,
      "max_height": null,
      "max_width": null,
      "min_height": null,
      "min_width": null,
      "object_fit": null,
      "object_position": null,
      "order": null,
      "overflow": null,
      "overflow_x": null,
      "overflow_y": null,
      "padding": null,
      "right": null,
      "top": null,
      "visibility": null,
      "width": null
     }
    },
    "519ea5fc1f4a4df0a8cee128b2eed0ba": {
     "model_module": "@jupyter-widgets/controls",
     "model_name": "DescriptionStyleModel",
     "state": {
      "_model_module": "@jupyter-widgets/controls",
      "_model_module_version": "1.5.0",
      "_model_name": "DescriptionStyleModel",
      "_view_count": null,
      "_view_module": "@jupyter-widgets/base",
      "_view_module_version": "1.2.0",
      "_view_name": "StyleView",
      "description_width": ""
     }
    },
    "525d9d41324248f4aa82c2b4cb6bf757": {
     "model_module": "@jupyter-widgets/base",
     "model_name": "LayoutModel",
     "state": {
      "_model_module": "@jupyter-widgets/base",
      "_model_module_version": "1.2.0",
      "_model_name": "LayoutModel",
      "_view_count": null,
      "_view_module": "@jupyter-widgets/base",
      "_view_module_version": "1.2.0",
      "_view_name": "LayoutView",
      "align_content": null,
      "align_items": null,
      "align_self": null,
      "border": null,
      "bottom": null,
      "display": null,
      "flex": null,
      "flex_flow": null,
      "grid_area": null,
      "grid_auto_columns": null,
      "grid_auto_flow": null,
      "grid_auto_rows": null,
      "grid_column": null,
      "grid_gap": null,
      "grid_row": null,
      "grid_template_areas": null,
      "grid_template_columns": null,
      "grid_template_rows": null,
      "height": null,
      "justify_content": null,
      "justify_items": null,
      "left": null,
      "margin": null,
      "max_height": null,
      "max_width": null,
      "min_height": null,
      "min_width": null,
      "object_fit": null,
      "object_position": null,
      "order": null,
      "overflow": null,
      "overflow_x": null,
      "overflow_y": null,
      "padding": null,
      "right": null,
      "top": null,
      "visibility": null,
      "width": null
     }
    },
    "54f8af0d1e3b4453b7a11c0725f0b129": {
     "model_module": "@jupyter-widgets/controls",
     "model_name": "DescriptionStyleModel",
     "state": {
      "_model_module": "@jupyter-widgets/controls",
      "_model_module_version": "1.5.0",
      "_model_name": "DescriptionStyleModel",
      "_view_count": null,
      "_view_module": "@jupyter-widgets/base",
      "_view_module_version": "1.2.0",
      "_view_name": "StyleView",
      "description_width": ""
     }
    },
    "57bcc11d1e12409ab1bfdc3c21e4c2ca": {
     "model_module": "@jupyter-widgets/base",
     "model_name": "LayoutModel",
     "state": {
      "_model_module": "@jupyter-widgets/base",
      "_model_module_version": "1.2.0",
      "_model_name": "LayoutModel",
      "_view_count": null,
      "_view_module": "@jupyter-widgets/base",
      "_view_module_version": "1.2.0",
      "_view_name": "LayoutView",
      "align_content": null,
      "align_items": null,
      "align_self": null,
      "border": null,
      "bottom": null,
      "display": null,
      "flex": null,
      "flex_flow": null,
      "grid_area": null,
      "grid_auto_columns": null,
      "grid_auto_flow": null,
      "grid_auto_rows": null,
      "grid_column": null,
      "grid_gap": null,
      "grid_row": null,
      "grid_template_areas": null,
      "grid_template_columns": null,
      "grid_template_rows": null,
      "height": null,
      "justify_content": null,
      "justify_items": null,
      "left": null,
      "margin": null,
      "max_height": null,
      "max_width": null,
      "min_height": null,
      "min_width": null,
      "object_fit": null,
      "object_position": null,
      "order": null,
      "overflow": null,
      "overflow_x": null,
      "overflow_y": null,
      "padding": null,
      "right": null,
      "top": null,
      "visibility": null,
      "width": null
     }
    },
    "5c98a7a83093460d8526d235ada2bc19": {
     "model_module": "@jupyter-widgets/base",
     "model_name": "LayoutModel",
     "state": {
      "_model_module": "@jupyter-widgets/base",
      "_model_module_version": "1.2.0",
      "_model_name": "LayoutModel",
      "_view_count": null,
      "_view_module": "@jupyter-widgets/base",
      "_view_module_version": "1.2.0",
      "_view_name": "LayoutView",
      "align_content": null,
      "align_items": null,
      "align_self": null,
      "border": null,
      "bottom": null,
      "display": null,
      "flex": null,
      "flex_flow": null,
      "grid_area": null,
      "grid_auto_columns": null,
      "grid_auto_flow": null,
      "grid_auto_rows": null,
      "grid_column": null,
      "grid_gap": null,
      "grid_row": null,
      "grid_template_areas": null,
      "grid_template_columns": null,
      "grid_template_rows": null,
      "height": null,
      "justify_content": null,
      "justify_items": null,
      "left": null,
      "margin": null,
      "max_height": null,
      "max_width": null,
      "min_height": null,
      "min_width": null,
      "object_fit": null,
      "object_position": null,
      "order": null,
      "overflow": null,
      "overflow_x": null,
      "overflow_y": null,
      "padding": null,
      "right": null,
      "top": null,
      "visibility": null,
      "width": null
     }
    },
    "5d2c7c3de7b9476bbbe64cb5b0bb7dca": {
     "model_module": "@jupyter-widgets/controls",
     "model_name": "ProgressStyleModel",
     "state": {
      "_model_module": "@jupyter-widgets/controls",
      "_model_module_version": "1.5.0",
      "_model_name": "ProgressStyleModel",
      "_view_count": null,
      "_view_module": "@jupyter-widgets/base",
      "_view_module_version": "1.2.0",
      "_view_name": "StyleView",
      "bar_color": null,
      "description_width": "initial"
     }
    },
    "62f2e0f379a9494ea5bbe8fda3b01fe4": {
     "model_module": "@jupyter-widgets/base",
     "model_name": "LayoutModel",
     "state": {
      "_model_module": "@jupyter-widgets/base",
      "_model_module_version": "1.2.0",
      "_model_name": "LayoutModel",
      "_view_count": null,
      "_view_module": "@jupyter-widgets/base",
      "_view_module_version": "1.2.0",
      "_view_name": "LayoutView",
      "align_content": null,
      "align_items": null,
      "align_self": null,
      "border": null,
      "bottom": null,
      "display": null,
      "flex": null,
      "flex_flow": null,
      "grid_area": null,
      "grid_auto_columns": null,
      "grid_auto_flow": null,
      "grid_auto_rows": null,
      "grid_column": null,
      "grid_gap": null,
      "grid_row": null,
      "grid_template_areas": null,
      "grid_template_columns": null,
      "grid_template_rows": null,
      "height": null,
      "justify_content": null,
      "justify_items": null,
      "left": null,
      "margin": null,
      "max_height": null,
      "max_width": null,
      "min_height": null,
      "min_width": null,
      "object_fit": null,
      "object_position": null,
      "order": null,
      "overflow": null,
      "overflow_x": null,
      "overflow_y": null,
      "padding": null,
      "right": null,
      "top": null,
      "visibility": null,
      "width": null
     }
    },
    "6923fc620e9f4939bf9ecfd60aac1830": {
     "model_module": "@jupyter-widgets/controls",
     "model_name": "HBoxModel",
     "state": {
      "_dom_classes": [],
      "_model_module": "@jupyter-widgets/controls",
      "_model_module_version": "1.5.0",
      "_model_name": "HBoxModel",
      "_view_count": null,
      "_view_module": "@jupyter-widgets/controls",
      "_view_module_version": "1.5.0",
      "_view_name": "HBoxView",
      "box_style": "",
      "children": [
       "IPY_MODEL_11dd00bc138c4265a1f6d9337dc2ede9",
       "IPY_MODEL_751f7a58768540b9b01f6947769151da"
      ],
      "layout": "IPY_MODEL_2f029dd0a573494c90ca60032692a87a"
     }
    },
    "6ad96ff0318849568118c7d1cc73f6ef": {
     "model_module": "@jupyter-widgets/controls",
     "model_name": "HTMLModel",
     "state": {
      "_dom_classes": [],
      "_model_module": "@jupyter-widgets/controls",
      "_model_module_version": "1.5.0",
      "_model_name": "HTMLModel",
      "_view_count": null,
      "_view_module": "@jupyter-widgets/controls",
      "_view_module_version": "1.5.0",
      "_view_name": "HTMLView",
      "description": "",
      "description_tooltip": null,
      "layout": "IPY_MODEL_865280a7b646468183d837dc66d530f8",
      "placeholder": "​",
      "style": "IPY_MODEL_519ea5fc1f4a4df0a8cee128b2eed0ba",
      "value": " 7/7 [00:01&lt;00:00,  6.84 MiB/s]"
     }
    },
    "6b977a143020416a9b81cb3255c86b01": {
     "model_module": "@jupyter-widgets/controls",
     "model_name": "ProgressStyleModel",
     "state": {
      "_model_module": "@jupyter-widgets/controls",
      "_model_module_version": "1.5.0",
      "_model_name": "ProgressStyleModel",
      "_view_count": null,
      "_view_module": "@jupyter-widgets/base",
      "_view_module_version": "1.2.0",
      "_view_name": "StyleView",
      "bar_color": null,
      "description_width": "initial"
     }
    },
    "6d93b38c11bf44d2aecc905fbfe2f6a0": {
     "model_module": "@jupyter-widgets/base",
     "model_name": "LayoutModel",
     "state": {
      "_model_module": "@jupyter-widgets/base",
      "_model_module_version": "1.2.0",
      "_model_name": "LayoutModel",
      "_view_count": null,
      "_view_module": "@jupyter-widgets/base",
      "_view_module_version": "1.2.0",
      "_view_name": "LayoutView",
      "align_content": null,
      "align_items": null,
      "align_self": null,
      "border": null,
      "bottom": null,
      "display": null,
      "flex": null,
      "flex_flow": null,
      "grid_area": null,
      "grid_auto_columns": null,
      "grid_auto_flow": null,
      "grid_auto_rows": null,
      "grid_column": null,
      "grid_gap": null,
      "grid_row": null,
      "grid_template_areas": null,
      "grid_template_columns": null,
      "grid_template_rows": null,
      "height": null,
      "justify_content": null,
      "justify_items": null,
      "left": null,
      "margin": null,
      "max_height": null,
      "max_width": null,
      "min_height": null,
      "min_width": null,
      "object_fit": null,
      "object_position": null,
      "order": null,
      "overflow": null,
      "overflow_x": null,
      "overflow_y": null,
      "padding": null,
      "right": null,
      "top": null,
      "visibility": null,
      "width": null
     }
    },
    "6ed3e83b9b874e058b306f0d62f39b68": {
     "model_module": "@jupyter-widgets/base",
     "model_name": "LayoutModel",
     "state": {
      "_model_module": "@jupyter-widgets/base",
      "_model_module_version": "1.2.0",
      "_model_name": "LayoutModel",
      "_view_count": null,
      "_view_module": "@jupyter-widgets/base",
      "_view_module_version": "1.2.0",
      "_view_name": "LayoutView",
      "align_content": null,
      "align_items": null,
      "align_self": null,
      "border": null,
      "bottom": null,
      "display": null,
      "flex": null,
      "flex_flow": null,
      "grid_area": null,
      "grid_auto_columns": null,
      "grid_auto_flow": null,
      "grid_auto_rows": null,
      "grid_column": null,
      "grid_gap": null,
      "grid_row": null,
      "grid_template_areas": null,
      "grid_template_columns": null,
      "grid_template_rows": null,
      "height": null,
      "justify_content": null,
      "justify_items": null,
      "left": null,
      "margin": null,
      "max_height": null,
      "max_width": null,
      "min_height": null,
      "min_width": null,
      "object_fit": null,
      "object_position": null,
      "order": null,
      "overflow": null,
      "overflow_x": null,
      "overflow_y": null,
      "padding": null,
      "right": null,
      "top": null,
      "visibility": null,
      "width": null
     }
    },
    "751f7a58768540b9b01f6947769151da": {
     "model_module": "@jupyter-widgets/controls",
     "model_name": "HTMLModel",
     "state": {
      "_dom_classes": [],
      "_model_module": "@jupyter-widgets/controls",
      "_model_module_version": "1.5.0",
      "_model_name": "HTMLModel",
      "_view_count": null,
      "_view_module": "@jupyter-widgets/controls",
      "_view_module_version": "1.5.0",
      "_view_name": "HTMLView",
      "description": "",
      "description_tooltip": null,
      "layout": "IPY_MODEL_2365694938e542b3ab1c9f5300220501",
      "placeholder": "​",
      "style": "IPY_MODEL_2b9110270a394f8eaed1861264ec57ce",
      "value": " 872/0 [00:00&lt;00:00, 2467.22 examples/s]"
     }
    },
    "75b3e438424e477fa87902011c86c724": {
     "model_module": "@jupyter-widgets/controls",
     "model_name": "HTMLModel",
     "state": {
      "_dom_classes": [],
      "_model_module": "@jupyter-widgets/controls",
      "_model_module_version": "1.5.0",
      "_model_name": "HTMLModel",
      "_view_count": null,
      "_view_module": "@jupyter-widgets/controls",
      "_view_module_version": "1.5.0",
      "_view_name": "HTMLView",
      "description": "",
      "description_tooltip": null,
      "layout": "IPY_MODEL_6d93b38c11bf44d2aecc905fbfe2f6a0",
      "placeholder": "​",
      "style": "IPY_MODEL_e0ca22896fc24a23adabdeef64e17848",
      "value": " 0/872 [00:00&lt;?, ? examples/s]"
     }
    },
    "7a7fe62dbe9b4744b0bef9cd1cd5adff": {
     "model_module": "@jupyter-widgets/controls",
     "model_name": "ProgressStyleModel",
     "state": {
      "_model_module": "@jupyter-widgets/controls",
      "_model_module_version": "1.5.0",
      "_model_name": "ProgressStyleModel",
      "_view_count": null,
      "_view_module": "@jupyter-widgets/base",
      "_view_module_version": "1.2.0",
      "_view_name": "StyleView",
      "bar_color": null,
      "description_width": "initial"
     }
    },
    "7f7ce10dfb7c4e38acaa4307127b4a53": {
     "model_module": "@jupyter-widgets/base",
     "model_name": "LayoutModel",
     "state": {
      "_model_module": "@jupyter-widgets/base",
      "_model_module_version": "1.2.0",
      "_model_name": "LayoutModel",
      "_view_count": null,
      "_view_module": "@jupyter-widgets/base",
      "_view_module_version": "1.2.0",
      "_view_name": "LayoutView",
      "align_content": null,
      "align_items": null,
      "align_self": null,
      "border": null,
      "bottom": null,
      "display": null,
      "flex": null,
      "flex_flow": null,
      "grid_area": null,
      "grid_auto_columns": null,
      "grid_auto_flow": null,
      "grid_auto_rows": null,
      "grid_column": null,
      "grid_gap": null,
      "grid_row": null,
      "grid_template_areas": null,
      "grid_template_columns": null,
      "grid_template_rows": null,
      "height": null,
      "justify_content": null,
      "justify_items": null,
      "left": null,
      "margin": null,
      "max_height": null,
      "max_width": null,
      "min_height": null,
      "min_width": null,
      "object_fit": null,
      "object_position": null,
      "order": null,
      "overflow": null,
      "overflow_x": null,
      "overflow_y": null,
      "padding": null,
      "right": null,
      "top": null,
      "visibility": null,
      "width": null
     }
    },
    "7fa1635321de43eba7d11aba9c8a5965": {
     "model_module": "@jupyter-widgets/controls",
     "model_name": "FloatProgressModel",
     "state": {
      "_dom_classes": [],
      "_model_module": "@jupyter-widgets/controls",
      "_model_module_version": "1.5.0",
      "_model_name": "FloatProgressModel",
      "_view_count": null,
      "_view_module": "@jupyter-widgets/controls",
      "_view_module_version": "1.5.0",
      "_view_name": "ProgressView",
      "bar_style": "info",
      "description": "",
      "description_tooltip": null,
      "layout": "IPY_MODEL_7f7ce10dfb7c4e38acaa4307127b4a53",
      "max": 1,
      "min": 0,
      "orientation": "horizontal",
      "style": "IPY_MODEL_bb5e96afee664b90be2e14eee1e6c2ae",
      "value": 1
     }
    },
    "84348e7684224b0b8594155e8f0607f8": {
     "model_module": "@jupyter-widgets/controls",
     "model_name": "FloatProgressModel",
     "state": {
      "_dom_classes": [],
      "_model_module": "@jupyter-widgets/controls",
      "_model_module_version": "1.5.0",
      "_model_name": "FloatProgressModel",
      "_view_count": null,
      "_view_module": "@jupyter-widgets/controls",
      "_view_module_version": "1.5.0",
      "_view_name": "ProgressView",
      "bar_style": "danger",
      "description": "  0%",
      "description_tooltip": null,
      "layout": "IPY_MODEL_3618313048664cccbc6e15491167cf6a",
      "max": 872,
      "min": 0,
      "orientation": "horizontal",
      "style": "IPY_MODEL_00fecc067c1348ad83fbf196a632228a",
      "value": 0
     }
    },
    "865280a7b646468183d837dc66d530f8": {
     "model_module": "@jupyter-widgets/base",
     "model_name": "LayoutModel",
     "state": {
      "_model_module": "@jupyter-widgets/base",
      "_model_module_version": "1.2.0",
      "_model_name": "LayoutModel",
      "_view_count": null,
      "_view_module": "@jupyter-widgets/base",
      "_view_module_version": "1.2.0",
      "_view_name": "LayoutView",
      "align_content": null,
      "align_items": null,
      "align_self": null,
      "border": null,
      "bottom": null,
      "display": null,
      "flex": null,
      "flex_flow": null,
      "grid_area": null,
      "grid_auto_columns": null,
      "grid_auto_flow": null,
      "grid_auto_rows": null,
      "grid_column": null,
      "grid_gap": null,
      "grid_row": null,
      "grid_template_areas": null,
      "grid_template_columns": null,
      "grid_template_rows": null,
      "height": null,
      "justify_content": null,
      "justify_items": null,
      "left": null,
      "margin": null,
      "max_height": null,
      "max_width": null,
      "min_height": null,
      "min_width": null,
      "object_fit": null,
      "object_position": null,
      "order": null,
      "overflow": null,
      "overflow_x": null,
      "overflow_y": null,
      "padding": null,
      "right": null,
      "top": null,
      "visibility": null,
      "width": null
     }
    },
    "8706856fe13c4d47b2e5fb5c9240b234": {
     "model_module": "@jupyter-widgets/controls",
     "model_name": "HBoxModel",
     "state": {
      "_dom_classes": [],
      "_model_module": "@jupyter-widgets/controls",
      "_model_module_version": "1.5.0",
      "_model_name": "HBoxModel",
      "_view_count": null,
      "_view_module": "@jupyter-widgets/controls",
      "_view_module_version": "1.5.0",
      "_view_name": "HBoxView",
      "box_style": "",
      "children": [
       "IPY_MODEL_29b3d6084f2541e999e1b7d126ed37d9",
       "IPY_MODEL_01ea266e17244f1a9ea29eb5734f5b40"
      ],
      "layout": "IPY_MODEL_62f2e0f379a9494ea5bbe8fda3b01fe4"
     }
    },
    "88c3388cbf91402d8672d9ed188a5259": {
     "model_module": "@jupyter-widgets/controls",
     "model_name": "ProgressStyleModel",
     "state": {
      "_model_module": "@jupyter-widgets/controls",
      "_model_module_version": "1.5.0",
      "_model_name": "ProgressStyleModel",
      "_view_count": null,
      "_view_module": "@jupyter-widgets/base",
      "_view_module_version": "1.2.0",
      "_view_name": "StyleView",
      "bar_color": null,
      "description_width": "initial"
     }
    },
    "8ad761fa4c174664917f1c013b3b4f2e": {
     "model_module": "@jupyter-widgets/controls",
     "model_name": "HBoxModel",
     "state": {
      "_dom_classes": [],
      "_model_module": "@jupyter-widgets/controls",
      "_model_module_version": "1.5.0",
      "_model_name": "HBoxModel",
      "_view_count": null,
      "_view_module": "@jupyter-widgets/controls",
      "_view_module_version": "1.5.0",
      "_view_name": "HBoxView",
      "box_style": "",
      "children": [
       "IPY_MODEL_215f5600e22d4d16ae70b536ae5d07a1",
       "IPY_MODEL_4017670389e347b6aced753d6b7d73de"
      ],
      "layout": "IPY_MODEL_31b7f42875284793ae967bf118057b90"
     }
    },
    "90863c4613f540dda350c20a808e0bd8": {
     "model_module": "@jupyter-widgets/controls",
     "model_name": "FloatProgressModel",
     "state": {
      "_dom_classes": [],
      "_model_module": "@jupyter-widgets/controls",
      "_model_module_version": "1.5.0",
      "_model_name": "FloatProgressModel",
      "_view_count": null,
      "_view_module": "@jupyter-widgets/controls",
      "_view_module_version": "1.5.0",
      "_view_name": "ProgressView",
      "bar_style": "success",
      "description": "Extraction completed...: 100%",
      "description_tooltip": null,
      "layout": "IPY_MODEL_45c9ba0cb04e427299e2f1fc2a6daa5d",
      "max": 1,
      "min": 0,
      "orientation": "horizontal",
      "style": "IPY_MODEL_7a7fe62dbe9b4744b0bef9cd1cd5adff",
      "value": 1
     }
    },
    "9741df96ebab4ae9a3aa9bff966e0a2f": {
     "model_module": "@jupyter-widgets/controls",
     "model_name": "ProgressStyleModel",
     "state": {
      "_model_module": "@jupyter-widgets/controls",
      "_model_module_version": "1.5.0",
      "_model_name": "ProgressStyleModel",
      "_view_count": null,
      "_view_module": "@jupyter-widgets/base",
      "_view_module_version": "1.2.0",
      "_view_name": "StyleView",
      "bar_color": null,
      "description_width": "initial"
     }
    },
    "9764fa1e21734050bac6ecc5bdaf5134": {
     "model_module": "@jupyter-widgets/controls",
     "model_name": "ProgressStyleModel",
     "state": {
      "_model_module": "@jupyter-widgets/controls",
      "_model_module_version": "1.5.0",
      "_model_name": "ProgressStyleModel",
      "_view_count": null,
      "_view_module": "@jupyter-widgets/base",
      "_view_module_version": "1.2.0",
      "_view_name": "StyleView",
      "bar_color": null,
      "description_width": "initial"
     }
    },
    "9a4281856f534232a9b9bc31b186cfe2": {
     "model_module": "@jupyter-widgets/controls",
     "model_name": "HBoxModel",
     "state": {
      "_dom_classes": [],
      "_model_module": "@jupyter-widgets/controls",
      "_model_module_version": "1.5.0",
      "_model_name": "HBoxModel",
      "_view_count": null,
      "_view_module": "@jupyter-widgets/controls",
      "_view_module_version": "1.5.0",
      "_view_name": "HBoxView",
      "box_style": "",
      "children": [
       "IPY_MODEL_84348e7684224b0b8594155e8f0607f8",
       "IPY_MODEL_75b3e438424e477fa87902011c86c724"
      ],
      "layout": "IPY_MODEL_24344f370a144b7f85bfaa81bb110479"
     }
    },
    "a38060256585451d8126975a1c2fa2c2": {
     "model_module": "@jupyter-widgets/base",
     "model_name": "LayoutModel",
     "state": {
      "_model_module": "@jupyter-widgets/base",
      "_model_module_version": "1.2.0",
      "_model_name": "LayoutModel",
      "_view_count": null,
      "_view_module": "@jupyter-widgets/base",
      "_view_module_version": "1.2.0",
      "_view_name": "LayoutView",
      "align_content": null,
      "align_items": null,
      "align_self": null,
      "border": null,
      "bottom": null,
      "display": null,
      "flex": null,
      "flex_flow": null,
      "grid_area": null,
      "grid_auto_columns": null,
      "grid_auto_flow": null,
      "grid_auto_rows": null,
      "grid_column": null,
      "grid_gap": null,
      "grid_row": null,
      "grid_template_areas": null,
      "grid_template_columns": null,
      "grid_template_rows": null,
      "height": null,
      "justify_content": null,
      "justify_items": null,
      "left": null,
      "margin": null,
      "max_height": null,
      "max_width": null,
      "min_height": null,
      "min_width": null,
      "object_fit": null,
      "object_position": null,
      "order": null,
      "overflow": null,
      "overflow_x": null,
      "overflow_y": null,
      "padding": null,
      "right": null,
      "top": null,
      "visibility": null,
      "width": null
     }
    },
    "a3d6cb9e3bac466f8e89d9c685e17ee3": {
     "model_module": "@jupyter-widgets/controls",
     "model_name": "DescriptionStyleModel",
     "state": {
      "_model_module": "@jupyter-widgets/controls",
      "_model_module_version": "1.5.0",
      "_model_name": "DescriptionStyleModel",
      "_view_count": null,
      "_view_module": "@jupyter-widgets/base",
      "_view_module_version": "1.2.0",
      "_view_name": "StyleView",
      "description_width": ""
     }
    },
    "a5687303ca144db6a328e1669cc95e79": {
     "model_module": "@jupyter-widgets/controls",
     "model_name": "HTMLModel",
     "state": {
      "_dom_classes": [],
      "_model_module": "@jupyter-widgets/controls",
      "_model_module_version": "1.5.0",
      "_model_name": "HTMLModel",
      "_view_count": null,
      "_view_module": "@jupyter-widgets/controls",
      "_view_module_version": "1.5.0",
      "_view_name": "HTMLView",
      "description": "",
      "description_tooltip": null,
      "layout": "IPY_MODEL_afe1036399d24dcaaa5540982b5271d4",
      "placeholder": "​",
      "style": "IPY_MODEL_e95156167f564c7ea738dab63a42afe0",
      "value": " 67349/0 [00:23&lt;00:00, 2840.73 examples/s]"
     }
    },
    "a7970048131c4dc483d20b9836d5094e": {
     "model_module": "@jupyter-widgets/base",
     "model_name": "LayoutModel",
     "state": {
      "_model_module": "@jupyter-widgets/base",
      "_model_module_version": "1.2.0",
      "_model_name": "LayoutModel",
      "_view_count": null,
      "_view_module": "@jupyter-widgets/base",
      "_view_module_version": "1.2.0",
      "_view_name": "LayoutView",
      "align_content": null,
      "align_items": null,
      "align_self": null,
      "border": null,
      "bottom": null,
      "display": null,
      "flex": null,
      "flex_flow": null,
      "grid_area": null,
      "grid_auto_columns": null,
      "grid_auto_flow": null,
      "grid_auto_rows": null,
      "grid_column": null,
      "grid_gap": null,
      "grid_row": null,
      "grid_template_areas": null,
      "grid_template_columns": null,
      "grid_template_rows": null,
      "height": null,
      "justify_content": null,
      "justify_items": null,
      "left": null,
      "margin": null,
      "max_height": null,
      "max_width": null,
      "min_height": null,
      "min_width": null,
      "object_fit": null,
      "object_position": null,
      "order": null,
      "overflow": null,
      "overflow_x": null,
      "overflow_y": null,
      "padding": null,
      "right": null,
      "top": null,
      "visibility": null,
      "width": null
     }
    },
    "afe1036399d24dcaaa5540982b5271d4": {
     "model_module": "@jupyter-widgets/base",
     "model_name": "LayoutModel",
     "state": {
      "_model_module": "@jupyter-widgets/base",
      "_model_module_version": "1.2.0",
      "_model_name": "LayoutModel",
      "_view_count": null,
      "_view_module": "@jupyter-widgets/base",
      "_view_module_version": "1.2.0",
      "_view_name": "LayoutView",
      "align_content": null,
      "align_items": null,
      "align_self": null,
      "border": null,
      "bottom": null,
      "display": null,
      "flex": null,
      "flex_flow": null,
      "grid_area": null,
      "grid_auto_columns": null,
      "grid_auto_flow": null,
      "grid_auto_rows": null,
      "grid_column": null,
      "grid_gap": null,
      "grid_row": null,
      "grid_template_areas": null,
      "grid_template_columns": null,
      "grid_template_rows": null,
      "height": null,
      "justify_content": null,
      "justify_items": null,
      "left": null,
      "margin": null,
      "max_height": null,
      "max_width": null,
      "min_height": null,
      "min_width": null,
      "object_fit": null,
      "object_position": null,
      "order": null,
      "overflow": null,
      "overflow_x": null,
      "overflow_y": null,
      "padding": null,
      "right": null,
      "top": null,
      "visibility": null,
      "width": null
     }
    },
    "bb5e96afee664b90be2e14eee1e6c2ae": {
     "model_module": "@jupyter-widgets/controls",
     "model_name": "ProgressStyleModel",
     "state": {
      "_model_module": "@jupyter-widgets/controls",
      "_model_module_version": "1.5.0",
      "_model_name": "ProgressStyleModel",
      "_view_count": null,
      "_view_module": "@jupyter-widgets/base",
      "_view_module_version": "1.2.0",
      "_view_name": "StyleView",
      "bar_color": null,
      "description_width": "initial"
     }
    },
    "bd71b219bc7d402ba50a7ff4bf3cc4b3": {
     "model_module": "@jupyter-widgets/base",
     "model_name": "LayoutModel",
     "state": {
      "_model_module": "@jupyter-widgets/base",
      "_model_module_version": "1.2.0",
      "_model_name": "LayoutModel",
      "_view_count": null,
      "_view_module": "@jupyter-widgets/base",
      "_view_module_version": "1.2.0",
      "_view_name": "LayoutView",
      "align_content": null,
      "align_items": null,
      "align_self": null,
      "border": null,
      "bottom": null,
      "display": null,
      "flex": null,
      "flex_flow": null,
      "grid_area": null,
      "grid_auto_columns": null,
      "grid_auto_flow": null,
      "grid_auto_rows": null,
      "grid_column": null,
      "grid_gap": null,
      "grid_row": null,
      "grid_template_areas": null,
      "grid_template_columns": null,
      "grid_template_rows": null,
      "height": null,
      "justify_content": null,
      "justify_items": null,
      "left": null,
      "margin": null,
      "max_height": null,
      "max_width": null,
      "min_height": null,
      "min_width": null,
      "object_fit": null,
      "object_position": null,
      "order": null,
      "overflow": null,
      "overflow_x": null,
      "overflow_y": null,
      "padding": null,
      "right": null,
      "top": null,
      "visibility": null,
      "width": null
     }
    },
    "c0a19aa4793440ebb9c68aaeddba47f4": {
     "model_module": "@jupyter-widgets/controls",
     "model_name": "HBoxModel",
     "state": {
      "_dom_classes": [],
      "_model_module": "@jupyter-widgets/controls",
      "_model_module_version": "1.5.0",
      "_model_name": "HBoxModel",
      "_view_count": null,
      "_view_module": "@jupyter-widgets/controls",
      "_view_module_version": "1.5.0",
      "_view_name": "HBoxView",
      "box_style": "",
      "children": [
       "IPY_MODEL_90863c4613f540dda350c20a808e0bd8",
       "IPY_MODEL_f1591636e2b44b1896b0d9846f8d362a"
      ],
      "layout": "IPY_MODEL_1e4a29090c69401482f032b7abc7b024"
     }
    },
    "c126c0d0f7544d269109879137907285": {
     "model_module": "@jupyter-widgets/controls",
     "model_name": "FloatProgressModel",
     "state": {
      "_dom_classes": [],
      "_model_module": "@jupyter-widgets/controls",
      "_model_module_version": "1.5.0",
      "_model_name": "FloatProgressModel",
      "_view_count": null,
      "_view_module": "@jupyter-widgets/controls",
      "_view_module_version": "1.5.0",
      "_view_name": "ProgressView",
      "bar_style": "danger",
      "description": " 72%",
      "description_tooltip": null,
      "layout": "IPY_MODEL_57bcc11d1e12409ab1bfdc3c21e4c2ca",
      "max": 67349,
      "min": 0,
      "orientation": "horizontal",
      "style": "IPY_MODEL_88c3388cbf91402d8672d9ed188a5259",
      "value": 48662
     }
    },
    "d6cad663313f449d815094f57a37ef12": {
     "model_module": "@jupyter-widgets/controls",
     "model_name": "HTMLModel",
     "state": {
      "_dom_classes": [],
      "_model_module": "@jupyter-widgets/controls",
      "_model_module_version": "1.5.0",
      "_model_name": "HTMLModel",
      "_view_count": null,
      "_view_module": "@jupyter-widgets/controls",
      "_view_module_version": "1.5.0",
      "_view_name": "HTMLView",
      "description": "",
      "description_tooltip": null,
      "layout": "IPY_MODEL_2a788d009dc94d83aab4690c1bb15c80",
      "placeholder": "​",
      "style": "IPY_MODEL_a3d6cb9e3bac466f8e89d9c685e17ee3",
      "value": " 1/1 [00:01&lt;00:00,  1.05s/ url]"
     }
    },
    "db9a36a2dea8475b98b38368d2614fb9": {
     "model_module": "@jupyter-widgets/base",
     "model_name": "LayoutModel",
     "state": {
      "_model_module": "@jupyter-widgets/base",
      "_model_module_version": "1.2.0",
      "_model_name": "LayoutModel",
      "_view_count": null,
      "_view_module": "@jupyter-widgets/base",
      "_view_module_version": "1.2.0",
      "_view_name": "LayoutView",
      "align_content": null,
      "align_items": null,
      "align_self": null,
      "border": null,
      "bottom": null,
      "display": null,
      "flex": null,
      "flex_flow": null,
      "grid_area": null,
      "grid_auto_columns": null,
      "grid_auto_flow": null,
      "grid_auto_rows": null,
      "grid_column": null,
      "grid_gap": null,
      "grid_row": null,
      "grid_template_areas": null,
      "grid_template_columns": null,
      "grid_template_rows": null,
      "height": null,
      "justify_content": null,
      "justify_items": null,
      "left": null,
      "margin": null,
      "max_height": null,
      "max_width": null,
      "min_height": null,
      "min_width": null,
      "object_fit": null,
      "object_position": null,
      "order": null,
      "overflow": null,
      "overflow_x": null,
      "overflow_y": null,
      "padding": null,
      "right": null,
      "top": null,
      "visibility": null,
      "width": null
     }
    },
    "e0ca22896fc24a23adabdeef64e17848": {
     "model_module": "@jupyter-widgets/controls",
     "model_name": "DescriptionStyleModel",
     "state": {
      "_model_module": "@jupyter-widgets/controls",
      "_model_module_version": "1.5.0",
      "_model_name": "DescriptionStyleModel",
      "_view_count": null,
      "_view_module": "@jupyter-widgets/base",
      "_view_module_version": "1.2.0",
      "_view_name": "StyleView",
      "description_width": ""
     }
    },
    "e11ef90a72ce47c1964e1ec12c3df1e3": {
     "model_module": "@jupyter-widgets/controls",
     "model_name": "DescriptionStyleModel",
     "state": {
      "_model_module": "@jupyter-widgets/controls",
      "_model_module_version": "1.5.0",
      "_model_name": "DescriptionStyleModel",
      "_view_count": null,
      "_view_module": "@jupyter-widgets/base",
      "_view_module_version": "1.2.0",
      "_view_name": "StyleView",
      "description_width": ""
     }
    },
    "e7c575cf217a4f5f882a601e3400c925": {
     "model_module": "@jupyter-widgets/controls",
     "model_name": "HTMLModel",
     "state": {
      "_dom_classes": [],
      "_model_module": "@jupyter-widgets/controls",
      "_model_module_version": "1.5.0",
      "_model_name": "HTMLModel",
      "_view_count": null,
      "_view_module": "@jupyter-widgets/controls",
      "_view_module_version": "1.5.0",
      "_view_name": "HTMLView",
      "description": "",
      "description_tooltip": null,
      "layout": "IPY_MODEL_0d763e252aeb4511afed13e14cd906ef",
      "placeholder": "​",
      "style": "IPY_MODEL_e11ef90a72ce47c1964e1ec12c3df1e3",
      "value": " 48662/67349 [00:20&lt;00:00, 40684.06 examples/s]"
     }
    },
    "e95156167f564c7ea738dab63a42afe0": {
     "model_module": "@jupyter-widgets/controls",
     "model_name": "DescriptionStyleModel",
     "state": {
      "_model_module": "@jupyter-widgets/controls",
      "_model_module_version": "1.5.0",
      "_model_name": "DescriptionStyleModel",
      "_view_count": null,
      "_view_module": "@jupyter-widgets/base",
      "_view_module_version": "1.2.0",
      "_view_name": "StyleView",
      "description_width": ""
     }
    },
    "e9af158fd89b4001b58c678a7309f890": {
     "model_module": "@jupyter-widgets/base",
     "model_name": "LayoutModel",
     "state": {
      "_model_module": "@jupyter-widgets/base",
      "_model_module_version": "1.2.0",
      "_model_name": "LayoutModel",
      "_view_count": null,
      "_view_module": "@jupyter-widgets/base",
      "_view_module_version": "1.2.0",
      "_view_name": "LayoutView",
      "align_content": null,
      "align_items": null,
      "align_self": null,
      "border": null,
      "bottom": null,
      "display": null,
      "flex": null,
      "flex_flow": null,
      "grid_area": null,
      "grid_auto_columns": null,
      "grid_auto_flow": null,
      "grid_auto_rows": null,
      "grid_column": null,
      "grid_gap": null,
      "grid_row": null,
      "grid_template_areas": null,
      "grid_template_columns": null,
      "grid_template_rows": null,
      "height": null,
      "justify_content": null,
      "justify_items": null,
      "left": null,
      "margin": null,
      "max_height": null,
      "max_width": null,
      "min_height": null,
      "min_width": null,
      "object_fit": null,
      "object_position": null,
      "order": null,
      "overflow": null,
      "overflow_x": null,
      "overflow_y": null,
      "padding": null,
      "right": null,
      "top": null,
      "visibility": null,
      "width": null
     }
    },
    "e9bf785ff4fe43c38ba67e846cfd3e7a": {
     "model_module": "@jupyter-widgets/controls",
     "model_name": "DescriptionStyleModel",
     "state": {
      "_model_module": "@jupyter-widgets/controls",
      "_model_module_version": "1.5.0",
      "_model_name": "DescriptionStyleModel",
      "_view_count": null,
      "_view_module": "@jupyter-widgets/base",
      "_view_module_version": "1.2.0",
      "_view_name": "StyleView",
      "description_width": ""
     }
    },
    "f1591636e2b44b1896b0d9846f8d362a": {
     "model_module": "@jupyter-widgets/controls",
     "model_name": "HTMLModel",
     "state": {
      "_dom_classes": [],
      "_model_module": "@jupyter-widgets/controls",
      "_model_module_version": "1.5.0",
      "_model_name": "HTMLModel",
      "_view_count": null,
      "_view_module": "@jupyter-widgets/controls",
      "_view_module_version": "1.5.0",
      "_view_name": "HTMLView",
      "description": "",
      "description_tooltip": null,
      "layout": "IPY_MODEL_a38060256585451d8126975a1c2fa2c2",
      "placeholder": "​",
      "style": "IPY_MODEL_54f8af0d1e3b4453b7a11c0725f0b129",
      "value": " 1/1 [00:00&lt;00:00,  1.03 file/s]"
     }
    },
    "f2d399378d1a4ba0a8a09a359416d699": {
     "model_module": "@jupyter-widgets/controls",
     "model_name": "HBoxModel",
     "state": {
      "_dom_classes": [],
      "_model_module": "@jupyter-widgets/controls",
      "_model_module_version": "1.5.0",
      "_model_name": "HBoxModel",
      "_view_count": null,
      "_view_module": "@jupyter-widgets/controls",
      "_view_module_version": "1.5.0",
      "_view_name": "HBoxView",
      "box_style": "",
      "children": [
       "IPY_MODEL_c126c0d0f7544d269109879137907285",
       "IPY_MODEL_e7c575cf217a4f5f882a601e3400c925"
      ],
      "layout": "IPY_MODEL_f5f88c08db844aa9958d975f893d68ee"
     }
    },
    "f5f88c08db844aa9958d975f893d68ee": {
     "model_module": "@jupyter-widgets/base",
     "model_name": "LayoutModel",
     "state": {
      "_model_module": "@jupyter-widgets/base",
      "_model_module_version": "1.2.0",
      "_model_name": "LayoutModel",
      "_view_count": null,
      "_view_module": "@jupyter-widgets/base",
      "_view_module_version": "1.2.0",
      "_view_name": "LayoutView",
      "align_content": null,
      "align_items": null,
      "align_self": null,
      "border": null,
      "bottom": null,
      "display": null,
      "flex": null,
      "flex_flow": null,
      "grid_area": null,
      "grid_auto_columns": null,
      "grid_auto_flow": null,
      "grid_auto_rows": null,
      "grid_column": null,
      "grid_gap": null,
      "grid_row": null,
      "grid_template_areas": null,
      "grid_template_columns": null,
      "grid_template_rows": null,
      "height": null,
      "justify_content": null,
      "justify_items": null,
      "left": null,
      "margin": null,
      "max_height": null,
      "max_width": null,
      "min_height": null,
      "min_width": null,
      "object_fit": null,
      "object_position": null,
      "order": null,
      "overflow": null,
      "overflow_x": null,
      "overflow_y": null,
      "padding": null,
      "right": null,
      "top": null,
      "visibility": null,
      "width": null
     }
    },
    "f7dd3768e1c24317b6ea86ba69785cbe": {
     "model_module": "@jupyter-widgets/controls",
     "model_name": "HBoxModel",
     "state": {
      "_dom_classes": [],
      "_model_module": "@jupyter-widgets/controls",
      "_model_module_version": "1.5.0",
      "_model_name": "HBoxModel",
      "_view_count": null,
      "_view_module": "@jupyter-widgets/controls",
      "_view_module_version": "1.5.0",
      "_view_name": "HBoxView",
      "box_style": "",
      "children": [
       "IPY_MODEL_225cf31be71541c2a4b3812042e674f1",
       "IPY_MODEL_6ad96ff0318849568118c7d1cc73f6ef"
      ],
      "layout": "IPY_MODEL_db9a36a2dea8475b98b38368d2614fb9"
     }
    }
   }
  }
 },
 "nbformat": 4,
 "nbformat_minor": 1
}
