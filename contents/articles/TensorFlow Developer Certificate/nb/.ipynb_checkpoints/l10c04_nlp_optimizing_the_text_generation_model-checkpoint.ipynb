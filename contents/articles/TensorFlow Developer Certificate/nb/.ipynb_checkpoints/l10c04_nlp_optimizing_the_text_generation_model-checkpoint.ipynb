{
 "cells": [
  {
   "cell_type": "markdown",
   "metadata": {
    "colab_type": "text",
    "id": "eqm_LyEBWpb5"
   },
   "source": [
    "# Optimizing the Text Generation Model"
   ]
  },
  {
   "cell_type": "markdown",
   "metadata": {
    "colab_type": "text",
    "id": "z9tOrTKeWrvc"
   },
   "source": [
    "You've already done some amazing work with generating new songs, but so far we've seen some issues with repetition and a fair amount of incoherence. By using more data and further tweaking the model, you'll be able to get improved results. We'll once again use the [Kaggle Song Lyrics Dataset](https://www.kaggle.com/mousehead/songlyrics) here."
   ]
  },
  {
   "cell_type": "markdown",
   "metadata": {
    "colab_type": "text",
    "id": "MaJXt72UWuGr"
   },
   "source": [
    "## Import TensorFlow and related functions"
   ]
  },
  {
   "cell_type": "code",
   "execution_count": 1,
   "metadata": {
    "colab": {},
    "colab_type": "code",
    "id": "xLldsELxWnKy"
   },
   "outputs": [],
   "source": [
    "import tensorflow as tf\n",
    "\n",
    "from tensorflow.keras.preprocessing.text import Tokenizer\n",
    "from tensorflow.keras.preprocessing.sequence import pad_sequences\n",
    "\n",
    "# Other imports for processing data\n",
    "import string\n",
    "import numpy as np\n",
    "import pandas as pd"
   ]
  },
  {
   "cell_type": "markdown",
   "metadata": {
    "colab_type": "text",
    "id": "dbrrOYfjWyLV"
   },
   "source": [
    "## Get the Dataset\n",
    "\n",
    "As noted above, we'll utilize the [Song Lyrics dataset](https://www.kaggle.com/mousehead/songlyrics) on Kaggle again."
   ]
  },
  {
   "cell_type": "code",
   "execution_count": 2,
   "metadata": {
    "colab": {
     "base_uri": "https://localhost:8080/",
     "height": 326
    },
    "colab_type": "code",
    "id": "J6N_FCQnWwag",
    "outputId": "238e67ee-fc7b-4f66-ab5a-f1bb610c2fc3"
   },
   "outputs": [
    {
     "name": "stdout",
     "output_type": "stream",
     "text": [
      "--2020-08-09 03:56:43--  https://drive.google.com/uc?id=1LiJFZd41ofrWoBtW-pMYsfz1w8Ny0Bj8\n",
      "Resolving drive.google.com (drive.google.com)... 172.217.212.100, 172.217.212.139, 172.217.212.113, ...\n",
      "Connecting to drive.google.com (drive.google.com)|172.217.212.100|:443... connected.\n",
      "HTTP request sent, awaiting response... 302 Moved Temporarily\n",
      "Location: https://doc-04-ak-docs.googleusercontent.com/docs/securesc/ha0ro937gcuc7l7deffksulhg5h7mbp1/gquoughp2j9j9686dukdjcn69i8sp64b/1596945375000/11118900490791463723/*/1LiJFZd41ofrWoBtW-pMYsfz1w8Ny0Bj8 [following]\n",
      "Warning: wildcards not supported in HTTP.\n",
      "--2020-08-09 03:56:45--  https://doc-04-ak-docs.googleusercontent.com/docs/securesc/ha0ro937gcuc7l7deffksulhg5h7mbp1/gquoughp2j9j9686dukdjcn69i8sp64b/1596945375000/11118900490791463723/*/1LiJFZd41ofrWoBtW-pMYsfz1w8Ny0Bj8\n",
      "Resolving doc-04-ak-docs.googleusercontent.com (doc-04-ak-docs.googleusercontent.com)... 173.194.198.132, 2607:f8b0:4001:c1c::84\n",
      "Connecting to doc-04-ak-docs.googleusercontent.com (doc-04-ak-docs.googleusercontent.com)|173.194.198.132|:443... connected.\n",
      "HTTP request sent, awaiting response... 200 OK\n",
      "Length: unspecified [text/csv]\n",
      "Saving to: ‘/tmp/songdata.csv’\n",
      "\n",
      "/tmp/songdata.csv       [   <=>              ]  69.08M   136MB/s    in 0.5s    \n",
      "\n",
      "2020-08-09 03:56:46 (136 MB/s) - ‘/tmp/songdata.csv’ saved [72436445]\n",
      "\n"
     ]
    }
   ],
   "source": [
    "!wget --no-check-certificate \\\n",
    "    https://drive.google.com/uc?id=1LiJFZd41ofrWoBtW-pMYsfz1w8Ny0Bj8 \\\n",
    "    -O /tmp/songdata.csv"
   ]
  },
  {
   "cell_type": "markdown",
   "metadata": {
    "colab_type": "text",
    "id": "SA_lgi2oW1Nb"
   },
   "source": [
    "## 250 Songs\n",
    "\n",
    "Now we've seen a model trained on just a small sample of songs, and how this often leads to repetition as you get further along in trying to generate new text. Let's switch to using the 250 songs instead, and see if our output improves. This will actually be nearly 10K lines of lyrics, which should be sufficient.\n",
    "\n",
    "Note that we won't use the full dataset here as it will take up quite a bit of RAM and processing time, but you're welcome to try doing so on your own later. If interested, you'll likely want to use only some of the more common words for the Tokenizer, which will help shrink processing time and memory needed (or else you'd have an output array hundreds of thousands of words long)."
   ]
  },
  {
   "cell_type": "markdown",
   "metadata": {
    "colab_type": "text",
    "id": "mMHBLtD9W3p0"
   },
   "source": [
    "### Preprocessing"
   ]
  },
  {
   "cell_type": "code",
   "execution_count": 3,
   "metadata": {
    "colab": {},
    "colab_type": "code",
    "id": "IjRNvoA7WwqH"
   },
   "outputs": [],
   "source": [
    "def tokenize_corpus(corpus, num_words=-1):\n",
    "  # Fit a Tokenizer on the corpus\n",
    "  if num_words > -1:\n",
    "    tokenizer = Tokenizer(num_words=num_words)\n",
    "  else:\n",
    "    tokenizer = Tokenizer()\n",
    "  tokenizer.fit_on_texts(corpus)\n",
    "  return tokenizer\n",
    "\n",
    "def create_lyrics_corpus(dataset, field):\n",
    "  # Remove all other punctuation\n",
    "  dataset[field] = dataset[field].str.replace('[{}]'.format(string.punctuation), '')\n",
    "  # Make it lowercase\n",
    "  dataset[field] = dataset[field].str.lower()\n",
    "  # Make it one long string to split by line\n",
    "  lyrics = dataset[field].str.cat()\n",
    "  corpus = lyrics.split('\\n')\n",
    "  # Remove any trailing whitespace\n",
    "  for l in range(len(corpus)):\n",
    "    corpus[l] = corpus[l].rstrip()\n",
    "  # Remove any empty lines\n",
    "  corpus = [l for l in corpus if l != '']\n",
    "\n",
    "  return corpus"
   ]
  },
  {
   "cell_type": "code",
   "execution_count": 4,
   "metadata": {
    "colab": {
     "base_uri": "https://localhost:8080/",
     "height": 34
    },
    "colab_type": "code",
    "id": "u_aLcj15Wwwu",
    "outputId": "a79df7f1-991b-4566-fa7b-720319dbd6bb"
   },
   "outputs": [
    {
     "name": "stdout",
     "output_type": "stream",
     "text": [
      "2000\n"
     ]
    }
   ],
   "source": [
    "def tokenize_corpus(corpus, num_words=-1):\n",
    "  # Fit a Tokenizer on the corpus\n",
    "  if num_words > -1:\n",
    "    tokenizer = Tokenizer(num_words=num_words)\n",
    "  else:\n",
    "    tokenizer = Tokenizer()\n",
    "  tokenizer.fit_on_texts(corpus)\n",
    "  return tokenizer\n",
    "\n",
    "# Read the dataset from csv - this time with 250 songs\n",
    "dataset = pd.read_csv('/tmp/songdata.csv', dtype=str)[:250]\n",
    "# Create the corpus using the 'text' column containing lyrics\n",
    "corpus = create_lyrics_corpus(dataset, 'text')\n",
    "# Tokenize the corpus\n",
    "tokenizer = tokenize_corpus(corpus, num_words=2000)\n",
    "total_words = tokenizer.num_words\n",
    "\n",
    "# There should be a lot more words now\n",
    "print(total_words)"
   ]
  },
  {
   "cell_type": "markdown",
   "metadata": {
    "colab_type": "text",
    "id": "GknoUcaMW8OV"
   },
   "source": [
    "### Create Sequences and Labels"
   ]
  },
  {
   "cell_type": "code",
   "execution_count": 5,
   "metadata": {
    "colab": {},
    "colab_type": "code",
    "id": "hDgU1IymWwii"
   },
   "outputs": [],
   "source": [
    "sequences = []\n",
    "for line in corpus:\n",
    "\ttoken_list = tokenizer.texts_to_sequences([line])[0]\n",
    "\tfor i in range(1, len(token_list)):\n",
    "\t\tn_gram_sequence = token_list[:i+1]\n",
    "\t\tsequences.append(n_gram_sequence)\n",
    "\n",
    "# Pad sequences for equal input length \n",
    "max_sequence_len = max([len(seq) for seq in sequences])\n",
    "sequences = np.array(pad_sequences(sequences, maxlen=max_sequence_len, padding='pre'))\n",
    "\n",
    "# Split sequences between the \"input\" sequence and \"output\" predicted word\n",
    "input_sequences, labels = sequences[:,:-1], sequences[:,-1]\n",
    "# One-hot encode the labels\n",
    "one_hot_labels = tf.keras.utils.to_categorical(labels, num_classes=total_words)"
   ]
  },
  {
   "cell_type": "markdown",
   "metadata": {
    "colab_type": "text",
    "id": "j9UvwA10W-3u"
   },
   "source": [
    "### Train a (Better) Text Generation Model\n",
    "\n",
    "With more data, we'll cut off after 100 epochs to avoid keeping you here all day. You'll also want to change your runtime type to GPU if you haven't already (you'll need to re-run the above cells if you change runtimes)."
   ]
  },
  {
   "cell_type": "code",
   "execution_count": 6,
   "metadata": {
    "colab": {
     "base_uri": "https://localhost:8080/",
     "height": 1000
    },
    "colab_type": "code",
    "id": "eikNiL6MW_fs",
    "outputId": "ea6bdfc8-a924-4c44-dd48-0784b88a575c"
   },
   "outputs": [
    {
     "name": "stdout",
     "output_type": "stream",
     "text": [
      "Epoch 1/100\n",
      "1480/1480 [==============================] - 22s 15ms/step - loss: 5.9793 - accuracy: 0.0464\n",
      "Epoch 2/100\n",
      "1480/1480 [==============================] - 22s 15ms/step - loss: 5.6729 - accuracy: 0.0517\n",
      "Epoch 3/100\n",
      "1480/1480 [==============================] - 22s 15ms/step - loss: 5.4353 - accuracy: 0.0706\n",
      "Epoch 4/100\n",
      "1480/1480 [==============================] - 22s 15ms/step - loss: 5.2396 - accuracy: 0.0959\n",
      "Epoch 5/100\n",
      "1480/1480 [==============================] - 22s 15ms/step - loss: 5.0736 - accuracy: 0.1138\n",
      "Epoch 6/100\n",
      "1480/1480 [==============================] - 22s 15ms/step - loss: 4.9118 - accuracy: 0.1312\n",
      "Epoch 7/100\n",
      "1480/1480 [==============================] - 22s 15ms/step - loss: 4.7640 - accuracy: 0.1475\n",
      "Epoch 8/100\n",
      "1480/1480 [==============================] - 22s 15ms/step - loss: 4.6310 - accuracy: 0.1603\n",
      "Epoch 9/100\n",
      "1480/1480 [==============================] - 22s 15ms/step - loss: 4.5116 - accuracy: 0.1749\n",
      "Epoch 10/100\n",
      "1480/1480 [==============================] - 22s 15ms/step - loss: 4.4031 - accuracy: 0.1877\n",
      "Epoch 11/100\n",
      "1480/1480 [==============================] - 22s 15ms/step - loss: 4.3040 - accuracy: 0.1982\n",
      "Epoch 12/100\n",
      "1480/1480 [==============================] - 22s 15ms/step - loss: 4.2072 - accuracy: 0.2111\n",
      "Epoch 13/100\n",
      "1480/1480 [==============================] - 22s 15ms/step - loss: 4.1223 - accuracy: 0.2216\n",
      "Epoch 14/100\n",
      "1480/1480 [==============================] - 22s 15ms/step - loss: 4.0432 - accuracy: 0.2312\n",
      "Epoch 15/100\n",
      "1480/1480 [==============================] - 22s 15ms/step - loss: 3.9682 - accuracy: 0.2407\n",
      "Epoch 16/100\n",
      "1480/1480 [==============================] - 22s 15ms/step - loss: 3.8968 - accuracy: 0.2493\n",
      "Epoch 17/100\n",
      "1480/1480 [==============================] - 22s 15ms/step - loss: 3.8372 - accuracy: 0.2578\n",
      "Epoch 18/100\n",
      "1480/1480 [==============================] - 21s 15ms/step - loss: 3.7767 - accuracy: 0.2662\n",
      "Epoch 19/100\n",
      "1480/1480 [==============================] - 22s 15ms/step - loss: 3.7177 - accuracy: 0.2765\n",
      "Epoch 20/100\n",
      "1480/1480 [==============================] - 22s 15ms/step - loss: 3.6649 - accuracy: 0.2837\n",
      "Epoch 21/100\n",
      "1480/1480 [==============================] - 22s 15ms/step - loss: 3.6100 - accuracy: 0.2915\n",
      "Epoch 22/100\n",
      "1480/1480 [==============================] - 21s 14ms/step - loss: 3.5613 - accuracy: 0.3002\n",
      "Epoch 23/100\n",
      "1480/1480 [==============================] - 21s 14ms/step - loss: 3.5162 - accuracy: 0.3058\n",
      "Epoch 24/100\n",
      "1480/1480 [==============================] - 21s 14ms/step - loss: 3.4769 - accuracy: 0.3110\n",
      "Epoch 25/100\n",
      "1480/1480 [==============================] - 21s 15ms/step - loss: 3.4364 - accuracy: 0.3165\n",
      "Epoch 26/100\n",
      "1480/1480 [==============================] - 21s 14ms/step - loss: 3.4019 - accuracy: 0.3218\n",
      "Epoch 27/100\n",
      "1480/1480 [==============================] - 21s 14ms/step - loss: 3.3586 - accuracy: 0.3303\n",
      "Epoch 28/100\n",
      "1480/1480 [==============================] - 21s 14ms/step - loss: 3.3278 - accuracy: 0.3357\n",
      "Epoch 29/100\n",
      "1480/1480 [==============================] - 21s 14ms/step - loss: 3.2918 - accuracy: 0.3390\n",
      "Epoch 30/100\n",
      "1480/1480 [==============================] - 21s 14ms/step - loss: 3.2596 - accuracy: 0.3451\n",
      "Epoch 31/100\n",
      "1480/1480 [==============================] - 21s 14ms/step - loss: 3.2322 - accuracy: 0.3488\n",
      "Epoch 32/100\n",
      "1480/1480 [==============================] - 21s 14ms/step - loss: 3.2007 - accuracy: 0.3525\n",
      "Epoch 33/100\n",
      "1480/1480 [==============================] - 22s 15ms/step - loss: 3.1768 - accuracy: 0.3567\n",
      "Epoch 34/100\n",
      "1480/1480 [==============================] - 21s 14ms/step - loss: 3.1389 - accuracy: 0.3624\n",
      "Epoch 35/100\n",
      "1480/1480 [==============================] - 21s 15ms/step - loss: 3.1257 - accuracy: 0.3661\n",
      "Epoch 36/100\n",
      "1480/1480 [==============================] - 22s 15ms/step - loss: 3.0943 - accuracy: 0.3721\n",
      "Epoch 37/100\n",
      "1480/1480 [==============================] - 22s 15ms/step - loss: 3.0838 - accuracy: 0.3738\n",
      "Epoch 38/100\n",
      "1480/1480 [==============================] - 22s 15ms/step - loss: 3.0430 - accuracy: 0.3803\n",
      "Epoch 39/100\n",
      "1480/1480 [==============================] - 22s 15ms/step - loss: 3.0197 - accuracy: 0.3824\n",
      "Epoch 40/100\n",
      "1480/1480 [==============================] - 22s 15ms/step - loss: 3.0050 - accuracy: 0.3851\n",
      "Epoch 41/100\n",
      "1480/1480 [==============================] - 22s 15ms/step - loss: 2.9751 - accuracy: 0.3904\n",
      "Epoch 42/100\n",
      "1480/1480 [==============================] - 22s 15ms/step - loss: 2.9688 - accuracy: 0.3913\n",
      "Epoch 43/100\n",
      "1480/1480 [==============================] - 22s 15ms/step - loss: 2.9346 - accuracy: 0.3962\n",
      "Epoch 44/100\n",
      "1480/1480 [==============================] - 22s 15ms/step - loss: 2.9110 - accuracy: 0.4012\n",
      "Epoch 45/100\n",
      "1480/1480 [==============================] - 21s 14ms/step - loss: 2.8977 - accuracy: 0.4013\n",
      "Epoch 46/100\n",
      "1480/1480 [==============================] - 22s 15ms/step - loss: 2.8804 - accuracy: 0.4061\n",
      "Epoch 47/100\n",
      "1480/1480 [==============================] - 22s 15ms/step - loss: 2.8633 - accuracy: 0.4073\n",
      "Epoch 48/100\n",
      "1480/1480 [==============================] - 22s 15ms/step - loss: 2.8395 - accuracy: 0.4115\n",
      "Epoch 49/100\n",
      "1480/1480 [==============================] - 22s 15ms/step - loss: 2.8264 - accuracy: 0.4139\n",
      "Epoch 50/100\n",
      "1480/1480 [==============================] - 22s 15ms/step - loss: 2.8086 - accuracy: 0.4164\n",
      "Epoch 51/100\n",
      "1480/1480 [==============================] - 22s 15ms/step - loss: 2.7955 - accuracy: 0.4198\n",
      "Epoch 52/100\n",
      "1480/1480 [==============================] - 22s 15ms/step - loss: 2.7809 - accuracy: 0.4209\n",
      "Epoch 53/100\n",
      "1480/1480 [==============================] - 22s 15ms/step - loss: 2.7686 - accuracy: 0.4242\n",
      "Epoch 54/100\n",
      "1480/1480 [==============================] - 21s 14ms/step - loss: 2.7471 - accuracy: 0.4271\n",
      "Epoch 55/100\n",
      "1480/1480 [==============================] - 21s 14ms/step - loss: 2.7294 - accuracy: 0.4304\n",
      "Epoch 56/100\n",
      "1480/1480 [==============================] - 21s 15ms/step - loss: 2.7173 - accuracy: 0.4324\n",
      "Epoch 57/100\n",
      "1480/1480 [==============================] - 22s 15ms/step - loss: 2.7288 - accuracy: 0.4312\n",
      "Epoch 58/100\n",
      "1480/1480 [==============================] - 21s 14ms/step - loss: 2.6924 - accuracy: 0.4354\n",
      "Epoch 59/100\n",
      "1480/1480 [==============================] - 22s 15ms/step - loss: 2.6754 - accuracy: 0.4402\n",
      "Epoch 60/100\n",
      "1480/1480 [==============================] - 22s 15ms/step - loss: 2.6699 - accuracy: 0.4394\n",
      "Epoch 61/100\n",
      "1480/1480 [==============================] - 21s 14ms/step - loss: 2.6519 - accuracy: 0.4439\n",
      "Epoch 62/100\n",
      "1480/1480 [==============================] - 22s 15ms/step - loss: 2.6439 - accuracy: 0.4441\n",
      "Epoch 63/100\n",
      "1480/1480 [==============================] - 21s 14ms/step - loss: 2.6315 - accuracy: 0.4471\n",
      "Epoch 64/100\n",
      "1480/1480 [==============================] - 21s 14ms/step - loss: 2.6133 - accuracy: 0.4494\n",
      "Epoch 65/100\n",
      "1480/1480 [==============================] - 21s 14ms/step - loss: 2.6082 - accuracy: 0.4509\n",
      "Epoch 66/100\n",
      "1480/1480 [==============================] - 21s 14ms/step - loss: 2.5930 - accuracy: 0.4528\n",
      "Epoch 67/100\n",
      "1480/1480 [==============================] - 22s 15ms/step - loss: 2.5828 - accuracy: 0.4551\n",
      "Epoch 68/100\n",
      "1480/1480 [==============================] - 21s 14ms/step - loss: 2.5670 - accuracy: 0.4570\n",
      "Epoch 69/100\n",
      "1480/1480 [==============================] - 22s 15ms/step - loss: 2.5577 - accuracy: 0.4601\n",
      "Epoch 70/100\n",
      "1480/1480 [==============================] - 21s 15ms/step - loss: 2.5416 - accuracy: 0.4622\n",
      "Epoch 71/100\n",
      "1480/1480 [==============================] - 22s 15ms/step - loss: 2.5440 - accuracy: 0.4612\n",
      "Epoch 72/100\n",
      "1480/1480 [==============================] - 21s 14ms/step - loss: 2.5273 - accuracy: 0.4659\n",
      "Epoch 73/100\n",
      "1480/1480 [==============================] - 21s 14ms/step - loss: 2.5144 - accuracy: 0.4669\n",
      "Epoch 74/100\n",
      "1480/1480 [==============================] - 22s 15ms/step - loss: 2.5159 - accuracy: 0.4656\n",
      "Epoch 75/100\n",
      "1480/1480 [==============================] - 21s 14ms/step - loss: 2.4965 - accuracy: 0.4703\n",
      "Epoch 76/100\n",
      "1480/1480 [==============================] - 22s 15ms/step - loss: 2.4850 - accuracy: 0.4709\n",
      "Epoch 77/100\n",
      "1480/1480 [==============================] - 22s 15ms/step - loss: 2.4727 - accuracy: 0.4739\n",
      "Epoch 78/100\n",
      "1480/1480 [==============================] - 21s 14ms/step - loss: 2.4649 - accuracy: 0.4758\n",
      "Epoch 79/100\n",
      "1480/1480 [==============================] - 22s 15ms/step - loss: 2.4650 - accuracy: 0.4768\n",
      "Epoch 80/100\n",
      "1480/1480 [==============================] - 21s 14ms/step - loss: 2.4526 - accuracy: 0.4785\n",
      "Epoch 81/100\n",
      "1480/1480 [==============================] - 22s 15ms/step - loss: 2.4348 - accuracy: 0.4837\n",
      "Epoch 82/100\n",
      "1480/1480 [==============================] - 22s 15ms/step - loss: 2.4339 - accuracy: 0.4824\n",
      "Epoch 83/100\n",
      "1480/1480 [==============================] - 22s 15ms/step - loss: 2.4273 - accuracy: 0.4844\n",
      "Epoch 84/100\n",
      "1480/1480 [==============================] - 22s 15ms/step - loss: 2.4132 - accuracy: 0.4843\n",
      "Epoch 85/100\n",
      "1480/1480 [==============================] - 22s 15ms/step - loss: 2.4075 - accuracy: 0.4868\n",
      "Epoch 86/100\n",
      "1480/1480 [==============================] - 21s 14ms/step - loss: 2.4022 - accuracy: 0.4869\n",
      "Epoch 87/100\n",
      "1480/1480 [==============================] - 21s 14ms/step - loss: 2.3978 - accuracy: 0.4886\n",
      "Epoch 88/100\n",
      "1480/1480 [==============================] - 22s 15ms/step - loss: 2.3852 - accuracy: 0.4898\n",
      "Epoch 89/100\n",
      "1480/1480 [==============================] - 21s 14ms/step - loss: 2.3725 - accuracy: 0.4926\n",
      "Epoch 90/100\n",
      "1480/1480 [==============================] - 22s 15ms/step - loss: 2.3912 - accuracy: 0.4896\n",
      "Epoch 91/100\n",
      "1480/1480 [==============================] - 22s 15ms/step - loss: 2.3636 - accuracy: 0.4940\n",
      "Epoch 92/100\n",
      "1480/1480 [==============================] - 21s 14ms/step - loss: 2.3585 - accuracy: 0.4949\n",
      "Epoch 93/100\n",
      "1480/1480 [==============================] - 22s 15ms/step - loss: 2.3484 - accuracy: 0.4956\n",
      "Epoch 94/100\n",
      "1480/1480 [==============================] - 21s 14ms/step - loss: 2.3390 - accuracy: 0.4998\n",
      "Epoch 95/100\n",
      "1480/1480 [==============================] - 22s 15ms/step - loss: 2.3371 - accuracy: 0.4991\n",
      "Epoch 96/100\n",
      "1480/1480 [==============================] - 21s 14ms/step - loss: 2.3559 - accuracy: 0.4952\n",
      "Epoch 97/100\n",
      "1480/1480 [==============================] - 22s 15ms/step - loss: 2.3367 - accuracy: 0.5007\n",
      "Epoch 98/100\n",
      "1480/1480 [==============================] - 21s 14ms/step - loss: 2.3213 - accuracy: 0.5016\n",
      "Epoch 99/100\n",
      "1480/1480 [==============================] - 22s 15ms/step - loss: 2.3096 - accuracy: 0.5057\n",
      "Epoch 100/100\n",
      "1480/1480 [==============================] - 22s 15ms/step - loss: 2.2980 - accuracy: 0.5071\n"
     ]
    }
   ],
   "source": [
    "from tensorflow.keras.models import Sequential\n",
    "from tensorflow.keras.layers import Embedding, LSTM, Dense, Bidirectional\n",
    "\n",
    "model = Sequential()\n",
    "model.add(Embedding(total_words, 64, input_length=max_sequence_len-1))\n",
    "model.add(Bidirectional(LSTM(20)))\n",
    "model.add(Dense(total_words, activation='softmax'))\n",
    "model.compile(loss='categorical_crossentropy', optimizer='adam', metrics=['accuracy'])\n",
    "history = model.fit(input_sequences, one_hot_labels, epochs=100, verbose=1)"
   ]
  },
  {
   "cell_type": "markdown",
   "metadata": {
    "colab_type": "text",
    "id": "3RqSb0Z2XDHm"
   },
   "source": [
    "### View the Training Graph"
   ]
  },
  {
   "cell_type": "code",
   "execution_count": 7,
   "metadata": {
    "colab": {
     "base_uri": "https://localhost:8080/",
     "height": 279
    },
    "colab_type": "code",
    "id": "w0MmOIdQW_oD",
    "outputId": "d93338a6-e50e-453b-e0cf-80aa44a51e23"
   },
   "outputs": [
    {
     "data": {
      "image/png": "[encoded data removed]",
      "text/plain": [
       "<Figure size 432x288 with 1 Axes>"
      ]
     },
     "metadata": {
      "needs_background": "light",
      "tags": []
     },
     "output_type": "display_data"
    }
   ],
   "source": [
    "import matplotlib.pyplot as plt\n",
    "\n",
    "def plot_graphs(history, string):\n",
    "  plt.plot(history.history[string])\n",
    "  plt.xlabel(\"Epochs\")\n",
    "  plt.ylabel(string)\n",
    "  plt.show()\n",
    "\n",
    "plot_graphs(history, 'accuracy')"
   ]
  },
  {
   "cell_type": "markdown",
   "metadata": {
    "colab_type": "text",
    "id": "kJLk4i6zXFgh"
   },
   "source": [
    "### Generate better lyrics!\n",
    "\n",
    "This time around, we should be able to get a more interesting output with less repetition."
   ]
  },
  {
   "cell_type": "code",
   "execution_count": 8,
   "metadata": {
    "colab": {
     "base_uri": "https://localhost:8080/",
     "height": 54
    },
    "colab_type": "code",
    "id": "vf6bqyeyW_wv",
    "outputId": "70d73b24-9835-4314-d1a5-ba3dfc25b8ea"
   },
   "outputs": [
    {
     "name": "stdout",
     "output_type": "stream",
     "text": [
      "im feeling chills me one other time you are here is my life in of love life whole day colour sun kids heavens how turned pride man never bye never never said no way you for me through me and all our last night we used to nancy pleading for you to prays misfortune friends joy man fantasy life heavens pensabamos decision youre reason to dont be alright if you is happy baby ill see of you to cry bright goodnight the old little only way you and me and now i bound you baby that you make me smile and the knees\n"
     ]
    }
   ],
   "source": [
    "seed_text = \"im feeling chills\"\n",
    "next_words = 100\n",
    "  \n",
    "for _ in range(next_words):\n",
    "\ttoken_list = tokenizer.texts_to_sequences([seed_text])[0]\n",
    "\ttoken_list = pad_sequences([token_list], maxlen=max_sequence_len-1, padding='pre')\n",
    "\tpredicted = np.argmax(model.predict(token_list), axis=-1)\n",
    "\toutput_word = \"\"\n",
    "\tfor word, index in tokenizer.word_index.items():\n",
    "\t\tif index == predicted:\n",
    "\t\t\toutput_word = word\n",
    "\t\t\tbreak\n",
    "\tseed_text += \" \" + output_word\n",
    "print(seed_text)"
   ]
  },
  {
   "cell_type": "markdown",
   "metadata": {
    "colab_type": "text",
    "id": "ETlytlBnXI-v"
   },
   "source": [
    "### Varying the Possible Outputs\n",
    "\n",
    "In running the above, you may notice that the same seed text will generate similar outputs. This is because the code is currently always choosing the top predicted class as the next word. What if you wanted more variance in the output? \n",
    "\n",
    "Switching from `model.predict_classes` to `model.predict_proba` will get us all of the class probabilities. We can combine this with `np.random.choice` to select a given predicted output based on a probability, thereby giving a bit more randomness to our outputs."
   ]
  },
  {
   "cell_type": "code",
   "execution_count": 9,
   "metadata": {
    "colab": {
     "base_uri": "https://localhost:8080/",
     "height": 34
    },
    "colab_type": "code",
    "id": "hGI3dz0YW_tX",
    "outputId": "c1fda1f0-441a-4a16-eeec-2b43f82c50e7"
   },
   "outputs": [
    {
     "name": "stdout",
     "output_type": "stream",
     "text": [
      "8\n"
     ]
    }
   ],
   "source": [
    "# Test the method with just the first word after the seed text\n",
    "seed_text = \"im feeling chills\"\n",
    "next_words = 100\n",
    "  \n",
    "token_list = tokenizer.texts_to_sequences([seed_text])[0]\n",
    "token_list = pad_sequences([token_list], maxlen=max_sequence_len-1, padding='pre')\n",
    "predicted_probs = model.predict(token_list)[0]\n",
    "predicted = np.random.choice([x for x in range(len(predicted_probs))], \n",
    "                             p=predicted_probs)\n",
    "# Running this cell multiple times should get you some variance in output\n",
    "print(predicted)"
   ]
  },
  {
   "cell_type": "code",
   "execution_count": 10,
   "metadata": {
    "colab": {
     "base_uri": "https://localhost:8080/",
     "height": 54
    },
    "colab_type": "code",
    "id": "PUGX6kVAW_lk",
    "outputId": "76f0f347-f8be-45c9-f4a6-19910c6341a5"
   },
   "outputs": [
    {
     "name": "stdout",
     "output_type": "stream",
     "text": [
      "im feeling chills a only way i will calls returning no tan for sun twice in star sight queen trapped quarter seems means distant fucks police losin will fuse runs heal rockin queen headline for citys dumb dumb ground janies mornin diamond twilight babys girlya las burden spiderman pirouette sit wholl give low joy shut sincere takes means distant softly downtown in midnight distant quarter prison roseyeah found age toys life thats headin the says of you loves a that can sometimes that ive not no reason for me than first angels i been givin two way true two is hand life block\n"
     ]
    }
   ],
   "source": [
    "# Use this process for the full output generation\n",
    "seed_text = \"im feeling chills\"\n",
    "next_words = 100\n",
    "  \n",
    "for _ in range(next_words):\n",
    "  token_list = tokenizer.texts_to_sequences([seed_text])[0]\n",
    "  token_list = pad_sequences([token_list], maxlen=max_sequence_len-1, padding='pre')\n",
    "  predicted_probs = model.predict(token_list)[0]\n",
    "  predicted = np.random.choice([x for x in range(len(predicted_probs))],\n",
    "                               p=predicted_probs)\n",
    "  output_word = \"\"\n",
    "  for word, index in tokenizer.word_index.items():\n",
    "    if index == predicted:\n",
    "      output_word = word\n",
    "      break\n",
    "  seed_text += \" \" + output_word\n",
    "print(seed_text)"
   ]
  }
 ],
 "metadata": {
  "accelerator": "GPU",
  "colab": {
   "name": "l10c04_nlp_optimizing_the_text_generation_model.ipynb",
   "provenance": []
  },
  "kernelspec": {
   "display_name": "Python 3",
   "language": "python",
   "name": "python3"
  },
  "language_info": {
   "codemirror_mode": {
    "name": "ipython",
    "version": 3
   },
   "file_extension": ".py",
   "mimetype": "text/x-python",
   "name": "python",
   "nbconvert_exporter": "python",
   "pygments_lexer": "ipython3",
   "version": "3.7.2"
  }
 },
 "nbformat": 4,
 "nbformat_minor": 1
}
