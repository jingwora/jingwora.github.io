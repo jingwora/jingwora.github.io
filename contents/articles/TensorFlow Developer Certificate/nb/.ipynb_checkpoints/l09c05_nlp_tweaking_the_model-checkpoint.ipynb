{
 "cells": [
  {
   "cell_type": "markdown",
   "metadata": {
    "colab_type": "text",
    "id": "H-Z_Up24VOTW"
   },
   "source": [
    "# Tweaking the Model"
   ]
  },
  {
   "cell_type": "markdown",
   "metadata": {
    "colab_type": "text",
    "id": "loyi2Uu2VTjG"
   },
   "source": [
    "In this colab, you'll investigate how various tweaks to data processing and the model itself can impact results. At the end, you'll once again be able to visualize how the network sees the related sentiment of each word in the dataset."
   ]
  },
  {
   "cell_type": "markdown",
   "metadata": {
    "colab_type": "text",
    "id": "23VNJqXHVWIY"
   },
   "source": [
    "## Import TensorFlow and related functions"
   ]
  },
  {
   "cell_type": "code",
   "execution_count": 1,
   "metadata": {
    "colab": {},
    "colab_type": "code",
    "id": "OUUbK94iVMlk"
   },
   "outputs": [],
   "source": [
    "import tensorflow as tf\n",
    "\n",
    "from tensorflow.keras.preprocessing.text import Tokenizer\n",
    "from tensorflow.keras.preprocessing.sequence import pad_sequences"
   ]
  },
  {
   "cell_type": "markdown",
   "metadata": {
    "colab_type": "text",
    "id": "PUO8xpCSVbMx"
   },
   "source": [
    "## Get the dataset\n",
    "\n",
    "We'll once again use the dataset containing Amazon and Yelp reviews. This dataset was originally extracted from [here](https://www.kaggle.com/marklvl/sentiment-labelled-sentences-data-set)."
   ]
  },
  {
   "cell_type": "code",
   "execution_count": 2,
   "metadata": {
    "colab": {
     "base_uri": "https://localhost:8080/",
     "height": 326
    },
    "colab_type": "code",
    "id": "RWrK0JRhVZBc",
    "outputId": "b66f2199-f05d-43fa-f17e-391fec6db268"
   },
   "outputs": [
    {
     "name": "stdout",
     "output_type": "stream",
     "text": [
      "--2020-08-08 18:32:09--  https://drive.google.com/uc?id=13ySLC_ue6Umt9RJYSeM2t-V0kCv-4C-P\n",
      "Resolving drive.google.com (drive.google.com)... 173.194.79.113, 173.194.79.138, 173.194.79.100, ...\n",
      "Connecting to drive.google.com (drive.google.com)|173.194.79.113|:443... connected.\n",
      "HTTP request sent, awaiting response... 302 Moved Temporarily\n",
      "Location: https://doc-08-ak-docs.googleusercontent.com/docs/securesc/ha0ro937gcuc7l7deffksulhg5h7mbp1/utfua8v07n50povshtp30pmisi7djv2v/1596911475000/11118900490791463723/*/13ySLC_ue6Umt9RJYSeM2t-V0kCv-4C-P [following]\n",
      "Warning: wildcards not supported in HTTP.\n",
      "--2020-08-08 18:32:09--  https://doc-08-ak-docs.googleusercontent.com/docs/securesc/ha0ro937gcuc7l7deffksulhg5h7mbp1/utfua8v07n50povshtp30pmisi7djv2v/1596911475000/11118900490791463723/*/13ySLC_ue6Umt9RJYSeM2t-V0kCv-4C-P\n",
      "Resolving doc-08-ak-docs.googleusercontent.com (doc-08-ak-docs.googleusercontent.com)... 108.177.96.132, 2a00:1450:4013:c06::84\n",
      "Connecting to doc-08-ak-docs.googleusercontent.com (doc-08-ak-docs.googleusercontent.com)|108.177.96.132|:443... connected.\n",
      "HTTP request sent, awaiting response... 200 OK\n",
      "Length: 127831 (125K) [text/csv]\n",
      "Saving to: ‘/tmp/sentiment.csv’\n",
      "\n",
      "/tmp/sentiment.csv  100%[===================>] 124.83K  --.-KB/s    in 0.002s  \n",
      "\n",
      "2020-08-08 18:32:10 (56.1 MB/s) - ‘/tmp/sentiment.csv’ saved [127831/127831]\n",
      "\n"
     ]
    }
   ],
   "source": [
    "!wget --no-check-certificate \\\n",
    "    https://drive.google.com/uc?id=13ySLC_ue6Umt9RJYSeM2t-V0kCv-4C-P \\\n",
    "    -O /tmp/sentiment.csv"
   ]
  },
  {
   "cell_type": "code",
   "execution_count": 3,
   "metadata": {
    "colab": {},
    "colab_type": "code",
    "id": "US6BXOdxVY-F"
   },
   "outputs": [],
   "source": [
    "import numpy as np\n",
    "import pandas as pd\n",
    "\n",
    "dataset = pd.read_csv('/tmp/sentiment.csv')\n",
    "\n",
    "sentences = dataset['text'].tolist()\n",
    "labels = dataset['sentiment'].tolist()\n",
    "\n",
    "# Separate out the sentences and labels into training and test sets\n",
    "training_size = int(len(sentences) * 0.8)\n",
    "\n",
    "training_sentences = sentences[0:training_size]\n",
    "testing_sentences = sentences[training_size:]\n",
    "training_labels = labels[0:training_size]\n",
    "testing_labels = labels[training_size:]\n",
    "\n",
    "# Make labels into numpy arrays for use with the network later\n",
    "training_labels_final = np.array(training_labels)\n",
    "testing_labels_final = np.array(testing_labels)"
   ]
  },
  {
   "cell_type": "markdown",
   "metadata": {
    "colab_type": "text",
    "id": "kVA7olJhVk4d"
   },
   "source": [
    "## Tokenize the dataset (with tweaks!)\n",
    "\n",
    "Now, we'll tokenize the dataset, but we can make some changes to this from before. Previously, we used: \n",
    "```\n",
    "vocab_size = 1000\n",
    "embedding_dim = 16\n",
    "max_length = 100\n",
    "trunc_type='post'\n",
    "padding_type='post'\n",
    "```\n",
    "\n",
    "How might changing the `vocab_size`, `embedding_dim` or `max_length` affect how the model performs?"
   ]
  },
  {
   "cell_type": "code",
   "execution_count": 4,
   "metadata": {
    "colab": {},
    "colab_type": "code",
    "id": "pPIZ16w3VY4r"
   },
   "outputs": [],
   "source": [
    "vocab_size = 500\n",
    "embedding_dim = 16\n",
    "max_length = 50\n",
    "trunc_type='post'\n",
    "padding_type='post'\n",
    "oov_tok = \"<OOV>\"\n",
    "\n",
    "tokenizer = Tokenizer(num_words = vocab_size, oov_token=oov_tok)\n",
    "tokenizer.fit_on_texts(training_sentences)\n",
    "word_index = tokenizer.word_index\n",
    "training_sequences = tokenizer.texts_to_sequences(training_sentences)\n",
    "training_padded = pad_sequences(training_sequences, maxlen=max_length, padding=padding_type, truncating=trunc_type)\n",
    "\n",
    "testing_sequences = tokenizer.texts_to_sequences(testing_sentences)\n",
    "testing_padded = pad_sequences(testing_sequences, maxlen=max_length, padding=padding_type, truncating=trunc_type)"
   ]
  },
  {
   "cell_type": "markdown",
   "metadata": {
    "colab_type": "text",
    "id": "ZFT_f6SMVvsl"
   },
   "source": [
    "## Train a Sentiment Model (with tweaks!)\n",
    "\n",
    "We'll use a slightly different model here, using `GlobalAveragePooling1D` instead of `Flatten()`."
   ]
  },
  {
   "cell_type": "code",
   "execution_count": 5,
   "metadata": {
    "colab": {
     "base_uri": "https://localhost:8080/",
     "height": 289
    },
    "colab_type": "code",
    "id": "JtuMeahFVY11",
    "outputId": "9b68a100-78df-4256-a599-5933da28ef60"
   },
   "outputs": [
    {
     "name": "stdout",
     "output_type": "stream",
     "text": [
      "Model: \"sequential\"\n",
      "_________________________________________________________________\n",
      "Layer (type)                 Output Shape              Param #   \n",
      "=================================================================\n",
      "embedding (Embedding)        (None, 50, 16)            8000      \n",
      "_________________________________________________________________\n",
      "global_average_pooling1d (Gl (None, 16)                0         \n",
      "_________________________________________________________________\n",
      "dense (Dense)                (None, 6)                 102       \n",
      "_________________________________________________________________\n",
      "dense_1 (Dense)              (None, 1)                 7         \n",
      "=================================================================\n",
      "Total params: 8,109\n",
      "Trainable params: 8,109\n",
      "Non-trainable params: 0\n",
      "_________________________________________________________________\n"
     ]
    }
   ],
   "source": [
    "model = tf.keras.Sequential([\n",
    "    tf.keras.layers.Embedding(vocab_size, embedding_dim, input_length=max_length),\n",
    "    tf.keras.layers.GlobalAveragePooling1D(),\n",
    "    tf.keras.layers.Dense(6, activation='relu'),\n",
    "    tf.keras.layers.Dense(1, activation='sigmoid')\n",
    "])\n",
    "model.compile(loss='binary_crossentropy',optimizer='adam',metrics=['accuracy'])\n",
    "model.summary()"
   ]
  },
  {
   "cell_type": "code",
   "execution_count": 6,
   "metadata": {
    "colab": {
     "base_uri": "https://localhost:8080/",
     "height": 1000
    },
    "colab_type": "code",
    "id": "DKEYCBI5VYzP",
    "outputId": "18bf7e94-0388-400e-bafc-6afb4fd703df"
   },
   "outputs": [
    {
     "name": "stdout",
     "output_type": "stream",
     "text": [
      "Epoch 1/30\n",
      "50/50 [==============================] - 0s 6ms/step - loss: 0.6936 - accuracy: 0.5323 - val_loss: 0.6922 - val_accuracy: 0.6140\n",
      "Epoch 2/30\n",
      "50/50 [==============================] - 0s 4ms/step - loss: 0.6903 - accuracy: 0.6246 - val_loss: 0.6875 - val_accuracy: 0.6717\n",
      "Epoch 3/30\n",
      "50/50 [==============================] - 0s 4ms/step - loss: 0.6857 - accuracy: 0.6654 - val_loss: 0.6826 - val_accuracy: 0.7068\n",
      "Epoch 4/30\n",
      "50/50 [==============================] - 0s 4ms/step - loss: 0.6794 - accuracy: 0.7288 - val_loss: 0.6684 - val_accuracy: 0.5990\n",
      "Epoch 5/30\n",
      "50/50 [==============================] - 0s 4ms/step - loss: 0.6699 - accuracy: 0.6748 - val_loss: 0.6678 - val_accuracy: 0.7519\n",
      "Epoch 6/30\n",
      "50/50 [==============================] - 0s 4ms/step - loss: 0.6569 - accuracy: 0.7495 - val_loss: 0.6525 - val_accuracy: 0.7268\n",
      "Epoch 7/30\n",
      "50/50 [==============================] - 0s 4ms/step - loss: 0.6418 - accuracy: 0.7301 - val_loss: 0.6387 - val_accuracy: 0.7444\n",
      "Epoch 8/30\n",
      "50/50 [==============================] - 0s 4ms/step - loss: 0.6228 - accuracy: 0.7659 - val_loss: 0.6282 - val_accuracy: 0.7694\n",
      "Epoch 9/30\n",
      "50/50 [==============================] - 0s 4ms/step - loss: 0.6021 - accuracy: 0.7834 - val_loss: 0.6109 - val_accuracy: 0.7719\n",
      "Epoch 10/30\n",
      "50/50 [==============================] - 0s 4ms/step - loss: 0.5836 - accuracy: 0.7853 - val_loss: 0.5987 - val_accuracy: 0.7920\n",
      "Epoch 11/30\n",
      "50/50 [==============================] - 0s 4ms/step - loss: 0.5612 - accuracy: 0.8198 - val_loss: 0.5861 - val_accuracy: 0.7895\n",
      "Epoch 12/30\n",
      "50/50 [==============================] - 0s 4ms/step - loss: 0.5413 - accuracy: 0.8173 - val_loss: 0.5720 - val_accuracy: 0.7870\n",
      "Epoch 13/30\n",
      "50/50 [==============================] - 0s 4ms/step - loss: 0.5202 - accuracy: 0.8493 - val_loss: 0.5543 - val_accuracy: 0.7694\n",
      "Epoch 14/30\n",
      "50/50 [==============================] - 0s 4ms/step - loss: 0.5022 - accuracy: 0.8487 - val_loss: 0.5529 - val_accuracy: 0.7920\n",
      "Epoch 15/30\n",
      "50/50 [==============================] - 0s 4ms/step - loss: 0.4855 - accuracy: 0.8613 - val_loss: 0.5360 - val_accuracy: 0.7794\n",
      "Epoch 16/30\n",
      "50/50 [==============================] - 0s 4ms/step - loss: 0.4671 - accuracy: 0.8682 - val_loss: 0.5337 - val_accuracy: 0.7995\n",
      "Epoch 17/30\n",
      "50/50 [==============================] - 0s 4ms/step - loss: 0.4511 - accuracy: 0.8688 - val_loss: 0.5342 - val_accuracy: 0.7895\n",
      "Epoch 18/30\n",
      "50/50 [==============================] - 0s 4ms/step - loss: 0.4358 - accuracy: 0.8826 - val_loss: 0.5217 - val_accuracy: 0.7995\n",
      "Epoch 19/30\n",
      "50/50 [==============================] - 0s 4ms/step - loss: 0.4218 - accuracy: 0.8795 - val_loss: 0.5158 - val_accuracy: 0.7820\n",
      "Epoch 20/30\n",
      "50/50 [==============================] - 0s 4ms/step - loss: 0.4090 - accuracy: 0.8801 - val_loss: 0.5302 - val_accuracy: 0.7469\n",
      "Epoch 21/30\n",
      "50/50 [==============================] - 0s 4ms/step - loss: 0.3963 - accuracy: 0.8901 - val_loss: 0.5176 - val_accuracy: 0.7820\n",
      "Epoch 22/30\n",
      "50/50 [==============================] - 0s 4ms/step - loss: 0.3836 - accuracy: 0.8952 - val_loss: 0.5145 - val_accuracy: 0.7870\n",
      "Epoch 23/30\n",
      "50/50 [==============================] - 0s 4ms/step - loss: 0.3717 - accuracy: 0.9008 - val_loss: 0.5120 - val_accuracy: 0.7845\n",
      "Epoch 24/30\n",
      "50/50 [==============================] - 0s 4ms/step - loss: 0.3634 - accuracy: 0.9021 - val_loss: 0.5193 - val_accuracy: 0.7519\n",
      "Epoch 25/30\n",
      "50/50 [==============================] - 0s 4ms/step - loss: 0.3551 - accuracy: 0.9008 - val_loss: 0.5194 - val_accuracy: 0.7368\n",
      "Epoch 26/30\n",
      "50/50 [==============================] - 0s 4ms/step - loss: 0.3435 - accuracy: 0.9058 - val_loss: 0.5161 - val_accuracy: 0.7569\n",
      "Epoch 27/30\n",
      "50/50 [==============================] - 0s 4ms/step - loss: 0.3338 - accuracy: 0.9109 - val_loss: 0.5279 - val_accuracy: 0.7243\n",
      "Epoch 28/30\n",
      "50/50 [==============================] - 0s 4ms/step - loss: 0.3267 - accuracy: 0.9065 - val_loss: 0.5125 - val_accuracy: 0.7719\n",
      "Epoch 29/30\n",
      "50/50 [==============================] - 0s 4ms/step - loss: 0.3150 - accuracy: 0.9153 - val_loss: 0.5103 - val_accuracy: 0.7794\n",
      "Epoch 30/30\n",
      "50/50 [==============================] - 0s 4ms/step - loss: 0.2974 - accuracy: 0.9159 - val_loss: 0.5131 - val_accuracy: 0.7569\n"
     ]
    }
   ],
   "source": [
    "num_epochs = 30\n",
    "history = model.fit(training_padded, training_labels_final, epochs=num_epochs, validation_data=(testing_padded, testing_labels_final))"
   ]
  },
  {
   "cell_type": "markdown",
   "metadata": {
    "colab_type": "text",
    "id": "DSaxnx9ZV0N6"
   },
   "source": [
    "## Visualize the training graph\n",
    "\n",
    "You can use the code below to visualize the training and validation accuracy while you try out different tweaks to the hyperparameters and model."
   ]
  },
  {
   "cell_type": "code",
   "execution_count": 7,
   "metadata": {
    "colab": {
     "base_uri": "https://localhost:8080/",
     "height": 541
    },
    "colab_type": "code",
    "id": "NmTzrCMcVYwi",
    "outputId": "24416684-ca99-443d-e0f6-1f0834a90756"
   },
   "outputs": [
    {
     "data": {
      "image/png": "[encoded data removed]",
      "text/plain": [
       "<Figure size 432x288 with 1 Axes>"
      ]
     },
     "metadata": {
      "needs_background": "light",
      "tags": []
     },
     "output_type": "display_data"
    },
    {
     "data": {
      "image/png": "[encoded data removed]",
      "text/plain": [
       "<Figure size 432x288 with 1 Axes>"
      ]
     },
     "metadata": {
      "needs_background": "light",
      "tags": []
     },
     "output_type": "display_data"
    }
   ],
   "source": [
    "import matplotlib.pyplot as plt\n",
    "\n",
    "\n",
    "def plot_graphs(history, string):\n",
    "  plt.plot(history.history[string])\n",
    "  plt.plot(history.history['val_'+string])\n",
    "  plt.xlabel(\"Epochs\")\n",
    "  plt.ylabel(string)\n",
    "  plt.legend([string, 'val_'+string])\n",
    "  plt.show()\n",
    "  \n",
    "plot_graphs(history, \"accuracy\")\n",
    "plot_graphs(history, \"loss\")"
   ]
  },
  {
   "cell_type": "markdown",
   "metadata": {
    "colab_type": "text",
    "id": "9Nx-pOjqV2cx"
   },
   "source": [
    "## Get files for visualizing the network\n",
    "\n",
    "The code below will download two files for visualizing how your network \"sees\" the sentiment related to each word. Head to http://projector.tensorflow.org/ and load these files, then click the checkbox to \"sphereize\" the data.\n",
    "\n",
    "Note: You may run into errors with the projection if your `vocab_size` earlier was larger than the actual number of words in the vocabulary, in which case you'll need to decrease this variable and re-train in order to visualize."
   ]
  },
  {
   "cell_type": "code",
   "execution_count": 8,
   "metadata": {
    "colab": {
     "base_uri": "https://localhost:8080/",
     "height": 34
    },
    "colab_type": "code",
    "id": "OO7pTueCVYt1",
    "outputId": "0d64e6d8-cbfb-49b5-e453-d2f6a0f1be4c"
   },
   "outputs": [
    {
     "name": "stdout",
     "output_type": "stream",
     "text": [
      "(500, 16)\n"
     ]
    }
   ],
   "source": [
    "# First get the weights of the embedding layer\n",
    "e = model.layers[0]\n",
    "weights = e.get_weights()[0]\n",
    "print(weights.shape) # shape: (vocab_size, embedding_dim)"
   ]
  },
  {
   "cell_type": "code",
   "execution_count": 9,
   "metadata": {
    "colab": {},
    "colab_type": "code",
    "id": "pZB0nWgXVYrJ"
   },
   "outputs": [],
   "source": [
    "import io\n",
    "\n",
    "# Create the reverse word index\n",
    "reverse_word_index = dict([(value, key) for (key, value) in word_index.items()])\n",
    "\n",
    "# Write out the embedding vectors and metadata\n",
    "out_v = io.open('vecs.tsv', 'w', encoding='utf-8')\n",
    "out_m = io.open('meta.tsv', 'w', encoding='utf-8')\n",
    "for word_num in range(1, vocab_size):\n",
    "  word = reverse_word_index[word_num]\n",
    "  embeddings = weights[word_num]\n",
    "  out_m.write(word + \"\\n\")\n",
    "  out_v.write('\\t'.join([str(x) for x in embeddings]) + \"\\n\")\n",
    "out_v.close()\n",
    "out_m.close()"
   ]
  },
  {
   "cell_type": "code",
   "execution_count": 10,
   "metadata": {
    "colab": {
     "base_uri": "https://localhost:8080/",
     "height": 17
    },
    "colab_type": "code",
    "id": "TdlFkwCdVYoa",
    "outputId": "8fd1cb32-b7ec-4429-eb55-7a07530dfb07"
   },
   "outputs": [
    {
     "data": {
      "application/javascript": [
       "\n",
       "    async function download(id, filename, size) {\n",
       "      if (!google.colab.kernel.accessAllowed) {\n",
       "        return;\n",
       "      }\n",
       "      const div = document.createElement('div');\n",
       "      const label = document.createElement('label');\n",
       "      label.textContent = `Downloading \"${filename}\": `;\n",
       "      div.appendChild(label);\n",
       "      const progress = document.createElement('progress');\n",
       "      progress.max = size;\n",
       "      div.appendChild(progress);\n",
       "      document.body.appendChild(div);\n",
       "\n",
       "      const buffers = [];\n",
       "      let downloaded = 0;\n",
       "\n",
       "      const channel = await google.colab.kernel.comms.open(id);\n",
       "      // Send a message to notify the kernel that we're ready.\n",
       "      channel.send({})\n",
       "\n",
       "      for await (const message of channel.messages) {\n",
       "        // Send a message to notify the kernel that we're ready.\n",
       "        channel.send({})\n",
       "        if (message.buffers) {\n",
       "          for (const buffer of message.buffers) {\n",
       "            buffers.push(buffer);\n",
       "            downloaded += buffer.byteLength;\n",
       "            progress.value = downloaded;\n",
       "          }\n",
       "        }\n",
       "      }\n",
       "      const blob = new Blob(buffers, {type: 'application/binary'});\n",
       "      const a = document.createElement('a');\n",
       "      a.href = window.URL.createObjectURL(blob);\n",
       "      a.download = filename;\n",
       "      div.appendChild(a);\n",
       "      a.click();\n",
       "      div.remove();\n",
       "    }\n",
       "  "
      ],
      "text/plain": [
       "<IPython.core.display.Javascript object>"
      ]
     },
     "metadata": {
      "tags": []
     },
     "output_type": "display_data"
    },
    {
     "data": {
      "application/javascript": [
       "download(\"download_f0e1ef96-f021-444d-be64-c52bba861808\", \"vecs.tsv\", 91832)"
      ],
      "text/plain": [
       "<IPython.core.display.Javascript object>"
      ]
     },
     "metadata": {
      "tags": []
     },
     "output_type": "display_data"
    },
    {
     "data": {
      "application/javascript": [
       "\n",
       "    async function download(id, filename, size) {\n",
       "      if (!google.colab.kernel.accessAllowed) {\n",
       "        return;\n",
       "      }\n",
       "      const div = document.createElement('div');\n",
       "      const label = document.createElement('label');\n",
       "      label.textContent = `Downloading \"${filename}\": `;\n",
       "      div.appendChild(label);\n",
       "      const progress = document.createElement('progress');\n",
       "      progress.max = size;\n",
       "      div.appendChild(progress);\n",
       "      document.body.appendChild(div);\n",
       "\n",
       "      const buffers = [];\n",
       "      let downloaded = 0;\n",
       "\n",
       "      const channel = await google.colab.kernel.comms.open(id);\n",
       "      // Send a message to notify the kernel that we're ready.\n",
       "      channel.send({})\n",
       "\n",
       "      for await (const message of channel.messages) {\n",
       "        // Send a message to notify the kernel that we're ready.\n",
       "        channel.send({})\n",
       "        if (message.buffers) {\n",
       "          for (const buffer of message.buffers) {\n",
       "            buffers.push(buffer);\n",
       "            downloaded += buffer.byteLength;\n",
       "            progress.value = downloaded;\n",
       "          }\n",
       "        }\n",
       "      }\n",
       "      const blob = new Blob(buffers, {type: 'application/binary'});\n",
       "      const a = document.createElement('a');\n",
       "      a.href = window.URL.createObjectURL(blob);\n",
       "      a.download = filename;\n",
       "      div.appendChild(a);\n",
       "      a.click();\n",
       "      div.remove();\n",
       "    }\n",
       "  "
      ],
      "text/plain": [
       "<IPython.core.display.Javascript object>"
      ]
     },
     "metadata": {
      "tags": []
     },
     "output_type": "display_data"
    },
    {
     "data": {
      "application/javascript": [
       "download(\"download_7e2b056a-0d2e-4493-a87e-d4b1ebc2e75a\", \"meta.tsv\", 3025)"
      ],
      "text/plain": [
       "<IPython.core.display.Javascript object>"
      ]
     },
     "metadata": {
      "tags": []
     },
     "output_type": "display_data"
    }
   ],
   "source": [
    "# Download the files\n",
    "try:\n",
    "  from google.colab import files\n",
    "except ImportError:\n",
    "  pass\n",
    "else:\n",
    "  files.download('vecs.tsv')\n",
    "  files.download('meta.tsv')"
   ]
  },
  {
   "cell_type": "markdown",
   "metadata": {
    "colab_type": "text",
    "id": "xlypujn2V71D"
   },
   "source": [
    "## Predicting Sentiment in New Reviews\n",
    "\n",
    "Below, we've again included some example new reviews you can test your results on."
   ]
  },
  {
   "cell_type": "code",
   "execution_count": 11,
   "metadata": {
    "colab": {
     "base_uri": "https://localhost:8080/",
     "height": 785
    },
    "colab_type": "code",
    "id": "oDTap5YIVYlm",
    "outputId": "c85e9339-a7bf-455b-cc3d-7f6ad886d260"
   },
   "outputs": [
    {
     "name": "stdout",
     "output_type": "stream",
     "text": [
      "['I love this phone', 'I hate spaghetti', 'Everything was cold', 'Everything was hot exactly as I wanted', 'Everything was green', 'the host seated us immediately', 'they gave us free chocolate cake', 'not sure about the wilted flowers on the table', 'only works when I stand on tippy toes', 'does not work when I stand on my head']\n",
      "\n",
      "HOT OFF THE PRESS! HERE ARE SOME NEWLY MINTED, ABSOLUTELY GENUINE REVIEWS!\n",
      "\n",
      "I love this phone\n",
      "[0.79636806]\n",
      "\n",
      "\n",
      "I hate spaghetti\n",
      "[0.10283631]\n",
      "\n",
      "\n",
      "Everything was cold\n",
      "[0.54429495]\n",
      "\n",
      "\n",
      "Everything was hot exactly as I wanted\n",
      "[0.40449277]\n",
      "\n",
      "\n",
      "Everything was green\n",
      "[0.54429495]\n",
      "\n",
      "\n",
      "the host seated us immediately\n",
      "[0.5753177]\n",
      "\n",
      "\n",
      "they gave us free chocolate cake\n",
      "[0.79596055]\n",
      "\n",
      "\n",
      "not sure about the wilted flowers on the table\n",
      "[0.07237152]\n",
      "\n",
      "\n",
      "only works when I stand on tippy toes\n",
      "[0.7960414]\n",
      "\n",
      "\n",
      "does not work when I stand on my head\n",
      "[0.02313371]\n",
      "\n",
      "\n"
     ]
    }
   ],
   "source": [
    "# Use the model to predict a review   \n",
    "fake_reviews = ['I love this phone', 'I hate spaghetti', \n",
    "                'Everything was cold',\n",
    "                'Everything was hot exactly as I wanted', \n",
    "                'Everything was green', \n",
    "                'the host seated us immediately',\n",
    "                'they gave us free chocolate cake', \n",
    "                'not sure about the wilted flowers on the table',\n",
    "                'only works when I stand on tippy toes', \n",
    "                'does not work when I stand on my head']\n",
    "\n",
    "print(fake_reviews) \n",
    "\n",
    "# Create the sequences\n",
    "padding_type='post'\n",
    "sample_sequences = tokenizer.texts_to_sequences(fake_reviews)\n",
    "fakes_padded = pad_sequences(sample_sequences, padding=padding_type, maxlen=max_length)           \n",
    "\n",
    "print('\\nHOT OFF THE PRESS! HERE ARE SOME NEWLY MINTED, ABSOLUTELY GENUINE REVIEWS!\\n')              \n",
    "\n",
    "classes = model.predict(fakes_padded)\n",
    "\n",
    "# The closer the class is to 1, the more positive the review is deemed to be\n",
    "for x in range(len(fake_reviews)):\n",
    "  print(fake_reviews[x])\n",
    "  print(classes[x])\n",
    "  print('\\n')\n",
    "\n",
    "# Try adding reviews of your own\n",
    "# Add some negative words (such as \"not\") to the good reviews and see what happens\n",
    "# For example:\n",
    "# they gave us free chocolate cake and did not charge us"
   ]
  },
  {
   "cell_type": "code",
   "execution_count": 11,
   "metadata": {
    "colab": {},
    "colab_type": "code",
    "id": "-Tm41n7yVYix"
   },
   "outputs": [],
   "source": []
  }
 ],
 "metadata": {
  "accelerator": "GPU",
  "colab": {
   "collapsed_sections": [],
   "name": "l09c05_nlp_tweaking_the_model.ipynb",
   "provenance": []
  },
  "kernelspec": {
   "display_name": "Python 3",
   "language": "python",
   "name": "python3"
  },
  "language_info": {
   "codemirror_mode": {
    "name": "ipython",
    "version": 3
   },
   "file_extension": ".py",
   "mimetype": "text/x-python",
   "name": "python",
   "nbconvert_exporter": "python",
   "pygments_lexer": "ipython3",
   "version": "3.7.2"
  }
 },
 "nbformat": 4,
 "nbformat_minor": 1
}
