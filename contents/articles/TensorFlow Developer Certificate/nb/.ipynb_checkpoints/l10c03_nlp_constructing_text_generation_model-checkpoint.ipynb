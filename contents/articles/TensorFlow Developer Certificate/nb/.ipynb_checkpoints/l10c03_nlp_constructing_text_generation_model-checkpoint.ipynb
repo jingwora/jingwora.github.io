{
 "cells": [
  {
   "cell_type": "markdown",
   "metadata": {
    "colab_type": "text",
    "id": "olNBiJHdSZDe"
   },
   "source": [
    "# Constructing a Text Generation Model\n",
    "\n"
   ]
  },
  {
   "cell_type": "markdown",
   "metadata": {
    "colab_type": "text",
    "id": "RHWdoyRESb1s"
   },
   "source": [
    "Using most of the techniques you've already learned, it's now possible to generate new text by predicting the next word that follows a given seed word. To practice this method, we'll use the [Kaggle Song Lyrics Dataset](https://www.kaggle.com/mousehead/songlyrics)."
   ]
  },
  {
   "cell_type": "markdown",
   "metadata": {
    "colab_type": "text",
    "id": "DqdPMv5MSeL_"
   },
   "source": [
    "## Import TensorFlow and related functions"
   ]
  },
  {
   "cell_type": "code",
   "execution_count": 1,
   "metadata": {
    "colab": {},
    "colab_type": "code",
    "id": "1-aMMAHOSe_V"
   },
   "outputs": [],
   "source": [
    "import tensorflow as tf\n",
    "\n",
    "from tensorflow.keras.preprocessing.text import Tokenizer\n",
    "from tensorflow.keras.preprocessing.sequence import pad_sequences\n",
    "\n",
    "# Other imports for processing data\n",
    "import string\n",
    "import numpy as np\n",
    "import pandas as pd"
   ]
  },
  {
   "cell_type": "markdown",
   "metadata": {
    "colab_type": "text",
    "id": "cIeMYRqjSiGn"
   },
   "source": [
    "## Get the Dataset\n",
    "\n",
    "As noted above, we'll utilize the [Song Lyrics dataset](https://www.kaggle.com/mousehead/songlyrics) on Kaggle."
   ]
  },
  {
   "cell_type": "code",
   "execution_count": 2,
   "metadata": {
    "colab": {
     "base_uri": "https://localhost:8080/",
     "height": 326
    },
    "colab_type": "code",
    "id": "O2saQAf9Sfs0",
    "outputId": "25146b9b-93ed-415f-dfff-eb73189643d9"
   },
   "outputs": [
    {
     "name": "stdout",
     "output_type": "stream",
     "text": [
      "--2020-08-09 03:38:04--  https://drive.google.com/uc?id=1LiJFZd41ofrWoBtW-pMYsfz1w8Ny0Bj8\n",
      "Resolving drive.google.com (drive.google.com)... 74.125.203.102, 74.125.203.100, 74.125.203.113, ...\n",
      "Connecting to drive.google.com (drive.google.com)|74.125.203.102|:443... connected.\n",
      "HTTP request sent, awaiting response... 302 Moved Temporarily\n",
      "Location: https://doc-04-ak-docs.googleusercontent.com/docs/securesc/ha0ro937gcuc7l7deffksulhg5h7mbp1/knnc0v7obic9cfo7di4dtovne8vb8cr9/1596944250000/11118900490791463723/*/1LiJFZd41ofrWoBtW-pMYsfz1w8Ny0Bj8 [following]\n",
      "Warning: wildcards not supported in HTTP.\n",
      "--2020-08-09 03:38:07--  https://doc-04-ak-docs.googleusercontent.com/docs/securesc/ha0ro937gcuc7l7deffksulhg5h7mbp1/knnc0v7obic9cfo7di4dtovne8vb8cr9/1596944250000/11118900490791463723/*/1LiJFZd41ofrWoBtW-pMYsfz1w8Ny0Bj8\n",
      "Resolving doc-04-ak-docs.googleusercontent.com (doc-04-ak-docs.googleusercontent.com)... 74.125.203.132, 2404:6800:4008:c03::84\n",
      "Connecting to doc-04-ak-docs.googleusercontent.com (doc-04-ak-docs.googleusercontent.com)|74.125.203.132|:443... connected.\n",
      "HTTP request sent, awaiting response... 200 OK\n",
      "Length: unspecified [text/csv]\n",
      "Saving to: ‘/tmp/songdata.csv’\n",
      "\n",
      "/tmp/songdata.csv       [     <=>            ]  69.08M  56.9MB/s    in 1.2s    \n",
      "\n",
      "2020-08-09 03:38:09 (56.9 MB/s) - ‘/tmp/songdata.csv’ saved [72436445]\n",
      "\n"
     ]
    }
   ],
   "source": [
    "!wget --no-check-certificate \\\n",
    "    https://drive.google.com/uc?id=1LiJFZd41ofrWoBtW-pMYsfz1w8Ny0Bj8 \\\n",
    "    -O /tmp/songdata.csv"
   ]
  },
  {
   "cell_type": "markdown",
   "metadata": {
    "colab_type": "text",
    "id": "O_4hKeN0SmjL"
   },
   "source": [
    "## **First 10 Songs**\n",
    "\n",
    "Let's first look at just 10 songs from the dataset, and see how things perform."
   ]
  },
  {
   "cell_type": "markdown",
   "metadata": {
    "colab_type": "text",
    "id": "U-Jm2tO_Soua"
   },
   "source": [
    "### Preprocessing\n",
    "\n",
    "Let's perform some basic preprocessing to get rid of punctuation and make everything lowercase. We'll then split the lyrics up by line and tokenize the lyrics."
   ]
  },
  {
   "cell_type": "code",
   "execution_count": 3,
   "metadata": {
    "colab": {},
    "colab_type": "code",
    "id": "wWYHWsdISfpd"
   },
   "outputs": [],
   "source": [
    "def tokenize_corpus(corpus, num_words=-1):\n",
    "  # Fit a Tokenizer on the corpus\n",
    "  if num_words > -1:\n",
    "    tokenizer = Tokenizer(num_words=num_words)\n",
    "  else:\n",
    "    tokenizer = Tokenizer()\n",
    "  tokenizer.fit_on_texts(corpus)\n",
    "  return tokenizer\n",
    "\n",
    "def create_lyrics_corpus(dataset, field):\n",
    "  # Remove all other punctuation\n",
    "  dataset[field] = dataset[field].str.replace('[{}]'.format(string.punctuation), '')\n",
    "  # Make it lowercase\n",
    "  dataset[field] = dataset[field].str.lower()\n",
    "  # Make it one long string to split by line\n",
    "  lyrics = dataset[field].str.cat()\n",
    "  corpus = lyrics.split('\\n')\n",
    "  # Remove any trailing whitespace\n",
    "  for l in range(len(corpus)):\n",
    "    corpus[l] = corpus[l].rstrip()\n",
    "  # Remove any empty lines\n",
    "  corpus = [l for l in corpus if l != '']\n",
    "\n",
    "  return corpus"
   ]
  },
  {
   "cell_type": "code",
   "execution_count": 4,
   "metadata": {
    "colab": {
     "base_uri": "https://localhost:8080/",
     "height": 71
    },
    "colab_type": "code",
    "id": "_hEKnlPbSfmp",
    "outputId": "e78f0b25-f458-4876-bec1-a4e82558e9ca"
   },
   "outputs": [
    {
     "name": "stdout",
     "output_type": "stream",
     "text": [
      "{'you': 1, 'i': 2, 'and': 3, 'a': 4, 'me': 5, 'the': 6, 'is': 7, 'my': 8, 'to': 9, 'ma': 10, 'it': 11, 'of': 12, 'im': 13, 'your': 14, 'love': 15, 'so': 16, 'as': 17, 'that': 18, 'in': 19, 'andante': 20, 'boomaboomerang': 21, 'make': 22, 'on': 23, 'oh': 24, 'for': 25, 'but': 26, 'new': 27, 'bang': 28, 'its': 29, 'be': 30, 'like': 31, 'know': 32, 'now': 33, 'how': 34, 'could': 35, 'youre': 36, 'sing': 37, 'never': 38, 'no': 39, 'chiquitita': 40, 'can': 41, 'we': 42, 'song': 43, 'had': 44, 'good': 45, 'youll': 46, 'she': 47, 'just': 48, 'girl': 49, 'again': 50, 'will': 51, 'take': 52, 'please': 53, 'let': 54, 'am': 55, 'eyes': 56, 'was': 57, 'always': 58, 'cassandra': 59, 'blue': 60, 'time': 61, 'dont': 62, 'were': 63, 'return': 64, 'once': 65, 'then': 66, 'sorry': 67, 'cryin': 68, 'over': 69, 'feel': 70, 'ever': 71, 'believe': 72, 'what': 73, 'do': 74, 'go': 75, 'all': 76, 'out': 77, 'think': 78, 'every': 79, 'leave': 80, 'look': 81, 'at': 82, 'way': 83, 'one': 84, 'music': 85, 'down': 86, 'our': 87, 'give': 88, 'learn': 89, 'more': 90, 'us': 91, 'would': 92, 'there': 93, 'before': 94, 'when': 95, 'with': 96, 'feeling': 97, 'play': 98, 'cause': 99, 'away': 100, 'here': 101, 'have': 102, 'yes': 103, 'baby': 104, 'get': 105, 'didnt': 106, 'see': 107, 'did': 108, 'closed': 109, 'realized': 110, 'crazy': 111, 'world': 112, 'lord': 113, 'shes': 114, 'kind': 115, 'without': 116, 'if': 117, 'touch': 118, 'strong': 119, 'making': 120, 'such': 121, 'found': 122, 'true': 123, 'stay': 124, 'together': 125, 'thought': 126, 'come': 127, 'they': 128, 'sweet': 129, 'tender': 130, 'sender': 131, 'tune': 132, 'humdehumhum': 133, 'gonna': 134, 'last': 135, 'leaving': 136, 'sleep': 137, 'only': 138, 'saw': 139, 'tell': 140, 'hes': 141, 'her': 142, 'sound': 143, 'tread': 144, 'lightly': 145, 'ground': 146, 'ill': 147, 'show': 148, 'life': 149, 'too': 150, 'used': 151, 'darling': 152, 'meant': 153, 'break': 154, 'end': 155, 'yourself': 156, 'little': 157, 'dumbedumdum': 158, 'bedumbedumdum': 159, 'youve': 160, 'dumbbedumbdumb': 161, 'bedumbbedumbdumb': 162, 'by': 163, 'theyre': 164, 'alone': 165, 'misunderstood': 166, 'day': 167, 'dawning': 168, 'some': 169, 'wanted': 170, 'none': 171, 'listen': 172, 'words': 173, 'warning': 174, 'darkest': 175, 'nights': 176, 'nobody': 177, 'knew': 178, 'fight': 179, 'caught': 180, 'really': 181, 'power': 182, 'dreams': 183, 'weave': 184, 'until': 185, 'final': 186, 'hour': 187, 'morning': 188, 'ship': 189, 'gone': 190, 'grieving': 191, 'still': 192, 'pain': 193, 'cry': 194, 'sun': 195, 'try': 196, 'face': 197, 'something': 198, 'sees': 199, 'makes': 200, 'fine': 201, 'who': 202, 'mine': 203, 'leaves': 204, 'walk': 205, 'hand': 206, 'well': 207, 'about': 208, 'things': 209, 'slow': 210, 'theres': 211, 'talk': 212, 'why': 213, 'up': 214, 'lousy': 215, 'packing': 216, 'ive': 217, 'gotta': 218, 'near': 219, 'keeping': 220, 'intention': 221, 'growing': 222, 'taking': 223, 'dimension': 224, 'even': 225, 'better': 226, 'thank': 227, 'god': 228, 'not': 229, 'somebody': 230, 'happy': 231, 'question': 232, 'smile': 233, 'mean': 234, 'much': 235, 'kisses': 236, 'around': 237, 'anywhere': 238, 'advice': 239, 'care': 240, 'use': 241, 'selfish': 242, 'tool': 243, 'fool': 244, 'showing': 245, 'boomerang': 246, 'throwing': 247, 'warm': 248, 'kiss': 249, 'surrender': 250, 'giving': 251, 'been': 252, 'door': 253, 'burning': 254, 'bridges': 255, 'being': 256, 'moving': 257, 'though': 258, 'behind': 259, 'are': 260, 'must': 261, 'sure': 262, 'stood': 263, 'hope': 264, 'this': 265, 'deny': 266, 'sad': 267, 'quiet': 268, 'truth': 269, 'heartaches': 270, 'scars': 271, 'dancing': 272, 'sky': 273, 'shining': 274, 'above': 275, 'hear': 276, 'came': 277, 'couldnt': 278, 'everything': 279, 'back': 280, 'long': 281, 'waitin': 282, 'cold': 283, 'chills': 284, 'bone': 285, 'youd': 286, 'wonderful': 287, 'means': 288, 'special': 289, 'smiles': 290, 'lucky': 291, 'fellow': 292, 'park': 293, 'holds': 294, 'squeezes': 295, 'walking': 296, 'hours': 297, 'talking': 298, 'plan': 299, 'easy': 300, 'gently': 301, 'summer': 302, 'evening': 303, 'breeze': 304, 'grow': 305, 'fingers': 306, 'soft': 307, 'light': 308, 'body': 309, 'velvet': 310, 'night': 311, 'soul': 312, 'slowly': 313, 'shimmer': 314, 'thousand': 315, 'butterflies': 316, 'float': 317, 'put': 318, 'rotten': 319, 'boy': 320, 'tough': 321, 'stuff': 322, 'saying': 323, 'need': 324, 'anymore': 325, 'enough': 326, 'standing': 327, 'creep': 328, 'felt': 329, 'cheap': 330, 'notion': 331, 'deep': 332, 'dumb': 333, 'mistake': 334, 'entitled': 335, 'another': 336, 'beg': 337, 'forgive': 338, 'an': 339, 'feels': 340, 'hoot': 341, 'holler': 342, 'mad': 343, 'under': 344, 'heel': 345, 'holy': 346, 'christ': 347, 'deal': 348, 'sick': 349, 'tired': 350, 'tedious': 351, 'ways': 352, 'aint': 353, 'walkin': 354, 'cutting': 355, 'tie': 356, 'wanna': 357, 'into': 358, 'eye': 359, 'myself': 360, 'counting': 361, 'pride': 362, 'unright': 363, 'neighbours': 364, 'ride': 365, 'burying': 366, 'past': 367, 'peace': 368, 'free': 369, 'sucker': 370, 'street': 371, 'singing': 372, 'shouting': 373, 'staying': 374, 'alive': 375, 'city': 376, 'dead': 377, 'hiding': 378, 'their': 379, 'shame': 380, 'hollow': 381, 'laughter': 382, 'while': 383, 'crying': 384, 'bed': 385, 'pity': 386, 'believed': 387, 'lost': 388, 'from': 389, 'start': 390, 'suffer': 391, 'sell': 392, 'secrets': 393, 'bargain': 394, 'playing': 395, 'smart': 396, 'aching': 397, 'hearts': 398, 'sailing': 399, 'father': 400, 'sister': 401, 'reason': 402, 'linger': 403, 'deeply': 404, 'future': 405, 'casting': 406, 'shadow': 407, 'else': 408, 'fate': 409, 'bags': 410, 'thorough': 411, 'knowing': 412, 'late': 413, 'wait': 414, 'watched': 415, 'harbor': 416, 'sunrise': 417, 'sails': 418, 'almost': 419, 'slack': 420, 'cool': 421, 'rain': 422, 'deck': 423, 'tiny': 424, 'figure': 425, 'rigid': 426, 'restrained': 427, 'filled': 428, 'whats': 429, 'wrong': 430, 'enchained': 431, 'own': 432, 'sorrow': 433, 'tomorrow': 434, 'hate': 435, 'shoulder': 436, 'best': 437, 'friend': 438, 'rely': 439, 'broken': 440, 'feather': 441, 'patch': 442, 'walls': 443, 'tumbling': 444, 'loves': 445, 'blown': 446, 'candle': 447, 'seems': 448, 'hard': 449, 'handle': 450, 'id': 451, 'thinking': 452, 'went': 453, 'house': 454, 'hardly': 455, 'guy': 456, 'closing': 457, 'front': 458, 'emptiness': 459, 'he': 460, 'disapeared': 461, 'his': 462, 'car': 463, 'stunned': 464, 'dreamed': 465, 'lifes': 466, 'part': 467, 'move': 468, 'feet': 469, 'pavement': 470, 'acted': 471, 'told': 472, 'lies': 473, 'meet': 474, 'other': 475, 'guys': 476, 'stupid': 477, 'blind': 478, 'smiled': 479, 'took': 480, 'said': 481, 'may': 482, 'couple': 483, 'men': 484, 'them': 485, 'brother': 486, 'joe': 487, 'seeing': 488, 'lot': 489, 'him': 490, 'nice': 491, 'sitting': 492, 'sittin': 493, 'memories': 494}\n",
      "495\n"
     ]
    }
   ],
   "source": [
    "# Read the dataset from csv - just first 10 songs for now\n",
    "dataset = pd.read_csv('/tmp/songdata.csv', dtype=str)[:10]\n",
    "# Create the corpus using the 'text' column containing lyrics\n",
    "corpus = create_lyrics_corpus(dataset, 'text')\n",
    "# Tokenize the corpus\n",
    "tokenizer = tokenize_corpus(corpus)\n",
    "\n",
    "total_words = len(tokenizer.word_index) + 1\n",
    "\n",
    "print(tokenizer.word_index)\n",
    "print(total_words)"
   ]
  },
  {
   "cell_type": "markdown",
   "metadata": {
    "colab_type": "text",
    "id": "yGIh4CczSuOH"
   },
   "source": [
    "### Create Sequences and Labels\n",
    "\n",
    "After preprocessing, we next need to create sequences and labels. Creating the sequences themselves is similar to before with `texts_to_sequences`, but also including the use of [N-Grams](https://towardsdatascience.com/introduction-to-language-models-n-gram-e323081503d9); creating the labels will now utilize those sequences as well as utilize one-hot encoding over all potential output words."
   ]
  },
  {
   "cell_type": "code",
   "execution_count": 5,
   "metadata": {
    "colab": {},
    "colab_type": "code",
    "id": "qhoKS1TESfkL"
   },
   "outputs": [],
   "source": [
    "sequences = []\n",
    "for line in corpus:\n",
    "\ttoken_list = tokenizer.texts_to_sequences([line])[0]\n",
    "\tfor i in range(1, len(token_list)):\n",
    "\t\tn_gram_sequence = token_list[:i+1]\n",
    "\t\tsequences.append(n_gram_sequence)\n",
    "\n",
    "# Pad sequences for equal input length \n",
    "max_sequence_len = max([len(seq) for seq in sequences])\n",
    "sequences = np.array(pad_sequences(sequences, maxlen=max_sequence_len, padding='pre'))\n",
    "\n",
    "# Split sequences between the \"input\" sequence and \"output\" predicted word\n",
    "input_sequences, labels = sequences[:,:-1], sequences[:,-1]\n",
    "# One-hot encode the labels\n",
    "one_hot_labels = tf.keras.utils.to_categorical(labels, num_classes=total_words)"
   ]
  },
  {
   "cell_type": "code",
   "execution_count": 6,
   "metadata": {
    "colab": {
     "base_uri": "https://localhost:8080/",
     "height": 833
    },
    "colab_type": "code",
    "id": "gu82a0TLSfhk",
    "outputId": "89449ccb-6518-4d57-f85f-bfadffcb4b99"
   },
   "outputs": [
    {
     "name": "stdout",
     "output_type": "stream",
     "text": [
      "32\n",
      "97\n",
      "[  0   0   0   0   0   0   0   0   0   0   0   0   0  81  82 142 197  29\n",
      "   4]\n",
      "[  0   0   0   0   0   0   0   0   0   0   0   0  81  82 142 197  29   4\n",
      " 287]\n",
      "[0. 0. 0. 0. 0. 0. 0. 0. 0. 0. 0. 0. 0. 0. 0. 0. 0. 0. 0. 0. 0. 0. 0. 0.\n",
      " 0. 0. 0. 0. 0. 0. 0. 0. 0. 0. 0. 0. 0. 0. 0. 0. 0. 0. 0. 0. 0. 0. 0. 0.\n",
      " 0. 0. 0. 0. 0. 0. 0. 0. 0. 0. 0. 0. 0. 0. 0. 0. 0. 0. 0. 0. 0. 0. 0. 0.\n",
      " 0. 0. 0. 0. 0. 0. 0. 0. 0. 0. 0. 0. 0. 0. 0. 0. 0. 0. 0. 0. 0. 0. 0. 0.\n",
      " 0. 0. 0. 0. 0. 0. 0. 0. 0. 0. 0. 0. 0. 0. 0. 0. 0. 0. 0. 0. 0. 0. 0. 0.\n",
      " 0. 0. 0. 0. 0. 0. 0. 0. 0. 0. 0. 0. 0. 0. 0. 0. 0. 0. 0. 0. 0. 0. 0. 0.\n",
      " 0. 0. 0. 0. 0. 0. 0. 0. 0. 0. 0. 0. 0. 0. 0. 0. 0. 0. 0. 0. 0. 0. 0. 0.\n",
      " 0. 0. 0. 0. 0. 0. 0. 0. 0. 0. 0. 0. 0. 0. 0. 0. 0. 0. 0. 0. 0. 0. 0. 0.\n",
      " 0. 0. 0. 0. 0. 0. 0. 0. 0. 0. 0. 0. 0. 0. 0. 0. 0. 0. 0. 0. 0. 0. 0. 0.\n",
      " 0. 0. 0. 0. 0. 0. 0. 0. 0. 0. 0. 0. 0. 0. 0. 0. 0. 0. 0. 0. 0. 0. 0. 0.\n",
      " 0. 0. 0. 0. 0. 0. 0. 0. 0. 0. 0. 0. 0. 0. 0. 0. 0. 0. 0. 0. 0. 0. 0. 0.\n",
      " 0. 0. 0. 0. 0. 0. 0. 0. 0. 0. 0. 0. 0. 0. 0. 0. 0. 0. 0. 0. 0. 0. 0. 1.\n",
      " 0. 0. 0. 0. 0. 0. 0. 0. 0. 0. 0. 0. 0. 0. 0. 0. 0. 0. 0. 0. 0. 0. 0. 0.\n",
      " 0. 0. 0. 0. 0. 0. 0. 0. 0. 0. 0. 0. 0. 0. 0. 0. 0. 0. 0. 0. 0. 0. 0. 0.\n",
      " 0. 0. 0. 0. 0. 0. 0. 0. 0. 0. 0. 0. 0. 0. 0. 0. 0. 0. 0. 0. 0. 0. 0. 0.\n",
      " 0. 0. 0. 0. 0. 0. 0. 0. 0. 0. 0. 0. 0. 0. 0. 0. 0. 0. 0. 0. 0. 0. 0. 0.\n",
      " 0. 0. 0. 0. 0. 0. 0. 0. 0. 0. 0. 0. 0. 0. 0. 0. 0. 0. 0. 0. 0. 0. 0. 0.\n",
      " 0. 0. 0. 0. 0. 0. 0. 0. 0. 0. 0. 0. 0. 0. 0. 0. 0. 0. 0. 0. 0. 0. 0. 0.\n",
      " 0. 0. 0. 0. 0. 0. 0. 0. 0. 0. 0. 0. 0. 0. 0. 0. 0. 0. 0. 0. 0. 0. 0. 0.\n",
      " 0. 0. 0. 0. 0. 0. 0. 0. 0. 0. 0. 0. 0. 0. 0. 0. 0. 0. 0. 0. 0. 0. 0. 0.\n",
      " 0. 0. 0. 0. 0. 0. 0. 0. 0. 0. 0. 0. 0. 0. 0.]\n",
      "[0. 0. 0. 0. 0. 0. 0. 0. 0. 0. 0. 0. 0. 0. 0. 0. 0. 0. 0. 0. 0. 0. 0. 0.\n",
      " 0. 0. 0. 0. 0. 0. 0. 0. 0. 0. 0. 0. 0. 0. 0. 0. 0. 0. 0. 0. 0. 0. 0. 0.\n",
      " 0. 0. 0. 0. 0. 0. 0. 0. 0. 0. 0. 0. 0. 0. 0. 0. 0. 0. 0. 0. 0. 0. 0. 0.\n",
      " 0. 0. 0. 0. 0. 0. 0. 0. 0. 0. 0. 0. 0. 0. 0. 0. 0. 0. 0. 0. 0. 0. 0. 0.\n",
      " 0. 0. 0. 0. 0. 0. 0. 0. 0. 0. 0. 0. 0. 0. 0. 0. 0. 0. 0. 0. 0. 0. 0. 0.\n",
      " 0. 0. 0. 0. 0. 0. 0. 0. 0. 0. 0. 0. 0. 0. 0. 0. 0. 0. 0. 0. 0. 0. 0. 0.\n",
      " 0. 0. 0. 0. 0. 0. 0. 0. 0. 0. 0. 0. 0. 0. 0. 0. 0. 0. 0. 0. 0. 0. 0. 0.\n",
      " 0. 0. 0. 0. 0. 0. 0. 0. 0. 0. 0. 0. 0. 0. 0. 0. 0. 0. 0. 0. 0. 0. 0. 0.\n",
      " 0. 0. 0. 0. 0. 1. 0. 0. 0. 0. 0. 0. 0. 0. 0. 0. 0. 0. 0. 0. 0. 0. 0. 0.\n",
      " 0. 0. 0. 0. 0. 0. 0. 0. 0. 0. 0. 0. 0. 0. 0. 0. 0. 0. 0. 0. 0. 0. 0. 0.\n",
      " 0. 0. 0. 0. 0. 0. 0. 0. 0. 0. 0. 0. 0. 0. 0. 0. 0. 0. 0. 0. 0. 0. 0. 0.\n",
      " 0. 0. 0. 0. 0. 0. 0. 0. 0. 0. 0. 0. 0. 0. 0. 0. 0. 0. 0. 0. 0. 0. 0. 0.\n",
      " 0. 0. 0. 0. 0. 0. 0. 0. 0. 0. 0. 0. 0. 0. 0. 0. 0. 0. 0. 0. 0. 0. 0. 0.\n",
      " 0. 0. 0. 0. 0. 0. 0. 0. 0. 0. 0. 0. 0. 0. 0. 0. 0. 0. 0. 0. 0. 0. 0. 0.\n",
      " 0. 0. 0. 0. 0. 0. 0. 0. 0. 0. 0. 0. 0. 0. 0. 0. 0. 0. 0. 0. 0. 0. 0. 0.\n",
      " 0. 0. 0. 0. 0. 0. 0. 0. 0. 0. 0. 0. 0. 0. 0. 0. 0. 0. 0. 0. 0. 0. 0. 0.\n",
      " 0. 0. 0. 0. 0. 0. 0. 0. 0. 0. 0. 0. 0. 0. 0. 0. 0. 0. 0. 0. 0. 0. 0. 0.\n",
      " 0. 0. 0. 0. 0. 0. 0. 0. 0. 0. 0. 0. 0. 0. 0. 0. 0. 0. 0. 0. 0. 0. 0. 0.\n",
      " 0. 0. 0. 0. 0. 0. 0. 0. 0. 0. 0. 0. 0. 0. 0. 0. 0. 0. 0. 0. 0. 0. 0. 0.\n",
      " 0. 0. 0. 0. 0. 0. 0. 0. 0. 0. 0. 0. 0. 0. 0. 0. 0. 0. 0. 0. 0. 0. 0. 0.\n",
      " 0. 0. 0. 0. 0. 0. 0. 0. 0. 0. 0. 0. 0. 0. 0.]\n"
     ]
    }
   ],
   "source": [
    "# Check out how some of our data is being stored\n",
    "# The Tokenizer has just a single index per word\n",
    "print(tokenizer.word_index['know'])\n",
    "print(tokenizer.word_index['feeling'])\n",
    "# Input sequences will have multiple indexes\n",
    "print(input_sequences[5])\n",
    "print(input_sequences[6])\n",
    "# And the one hot labels will be as long as the full spread of tokenized words\n",
    "print(one_hot_labels[5])\n",
    "print(one_hot_labels[6])"
   ]
  },
  {
   "cell_type": "markdown",
   "metadata": {
    "colab_type": "text",
    "id": "xtNshIaNSydO"
   },
   "source": [
    "### Train a Text Generation Model\n",
    "\n",
    "Building an RNN to train our text generation model will be very similar to the sentiment models you've built previously. The only real change necessary is to make sure to use Categorical instead of Binary Cross Entropy as the loss function - we could use Binary before since the sentiment was only 0 or 1, but now there are hundreds of categories.\n",
    "\n",
    "From there, we should also consider using *more* epochs than before, as text generation can take a little longer to converge than sentiment analysis, *and* we aren't working with all that much data yet. I'll set it at 200 epochs here since we're only use part of the dataset, and training will tail off quite a bit over that many epochs."
   ]
  },
  {
   "cell_type": "code",
   "execution_count": 7,
   "metadata": {
    "colab": {
     "base_uri": "https://localhost:8080/",
     "height": 1000
    },
    "colab_type": "code",
    "id": "JMTGu1qbSfe9",
    "outputId": "4a7a23ad-fe38-4f17-ab07-9c77ed0cb63e"
   },
   "outputs": [
    {
     "name": "stdout",
     "output_type": "stream",
     "text": [
      "Epoch 1/200\n",
      "62/62 [==============================] - 1s 12ms/step - loss: 5.9724 - accuracy: 0.0242\n",
      "Epoch 2/200\n",
      "62/62 [==============================] - 1s 12ms/step - loss: 5.4292 - accuracy: 0.0394\n",
      "Epoch 3/200\n",
      "62/62 [==============================] - 1s 12ms/step - loss: 5.3681 - accuracy: 0.0399\n",
      "Epoch 4/200\n",
      "62/62 [==============================] - 1s 12ms/step - loss: 5.3081 - accuracy: 0.0404\n",
      "Epoch 5/200\n",
      "62/62 [==============================] - 1s 12ms/step - loss: 5.2372 - accuracy: 0.0424\n",
      "Epoch 6/200\n",
      "62/62 [==============================] - 1s 12ms/step - loss: 5.1663 - accuracy: 0.0449\n",
      "Epoch 7/200\n",
      "62/62 [==============================] - 1s 12ms/step - loss: 5.1005 - accuracy: 0.0484\n",
      "Epoch 8/200\n",
      "62/62 [==============================] - 1s 12ms/step - loss: 5.0319 - accuracy: 0.0520\n",
      "Epoch 9/200\n",
      "62/62 [==============================] - 1s 12ms/step - loss: 4.9532 - accuracy: 0.0681\n",
      "Epoch 10/200\n",
      "62/62 [==============================] - 1s 12ms/step - loss: 4.8623 - accuracy: 0.0858\n",
      "Epoch 11/200\n",
      "62/62 [==============================] - 1s 12ms/step - loss: 4.7598 - accuracy: 0.0943\n",
      "Epoch 12/200\n",
      "62/62 [==============================] - 1s 12ms/step - loss: 4.6497 - accuracy: 0.1070\n",
      "Epoch 13/200\n",
      "62/62 [==============================] - 1s 12ms/step - loss: 4.5489 - accuracy: 0.1201\n",
      "Epoch 14/200\n",
      "62/62 [==============================] - 1s 12ms/step - loss: 4.4575 - accuracy: 0.1256\n",
      "Epoch 15/200\n",
      "62/62 [==============================] - 1s 12ms/step - loss: 4.3593 - accuracy: 0.1327\n",
      "Epoch 16/200\n",
      "62/62 [==============================] - 1s 12ms/step - loss: 4.2700 - accuracy: 0.1524\n",
      "Epoch 17/200\n",
      "62/62 [==============================] - 1s 12ms/step - loss: 4.1736 - accuracy: 0.1549\n",
      "Epoch 18/200\n",
      "62/62 [==============================] - 1s 12ms/step - loss: 4.0863 - accuracy: 0.1690\n",
      "Epoch 19/200\n",
      "62/62 [==============================] - 1s 12ms/step - loss: 4.0035 - accuracy: 0.1826\n",
      "Epoch 20/200\n",
      "62/62 [==============================] - 1s 12ms/step - loss: 3.9241 - accuracy: 0.1922\n",
      "Epoch 21/200\n",
      "62/62 [==============================] - 1s 12ms/step - loss: 3.8481 - accuracy: 0.2074\n",
      "Epoch 22/200\n",
      "62/62 [==============================] - 1s 12ms/step - loss: 3.7718 - accuracy: 0.2154\n",
      "Epoch 23/200\n",
      "62/62 [==============================] - 1s 12ms/step - loss: 3.6924 - accuracy: 0.2371\n",
      "Epoch 24/200\n",
      "62/62 [==============================] - 1s 12ms/step - loss: 3.6175 - accuracy: 0.2523\n",
      "Epoch 25/200\n",
      "62/62 [==============================] - 1s 12ms/step - loss: 3.5545 - accuracy: 0.2659\n",
      "Epoch 26/200\n",
      "62/62 [==============================] - 1s 12ms/step - loss: 3.4843 - accuracy: 0.2785\n",
      "Epoch 27/200\n",
      "62/62 [==============================] - 1s 12ms/step - loss: 3.4280 - accuracy: 0.2856\n",
      "Epoch 28/200\n",
      "62/62 [==============================] - 1s 12ms/step - loss: 3.3448 - accuracy: 0.3158\n",
      "Epoch 29/200\n",
      "62/62 [==============================] - 1s 12ms/step - loss: 3.2783 - accuracy: 0.3204\n",
      "Epoch 30/200\n",
      "62/62 [==============================] - 1s 12ms/step - loss: 3.2234 - accuracy: 0.3305\n",
      "Epoch 31/200\n",
      "62/62 [==============================] - 1s 12ms/step - loss: 3.1559 - accuracy: 0.3380\n",
      "Epoch 32/200\n",
      "62/62 [==============================] - 1s 12ms/step - loss: 3.1083 - accuracy: 0.3532\n",
      "Epoch 33/200\n",
      "62/62 [==============================] - 1s 12ms/step - loss: 3.0483 - accuracy: 0.3602\n",
      "Epoch 34/200\n",
      "62/62 [==============================] - 1s 12ms/step - loss: 2.9765 - accuracy: 0.3870\n",
      "Epoch 35/200\n",
      "62/62 [==============================] - 1s 12ms/step - loss: 2.9178 - accuracy: 0.3915\n",
      "Epoch 36/200\n",
      "62/62 [==============================] - 1s 12ms/step - loss: 2.8648 - accuracy: 0.4011\n",
      "Epoch 37/200\n",
      "62/62 [==============================] - 1s 12ms/step - loss: 2.8182 - accuracy: 0.4117\n",
      "Epoch 38/200\n",
      "62/62 [==============================] - 1s 12ms/step - loss: 2.7906 - accuracy: 0.4198\n",
      "Epoch 39/200\n",
      "62/62 [==============================] - 1s 12ms/step - loss: 2.7176 - accuracy: 0.4374\n",
      "Epoch 40/200\n",
      "62/62 [==============================] - 1s 12ms/step - loss: 2.6564 - accuracy: 0.4480\n",
      "Epoch 41/200\n",
      "62/62 [==============================] - 1s 12ms/step - loss: 2.6083 - accuracy: 0.4536\n",
      "Epoch 42/200\n",
      "62/62 [==============================] - 1s 12ms/step - loss: 2.5767 - accuracy: 0.4652\n",
      "Epoch 43/200\n",
      "62/62 [==============================] - 1s 12ms/step - loss: 2.5161 - accuracy: 0.4743\n",
      "Epoch 44/200\n",
      "62/62 [==============================] - 1s 12ms/step - loss: 2.4689 - accuracy: 0.4854\n",
      "Epoch 45/200\n",
      "62/62 [==============================] - 1s 12ms/step - loss: 2.4165 - accuracy: 0.4919\n",
      "Epoch 46/200\n",
      "62/62 [==============================] - 1s 12ms/step - loss: 2.3789 - accuracy: 0.4980\n",
      "Epoch 47/200\n",
      "62/62 [==============================] - 1s 12ms/step - loss: 2.3292 - accuracy: 0.5050\n",
      "Epoch 48/200\n",
      "62/62 [==============================] - 1s 12ms/step - loss: 2.3068 - accuracy: 0.5111\n",
      "Epoch 49/200\n",
      "62/62 [==============================] - 1s 12ms/step - loss: 2.2623 - accuracy: 0.5227\n",
      "Epoch 50/200\n",
      "62/62 [==============================] - 1s 12ms/step - loss: 2.2117 - accuracy: 0.5328\n",
      "Epoch 51/200\n",
      "62/62 [==============================] - 1s 12ms/step - loss: 2.1699 - accuracy: 0.5348\n",
      "Epoch 52/200\n",
      "62/62 [==============================] - 1s 12ms/step - loss: 2.1316 - accuracy: 0.5515\n",
      "Epoch 53/200\n",
      "62/62 [==============================] - 1s 12ms/step - loss: 2.0936 - accuracy: 0.5590\n",
      "Epoch 54/200\n",
      "62/62 [==============================] - 1s 12ms/step - loss: 2.0573 - accuracy: 0.5651\n",
      "Epoch 55/200\n",
      "62/62 [==============================] - 1s 12ms/step - loss: 2.0290 - accuracy: 0.5827\n",
      "Epoch 56/200\n",
      "62/62 [==============================] - 1s 12ms/step - loss: 2.0133 - accuracy: 0.5767\n",
      "Epoch 57/200\n",
      "62/62 [==============================] - 1s 12ms/step - loss: 1.9877 - accuracy: 0.5918\n",
      "Epoch 58/200\n",
      "62/62 [==============================] - 1s 12ms/step - loss: 1.9610 - accuracy: 0.5898\n",
      "Epoch 59/200\n",
      "62/62 [==============================] - 1s 12ms/step - loss: 1.9115 - accuracy: 0.5984\n",
      "Epoch 60/200\n",
      "62/62 [==============================] - 1s 12ms/step - loss: 1.8776 - accuracy: 0.6039\n",
      "Epoch 61/200\n",
      "62/62 [==============================] - 1s 12ms/step - loss: 1.8356 - accuracy: 0.6160\n",
      "Epoch 62/200\n",
      "62/62 [==============================] - 1s 12ms/step - loss: 1.8023 - accuracy: 0.6206\n",
      "Epoch 63/200\n",
      "62/62 [==============================] - 1s 12ms/step - loss: 1.7700 - accuracy: 0.6282\n",
      "Epoch 64/200\n",
      "62/62 [==============================] - 1s 12ms/step - loss: 1.7376 - accuracy: 0.6367\n",
      "Epoch 65/200\n",
      "62/62 [==============================] - 1s 12ms/step - loss: 1.7119 - accuracy: 0.6418\n",
      "Epoch 66/200\n",
      "62/62 [==============================] - 1s 12ms/step - loss: 1.6993 - accuracy: 0.6478\n",
      "Epoch 67/200\n",
      "62/62 [==============================] - 1s 12ms/step - loss: 1.6875 - accuracy: 0.6453\n",
      "Epoch 68/200\n",
      "62/62 [==============================] - 1s 12ms/step - loss: 1.6407 - accuracy: 0.6514\n",
      "Epoch 69/200\n",
      "62/62 [==============================] - 1s 12ms/step - loss: 1.6228 - accuracy: 0.6635\n",
      "Epoch 70/200\n",
      "62/62 [==============================] - 1s 12ms/step - loss: 1.5839 - accuracy: 0.6710\n",
      "Epoch 71/200\n",
      "62/62 [==============================] - 1s 12ms/step - loss: 1.5651 - accuracy: 0.6705\n",
      "Epoch 72/200\n",
      "62/62 [==============================] - 1s 12ms/step - loss: 1.5358 - accuracy: 0.6776\n",
      "Epoch 73/200\n",
      "62/62 [==============================] - 1s 12ms/step - loss: 1.4952 - accuracy: 0.6867\n",
      "Epoch 74/200\n",
      "62/62 [==============================] - 1s 12ms/step - loss: 1.4604 - accuracy: 0.6958\n",
      "Epoch 75/200\n",
      "62/62 [==============================] - 1s 12ms/step - loss: 1.4427 - accuracy: 0.6988\n",
      "Epoch 76/200\n",
      "62/62 [==============================] - 1s 12ms/step - loss: 1.4148 - accuracy: 0.7149\n",
      "Epoch 77/200\n",
      "62/62 [==============================] - 1s 12ms/step - loss: 1.3930 - accuracy: 0.7170\n",
      "Epoch 78/200\n",
      "62/62 [==============================] - 1s 12ms/step - loss: 1.3732 - accuracy: 0.7190\n",
      "Epoch 79/200\n",
      "62/62 [==============================] - 1s 12ms/step - loss: 1.3470 - accuracy: 0.7245\n",
      "Epoch 80/200\n",
      "62/62 [==============================] - 1s 12ms/step - loss: 1.3257 - accuracy: 0.7316\n",
      "Epoch 81/200\n",
      "62/62 [==============================] - 1s 12ms/step - loss: 1.3140 - accuracy: 0.7331\n",
      "Epoch 82/200\n",
      "62/62 [==============================] - 1s 12ms/step - loss: 1.3094 - accuracy: 0.7311\n",
      "Epoch 83/200\n",
      "62/62 [==============================] - 1s 12ms/step - loss: 1.2939 - accuracy: 0.7306\n",
      "Epoch 84/200\n",
      "62/62 [==============================] - 1s 12ms/step - loss: 1.2621 - accuracy: 0.7422\n",
      "Epoch 85/200\n",
      "62/62 [==============================] - 1s 12ms/step - loss: 1.2546 - accuracy: 0.7472\n",
      "Epoch 86/200\n",
      "62/62 [==============================] - 1s 12ms/step - loss: 1.2130 - accuracy: 0.7533\n",
      "Epoch 87/200\n",
      "62/62 [==============================] - 1s 12ms/step - loss: 1.1923 - accuracy: 0.7608\n",
      "Epoch 88/200\n",
      "62/62 [==============================] - 1s 12ms/step - loss: 1.1650 - accuracy: 0.7659\n",
      "Epoch 89/200\n",
      "62/62 [==============================] - 1s 12ms/step - loss: 1.1537 - accuracy: 0.7694\n",
      "Epoch 90/200\n",
      "62/62 [==============================] - 1s 12ms/step - loss: 1.1534 - accuracy: 0.7619\n",
      "Epoch 91/200\n",
      "62/62 [==============================] - 1s 12ms/step - loss: 1.1250 - accuracy: 0.7770\n",
      "Epoch 92/200\n",
      "62/62 [==============================] - 1s 12ms/step - loss: 1.1160 - accuracy: 0.7770\n",
      "Epoch 93/200\n",
      "62/62 [==============================] - 1s 12ms/step - loss: 1.0920 - accuracy: 0.7790\n",
      "Epoch 94/200\n",
      "62/62 [==============================] - 1s 12ms/step - loss: 1.0797 - accuracy: 0.7825\n",
      "Epoch 95/200\n",
      "62/62 [==============================] - 1s 12ms/step - loss: 1.0744 - accuracy: 0.7810\n",
      "Epoch 96/200\n",
      "62/62 [==============================] - 1s 12ms/step - loss: 1.0604 - accuracy: 0.7820\n",
      "Epoch 97/200\n",
      "62/62 [==============================] - 1s 12ms/step - loss: 1.1200 - accuracy: 0.7634\n",
      "Epoch 98/200\n",
      "62/62 [==============================] - 1s 12ms/step - loss: 1.1580 - accuracy: 0.7548\n",
      "Epoch 99/200\n",
      "62/62 [==============================] - 1s 12ms/step - loss: 1.1155 - accuracy: 0.7654\n",
      "Epoch 100/200\n",
      "62/62 [==============================] - 1s 12ms/step - loss: 1.0531 - accuracy: 0.7881\n",
      "Epoch 101/200\n",
      "62/62 [==============================] - 1s 12ms/step - loss: 1.0029 - accuracy: 0.7962\n",
      "Epoch 102/200\n",
      "62/62 [==============================] - 1s 12ms/step - loss: 0.9886 - accuracy: 0.7997\n",
      "Epoch 103/200\n",
      "62/62 [==============================] - 1s 12ms/step - loss: 0.9667 - accuracy: 0.8037\n",
      "Epoch 104/200\n",
      "62/62 [==============================] - 1s 12ms/step - loss: 0.9546 - accuracy: 0.8113\n",
      "Epoch 105/200\n",
      "62/62 [==============================] - 1s 12ms/step - loss: 0.9346 - accuracy: 0.8174\n",
      "Epoch 106/200\n",
      "62/62 [==============================] - 1s 12ms/step - loss: 0.9238 - accuracy: 0.8148\n",
      "Epoch 107/200\n",
      "62/62 [==============================] - 1s 12ms/step - loss: 0.9068 - accuracy: 0.8179\n",
      "Epoch 108/200\n",
      "62/62 [==============================] - 1s 12ms/step - loss: 0.8920 - accuracy: 0.8194\n",
      "Epoch 109/200\n",
      "62/62 [==============================] - 1s 12ms/step - loss: 0.8814 - accuracy: 0.8280\n",
      "Epoch 110/200\n",
      "62/62 [==============================] - 1s 12ms/step - loss: 0.8691 - accuracy: 0.8214\n",
      "Epoch 111/200\n",
      "62/62 [==============================] - 1s 12ms/step - loss: 0.8644 - accuracy: 0.8290\n",
      "Epoch 112/200\n",
      "62/62 [==============================] - 1s 12ms/step - loss: 0.8514 - accuracy: 0.8234\n",
      "Epoch 113/200\n",
      "62/62 [==============================] - 1s 12ms/step - loss: 0.8606 - accuracy: 0.8224\n",
      "Epoch 114/200\n",
      "62/62 [==============================] - 1s 12ms/step - loss: 0.9316 - accuracy: 0.7982\n",
      "Epoch 115/200\n",
      "62/62 [==============================] - 1s 12ms/step - loss: 0.8746 - accuracy: 0.8174\n",
      "Epoch 116/200\n",
      "62/62 [==============================] - 1s 12ms/step - loss: 0.8515 - accuracy: 0.8184\n",
      "Epoch 117/200\n",
      "62/62 [==============================] - 1s 12ms/step - loss: 0.8235 - accuracy: 0.8219\n",
      "Epoch 118/200\n",
      "62/62 [==============================] - 1s 12ms/step - loss: 0.8081 - accuracy: 0.8310\n",
      "Epoch 119/200\n",
      "62/62 [==============================] - 1s 12ms/step - loss: 0.8113 - accuracy: 0.8345\n",
      "Epoch 120/200\n",
      "62/62 [==============================] - 1s 12ms/step - loss: 0.7916 - accuracy: 0.8375\n",
      "Epoch 121/200\n",
      "62/62 [==============================] - 1s 12ms/step - loss: 0.7771 - accuracy: 0.8446\n",
      "Epoch 122/200\n",
      "62/62 [==============================] - 1s 12ms/step - loss: 0.7633 - accuracy: 0.8406\n",
      "Epoch 123/200\n",
      "62/62 [==============================] - 1s 12ms/step - loss: 0.7582 - accuracy: 0.8370\n",
      "Epoch 124/200\n",
      "62/62 [==============================] - 1s 12ms/step - loss: 0.7574 - accuracy: 0.8416\n",
      "Epoch 125/200\n",
      "62/62 [==============================] - 1s 12ms/step - loss: 0.7398 - accuracy: 0.8486\n",
      "Epoch 126/200\n",
      "62/62 [==============================] - 1s 12ms/step - loss: 0.7237 - accuracy: 0.8507\n",
      "Epoch 127/200\n",
      "62/62 [==============================] - 1s 12ms/step - loss: 0.7091 - accuracy: 0.8502\n",
      "Epoch 128/200\n",
      "62/62 [==============================] - 1s 12ms/step - loss: 0.7094 - accuracy: 0.8522\n",
      "Epoch 129/200\n",
      "62/62 [==============================] - 1s 12ms/step - loss: 0.6952 - accuracy: 0.8562\n",
      "Epoch 130/200\n",
      "62/62 [==============================] - 1s 12ms/step - loss: 0.6905 - accuracy: 0.8592\n",
      "Epoch 131/200\n",
      "62/62 [==============================] - 1s 12ms/step - loss: 0.6781 - accuracy: 0.8557\n",
      "Epoch 132/200\n",
      "62/62 [==============================] - 1s 12ms/step - loss: 0.6728 - accuracy: 0.8557\n",
      "Epoch 133/200\n",
      "62/62 [==============================] - 1s 12ms/step - loss: 0.6657 - accuracy: 0.8587\n",
      "Epoch 134/200\n",
      "62/62 [==============================] - 1s 12ms/step - loss: 0.6545 - accuracy: 0.8602\n",
      "Epoch 135/200\n",
      "62/62 [==============================] - 1s 12ms/step - loss: 0.6460 - accuracy: 0.8673\n",
      "Epoch 136/200\n",
      "62/62 [==============================] - 1s 12ms/step - loss: 0.6413 - accuracy: 0.8613\n",
      "Epoch 137/200\n",
      "62/62 [==============================] - 1s 12ms/step - loss: 0.6381 - accuracy: 0.8663\n",
      "Epoch 138/200\n",
      "62/62 [==============================] - 1s 12ms/step - loss: 0.6286 - accuracy: 0.8628\n",
      "Epoch 139/200\n",
      "62/62 [==============================] - 1s 12ms/step - loss: 0.6525 - accuracy: 0.8562\n",
      "Epoch 140/200\n",
      "62/62 [==============================] - 1s 12ms/step - loss: 0.6521 - accuracy: 0.8562\n",
      "Epoch 141/200\n",
      "62/62 [==============================] - 1s 12ms/step - loss: 0.6365 - accuracy: 0.8592\n",
      "Epoch 142/200\n",
      "62/62 [==============================] - 1s 12ms/step - loss: 0.6118 - accuracy: 0.8658\n",
      "Epoch 143/200\n",
      "62/62 [==============================] - 1s 12ms/step - loss: 0.6262 - accuracy: 0.8602\n",
      "Epoch 144/200\n",
      "62/62 [==============================] - 1s 12ms/step - loss: 0.6330 - accuracy: 0.8577\n",
      "Epoch 145/200\n",
      "62/62 [==============================] - 1s 12ms/step - loss: 0.6116 - accuracy: 0.8653\n",
      "Epoch 146/200\n",
      "62/62 [==============================] - 1s 12ms/step - loss: 0.5963 - accuracy: 0.8668\n",
      "Epoch 147/200\n",
      "62/62 [==============================] - 1s 12ms/step - loss: 0.5905 - accuracy: 0.8713\n",
      "Epoch 148/200\n",
      "62/62 [==============================] - 1s 12ms/step - loss: 0.5796 - accuracy: 0.8729\n",
      "Epoch 149/200\n",
      "62/62 [==============================] - 1s 12ms/step - loss: 0.5802 - accuracy: 0.8713\n",
      "Epoch 150/200\n",
      "62/62 [==============================] - 1s 12ms/step - loss: 0.5791 - accuracy: 0.8729\n",
      "Epoch 151/200\n",
      "62/62 [==============================] - 1s 12ms/step - loss: 0.5686 - accuracy: 0.8744\n",
      "Epoch 152/200\n",
      "62/62 [==============================] - 1s 12ms/step - loss: 0.5535 - accuracy: 0.8794\n",
      "Epoch 153/200\n",
      "62/62 [==============================] - 1s 12ms/step - loss: 0.5459 - accuracy: 0.8779\n",
      "Epoch 154/200\n",
      "62/62 [==============================] - 1s 12ms/step - loss: 0.5383 - accuracy: 0.8769\n",
      "Epoch 155/200\n",
      "62/62 [==============================] - 1s 12ms/step - loss: 0.5316 - accuracy: 0.8804\n",
      "Epoch 156/200\n",
      "62/62 [==============================] - 1s 12ms/step - loss: 0.5265 - accuracy: 0.8829\n",
      "Epoch 157/200\n",
      "62/62 [==============================] - 1s 12ms/step - loss: 0.5200 - accuracy: 0.8779\n",
      "Epoch 158/200\n",
      "62/62 [==============================] - 1s 12ms/step - loss: 0.5170 - accuracy: 0.8809\n",
      "Epoch 159/200\n",
      "62/62 [==============================] - 1s 12ms/step - loss: 0.5527 - accuracy: 0.8698\n",
      "Epoch 160/200\n",
      "62/62 [==============================] - 1s 12ms/step - loss: 0.5365 - accuracy: 0.8749\n",
      "Epoch 161/200\n",
      "62/62 [==============================] - 1s 12ms/step - loss: 0.5134 - accuracy: 0.8850\n",
      "Epoch 162/200\n",
      "62/62 [==============================] - 1s 12ms/step - loss: 0.5071 - accuracy: 0.8789\n",
      "Epoch 163/200\n",
      "62/62 [==============================] - 1s 12ms/step - loss: 0.5030 - accuracy: 0.8774\n",
      "Epoch 164/200\n",
      "62/62 [==============================] - 1s 12ms/step - loss: 0.5444 - accuracy: 0.8749\n",
      "Epoch 165/200\n",
      "62/62 [==============================] - 1s 12ms/step - loss: 0.5229 - accuracy: 0.8804\n",
      "Epoch 166/200\n",
      "62/62 [==============================] - 1s 12ms/step - loss: 0.5140 - accuracy: 0.8784\n",
      "Epoch 167/200\n",
      "62/62 [==============================] - 1s 12ms/step - loss: 0.5084 - accuracy: 0.8759\n",
      "Epoch 168/200\n",
      "62/62 [==============================] - 1s 12ms/step - loss: 0.4933 - accuracy: 0.8789\n",
      "Epoch 169/200\n",
      "62/62 [==============================] - 1s 12ms/step - loss: 0.4867 - accuracy: 0.8829\n",
      "Epoch 170/200\n",
      "62/62 [==============================] - 1s 12ms/step - loss: 0.4805 - accuracy: 0.8845\n",
      "Epoch 171/200\n",
      "62/62 [==============================] - 1s 12ms/step - loss: 0.4684 - accuracy: 0.8860\n",
      "Epoch 172/200\n",
      "62/62 [==============================] - 1s 12ms/step - loss: 0.4813 - accuracy: 0.8880\n",
      "Epoch 173/200\n",
      "62/62 [==============================] - 1s 12ms/step - loss: 0.4685 - accuracy: 0.8840\n",
      "Epoch 174/200\n",
      "62/62 [==============================] - 1s 12ms/step - loss: 0.4555 - accuracy: 0.8895\n",
      "Epoch 175/200\n",
      "62/62 [==============================] - 1s 12ms/step - loss: 0.4523 - accuracy: 0.8865\n",
      "Epoch 176/200\n",
      "62/62 [==============================] - 1s 12ms/step - loss: 0.4599 - accuracy: 0.8865\n",
      "Epoch 177/200\n",
      "62/62 [==============================] - 1s 12ms/step - loss: 0.4589 - accuracy: 0.8865\n",
      "Epoch 178/200\n",
      "62/62 [==============================] - 1s 12ms/step - loss: 0.4471 - accuracy: 0.8875\n",
      "Epoch 179/200\n",
      "62/62 [==============================] - 1s 12ms/step - loss: 0.4813 - accuracy: 0.8794\n",
      "Epoch 180/200\n",
      "62/62 [==============================] - 1s 12ms/step - loss: 0.4968 - accuracy: 0.8764\n",
      "Epoch 181/200\n",
      "62/62 [==============================] - 1s 12ms/step - loss: 0.4731 - accuracy: 0.8774\n",
      "Epoch 182/200\n",
      "62/62 [==============================] - 1s 12ms/step - loss: 0.4611 - accuracy: 0.8819\n",
      "Epoch 183/200\n",
      "62/62 [==============================] - 1s 12ms/step - loss: 0.4384 - accuracy: 0.8865\n",
      "Epoch 184/200\n",
      "62/62 [==============================] - 1s 12ms/step - loss: 0.4295 - accuracy: 0.8930\n",
      "Epoch 185/200\n",
      "62/62 [==============================] - 1s 12ms/step - loss: 0.4191 - accuracy: 0.8935\n",
      "Epoch 186/200\n",
      "62/62 [==============================] - 1s 12ms/step - loss: 0.4165 - accuracy: 0.8905\n",
      "Epoch 187/200\n",
      "62/62 [==============================] - 1s 12ms/step - loss: 0.4147 - accuracy: 0.8930\n",
      "Epoch 188/200\n",
      "62/62 [==============================] - 1s 12ms/step - loss: 0.4408 - accuracy: 0.8850\n",
      "Epoch 189/200\n",
      "62/62 [==============================] - 1s 12ms/step - loss: 0.4187 - accuracy: 0.8905\n",
      "Epoch 190/200\n",
      "62/62 [==============================] - 1s 12ms/step - loss: 0.4117 - accuracy: 0.8920\n",
      "Epoch 191/200\n",
      "62/62 [==============================] - 1s 12ms/step - loss: 0.4080 - accuracy: 0.8961\n",
      "Epoch 192/200\n",
      "62/62 [==============================] - 1s 12ms/step - loss: 0.4059 - accuracy: 0.8935\n",
      "Epoch 193/200\n",
      "62/62 [==============================] - 1s 12ms/step - loss: 0.3991 - accuracy: 0.8961\n",
      "Epoch 194/200\n",
      "62/62 [==============================] - 1s 12ms/step - loss: 0.3939 - accuracy: 0.8971\n",
      "Epoch 195/200\n",
      "62/62 [==============================] - 1s 12ms/step - loss: 0.3893 - accuracy: 0.8951\n",
      "Epoch 196/200\n",
      "62/62 [==============================] - 1s 12ms/step - loss: 0.3852 - accuracy: 0.9011\n",
      "Epoch 197/200\n",
      "62/62 [==============================] - 1s 12ms/step - loss: 0.3817 - accuracy: 0.9011\n",
      "Epoch 198/200\n",
      "62/62 [==============================] - 1s 12ms/step - loss: 0.3774 - accuracy: 0.8991\n",
      "Epoch 199/200\n",
      "62/62 [==============================] - 1s 12ms/step - loss: 0.3776 - accuracy: 0.9041\n",
      "Epoch 200/200\n",
      "62/62 [==============================] - 1s 12ms/step - loss: 0.3785 - accuracy: 0.8966\n"
     ]
    }
   ],
   "source": [
    "from tensorflow.keras.models import Sequential\n",
    "from tensorflow.keras.layers import Embedding, LSTM, Dense, Bidirectional\n",
    "\n",
    "model = Sequential()\n",
    "model.add(Embedding(total_words, 64, input_length=max_sequence_len-1))\n",
    "model.add(Bidirectional(LSTM(20)))\n",
    "model.add(Dense(total_words, activation='softmax'))\n",
    "model.compile(loss='categorical_crossentropy', optimizer='adam', metrics=['accuracy'])\n",
    "history = model.fit(input_sequences, one_hot_labels, epochs=200, verbose=1)"
   ]
  },
  {
   "cell_type": "markdown",
   "metadata": {
    "colab_type": "text",
    "id": "uLObc_UuS1p4"
   },
   "source": [
    "### View the Training Graph"
   ]
  },
  {
   "cell_type": "code",
   "execution_count": 8,
   "metadata": {
    "colab": {
     "base_uri": "https://localhost:8080/",
     "height": 279
    },
    "colab_type": "code",
    "id": "7tyRUQLqSfcE",
    "outputId": "ae4c8b3f-6847-4547-885f-764c1ab1b6ec"
   },
   "outputs": [
    {
     "data": {
      "image/png": "[encoded data removed]",
      "text/plain": [
       "<Figure size 432x288 with 1 Axes>"
      ]
     },
     "metadata": {
      "needs_background": "light",
      "tags": []
     },
     "output_type": "display_data"
    }
   ],
   "source": [
    "import matplotlib.pyplot as plt\n",
    "\n",
    "def plot_graphs(history, string):\n",
    "  plt.plot(history.history[string])\n",
    "  plt.xlabel(\"Epochs\")\n",
    "  plt.ylabel(string)\n",
    "  plt.show()\n",
    "\n",
    "plot_graphs(history, 'accuracy')"
   ]
  },
  {
   "cell_type": "markdown",
   "metadata": {
    "colab_type": "text",
    "id": "6x-ncfl_S4Qa"
   },
   "source": [
    "### Generate new lyrics!\n",
    "\n",
    "It's finally time to generate some new lyrics from the trained model, and see what we get. To do so, we'll provide some \"seed text\", or an input sequence for the model to start with. We'll also decide just how long of an output sequence we want - this could essentially be infinite, as the input plus the previous output will be continuously fed in for a new output word (at least up to our max sequence length)."
   ]
  },
  {
   "cell_type": "code",
   "execution_count": 9,
   "metadata": {
    "colab": {
     "base_uri": "https://localhost:8080/",
     "height": 54
    },
    "colab_type": "code",
    "id": "ucEsfYW8SfZT",
    "outputId": "398c9065-13d5-4abe-a6ae-53b3a46492f5"
   },
   "outputs": [
    {
     "name": "stdout",
     "output_type": "stream",
     "text": [
      "im feeling chills me to the bone tumbling been under down me mad and every showing sailing sailing life can would kind blue alive found think think dont dont lot never found am and friend girl me think think think do closed misunderstood never am again never chiquitita never andante never would had had had had stood slow lightly a christ kind realized dimension realized boomaboomerang love chills suffer and be cutting my lightly on ma ma ma ma ma ma ma ma ma ma ma ma ma ma ma ma ma ma ma ma ma ma ma ma ma ma ma ma\n"
     ]
    }
   ],
   "source": [
    "seed_text = \"im feeling chills\"\n",
    "next_words = 100\n",
    "  \n",
    "for _ in range(next_words):\n",
    "\ttoken_list = tokenizer.texts_to_sequences([seed_text])[0]\n",
    "\ttoken_list = pad_sequences([token_list], maxlen=max_sequence_len-1, padding='pre')\n",
    "\tpredicted = np.argmax(model.predict(token_list), axis=-1)\n",
    "\toutput_word = \"\"\n",
    "\tfor word, index in tokenizer.word_index.items():\n",
    "\t\tif index == predicted:\n",
    "\t\t\toutput_word = word\n",
    "\t\t\tbreak\n",
    "\tseed_text += \" \" + output_word\n",
    "print(seed_text)"
   ]
  }
 ],
 "metadata": {
  "accelerator": "GPU",
  "colab": {
   "name": "l10c03_nlp_constructing_text_generation_model.ipynb",
   "provenance": []
  },
  "kernelspec": {
   "display_name": "Python 3",
   "language": "python",
   "name": "python3"
  },
  "language_info": {
   "codemirror_mode": {
    "name": "ipython",
    "version": 3
   },
   "file_extension": ".py",
   "mimetype": "text/x-python",
   "name": "python",
   "nbconvert_exporter": "python",
   "pygments_lexer": "ipython3",
   "version": "3.7.2"
  }
 },
 "nbformat": 4,
 "nbformat_minor": 1
}
