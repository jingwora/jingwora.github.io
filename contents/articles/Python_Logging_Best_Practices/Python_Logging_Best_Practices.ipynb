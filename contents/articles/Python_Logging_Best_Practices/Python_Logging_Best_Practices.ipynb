{
 "cells": [
  {
   "cell_type": "markdown",
   "metadata": {
    "colab_type": "text",
    "id": "YaGU_cuyeaTS"
   },
   "source": [
    "# Python Default Logging Module\n"
   ]
  },
  {
   "cell_type": "markdown",
   "metadata": {
    "colab_type": "text",
    "id": "HvwFtZzoCErI"
   },
   "source": [
    "In Python project, good logs is very essentail not only for debugging but also to provide insight to avoid issue and improve performance. In this articles, I will discuss the best practises for logging with Python and provide some code sample in 3 logging methods."
   ]
  },
  {
   "cell_type": "markdown",
   "metadata": {
    "colab_type": "text",
    "id": "gj_KIHfui0FG"
   },
   "source": [
    "#### Good practices\n",
    "\n",
    "- Use the Python Standard Logging Module\n",
    "- Always keep date in your log file name\n",
    "- Always add some name to your log file name. \n",
    "- Always log time and date for every log event.\n",
    "- Always store your date as YYYYMMDD. Everywhere. In filename, inside of logfile. It greatly helps with sorting. Some separators are allowed (eg. 2009-11-29).\n",
    "- In general avoid storing logs in database. In is another point of failure in your logging schema.\n",
    "- If you have multiple environment or system always log environment or system id.\n"
   ]
  },
  {
   "cell_type": "markdown",
   "metadata": {
    "colab_type": "text",
    "id": "UoDuQpsqexKk"
   },
   "source": [
    "### Create log\n",
    "\n",
    "#### Logging Levels\n",
    "\n",
    "The log level corresponds to the “importance” a log is given: an “error” log should be more urgent then than the “warn” log, whereas a “debug” log should be useful only when debugging the application.\n",
    "\n",
    "There are six log levels in Python; each level is associated with an integer that indicates the log severity: \n",
    "- NOTSET=0\n",
    "- DEBUG=10 : for debugging purposes in development\n",
    "- INFO=20 :  for something interesting—but expected—happens\n",
    "- WARN=30 : for something unexpected or unusual happens\n",
    "- ERROR=40 : for things that go wrong but are usually recoverable\n",
    "- CRITICAL=50 : for a serious scenario"
   ]
  },
  {
   "cell_type": "code",
   "execution_count": 1,
   "metadata": {
    "colab": {
     "base_uri": "https://localhost:8080/",
     "height": 51
    },
    "colab_type": "code",
    "id": "pfglyYyTfQKe",
    "outputId": "17f976d4-1d56-4750-93ff-e80a4692b409"
   },
   "outputs": [
    {
     "name": "stderr",
     "output_type": "stream",
     "text": [
      "WARNING:root:warning!\n",
      "CRITICAL:root:critial!\n"
     ]
    }
   ],
   "source": [
    "import logging\n",
    "\n",
    "logging.debug('debug message.')\n",
    "logging.info('informational message.')\n",
    "logging.debug('message for debugging purposes.')\n",
    "logging.warning('warning!')\n",
    "logging.critical('critial!')"
   ]
  },
  {
   "cell_type": "markdown",
   "metadata": {
    "colab_type": "text",
    "id": "LxSL7jHnhdw-"
   },
   "source": [
    "\n",
    "The main components of the logging module are loggers, handlers, and formatters. \n",
    "- Handlers is the component that effectively writes/displays a log: Display it in the console (via StreamHandler), in a file (via FileHandler), or even by sending you an email via SMTPHandler, etc.\n",
    "- Loggers are the objects you call when you want to record a message in your application code. \n",
    "- Formatters are responsible for formatting the layout of log messages."
   ]
  },
  {
   "cell_type": "markdown",
   "metadata": {
    "colab_type": "text",
    "id": "wJ5hsLBhil5J"
   },
   "source": [
    "## Configuring Logging\n",
    "Programmers can configure logging in three ways:\n",
    "\n",
    "1. Creating loggers, handlers, and formatters explicitly using Python code that calls the configuration methods listed above.\n",
    "\n",
    "2. Creating a logging config file and reading it using the fileConfig() function.\n",
    "\n",
    "3. Creating a dictionary of configuration information and passing it to the dictConfig() function."
   ]
  },
  {
   "cell_type": "markdown",
   "metadata": {
    "colab_type": "text",
    "id": "4kec92A9isTS"
   },
   "source": [
    "## 1. Creating loggers, handlers, and formatters"
   ]
  },
  {
   "cell_type": "code",
   "execution_count": 2,
   "metadata": {
    "colab": {
     "base_uri": "https://localhost:8080/",
     "height": 34
    },
    "colab_type": "code",
    "id": "pLZULO03flEk",
    "outputId": "765a8687-ed67-4858-e569-f2f634793ec8"
   },
   "outputs": [
    {
     "name": "stderr",
     "output_type": "stream",
     "text": [
      "WARNING:root:warning!\n"
     ]
    }
   ],
   "source": [
    "import logging\n",
    "from datetime import datetime\n",
    "\n",
    "logging.basicConfig(filename=datetime.now().strftime('logs/logfile_%Y%m%d.log'),\n",
    "                    level=logging.DEBUG,\n",
    "                    format='%(asctime)s | %(name)s | %(levelname)s | %(message)s')\n",
    "\n",
    "logging.info('Started')\n",
    "logging.warning('warning!')\n",
    "logging.info('Finished')"
   ]
  },
  {
   "cell_type": "markdown",
   "metadata": {
    "colab_type": "text",
    "id": "j6kHdGGqKCxW"
   },
   "source": [
    "logfile_20200829.log\n",
    "\n",
    "2020-08-29 21:18:45,486 | root | INFO | Started\n",
    "\n",
    "2020-08-29 21:18:45,486 | root | WARNING | warning!\n",
    "\n",
    "2020-08-29 21:18:45,486 | root | INFO | Finished"
   ]
  },
  {
   "cell_type": "markdown",
   "metadata": {
    "colab_type": "text",
    "id": "Hn8srtqsfwM-"
   },
   "source": [
    "## 2. Creating a logging config file\n",
    "\n",
    "Creating a logging config file and reading it using the fileConfig() function."
   ]
  },
  {
   "cell_type": "markdown",
   "metadata": {
    "colab_type": "text",
    "id": "1OF0zYzwf2X9"
   },
   "source": [
    "\n",
    "#### logging.conf\n",
    "\n",
    "```\n",
    "[loggers]\n",
    "keys=root\n",
    "\n",
    "[handlers]\n",
    "keys=fileHandler, consoleHandler\n",
    "\n",
    "[formatters]\n",
    "keys=logFormatter, consoleFormatter\n",
    "\n",
    "[logger_root]\n",
    "handlers=fileHandler, consoleHandler\n",
    "level=NOTSET\n",
    "\n",
    "[handler_consoleHandler]\n",
    "class=StreamHandler\n",
    "level=INFO\n",
    "formatter=consoleFormatter\n",
    "args=(sys.stdout,)\n",
    "\n",
    "[handler_fileHandler]\n",
    "class=FileHandler\n",
    "level=DEBUG\n",
    "formatter=logFormatter\n",
    "args=(__import__(\"datetime\").datetime.now().strftime('logs/logfile_%%Y%%m%%d.log'), 'a')\n",
    "\n",
    "[formatter_logFormatter]\n",
    "format=%(asctime)s | %(name)s | %(levelname)-8s | %(lineno)04d | %(message)s\n",
    "\n",
    "[formatter_consoleFormatter]\n",
    "format=%(asctime)s | %(levelname)-8s | %(message)s\n",
    "\n",
    "```\n"
   ]
  },
  {
   "cell_type": "code",
   "execution_count": 3,
   "metadata": {
    "colab": {
     "base_uri": "https://localhost:8080/",
     "height": 85
    },
    "colab_type": "code",
    "id": "RGVWI18VfFky",
    "outputId": "d0486dc4-b41f-4748-8e7f-9d5c3ac2b7a0"
   },
   "outputs": [
    {
     "name": "stdout",
     "output_type": "stream",
     "text": [
      "2020-08-29 15:49:46,602 | INFO     | info message\n",
      "2020-08-29 15:49:46,603 | WARNING  | warn message\n",
      "2020-08-29 15:49:46,604 | ERROR    | error message\n",
      "2020-08-29 15:49:46,605 | CRITICAL | critical message\n"
     ]
    }
   ],
   "source": [
    "import logging\n",
    "from datetime import datetime\n",
    "import logging.config\n",
    "\n",
    "\n",
    "logging.config.fileConfig('logging.conf')\n",
    "\n",
    "# create logger\n",
    "logger = logging.getLogger('log-test')\n",
    "\n",
    "# 'application' code\n",
    "logger.debug('debug message')\n",
    "logger.info('info message')\n",
    "logger.warning('warn message')\n",
    "logger.error('error message')\n",
    "logger.critical('critical message')\n"
   ]
  },
  {
   "cell_type": "markdown",
   "metadata": {
    "colab_type": "text",
    "id": "fnHb8jQefgy2"
   },
   "source": [
    "logfile_20200829.log\n",
    "\n",
    "2020-08-29 22:52:13,443 | log-test | DEBUG    | 0013 | debug message\n",
    "\n",
    "2020-08-29 22:52:13,443 | log-test | INFO     | 0014 | info message\n",
    "\n",
    "2020-08-29 22:52:13,443 | log-test | WARNING  | 0015 | warn message\n",
    "\n",
    "2020-08-29 22:52:13,443 | log-test | ERROR    | 0016 | error message\n",
    "\n",
    "2020-08-29 22:52:13,443 | log-test | CRITICAL | 0017 | critical message\n"
   ]
  },
  {
   "cell_type": "markdown",
   "metadata": {
    "colab_type": "text",
    "id": "G5UbO0pEiWH9"
   },
   "source": [
    "## 3. Creating a dictionary of configuration information"
   ]
  },
  {
   "cell_type": "code",
   "execution_count": 4,
   "metadata": {
    "colab": {
     "base_uri": "https://localhost:8080/",
     "height": 85
    },
    "colab_type": "code",
    "id": "kTqsKST3j5yA",
    "outputId": "7833068a-2562-4e53-d326-4c4ceef888ed"
   },
   "outputs": [
    {
     "name": "stdout",
     "output_type": "stream",
     "text": [
      "2020-08-29 15:49:46,638 | INFO     | info message\n",
      "2020-08-29 15:49:46,639 | WARNING  | warn message\n",
      "2020-08-29 15:49:46,641 | ERROR    | error message\n",
      "2020-08-29 15:49:46,642 | CRITICAL | critical message\n"
     ]
    }
   ],
   "source": [
    "import logging\n",
    "import logging.config\n",
    "from datetime import datetime\n",
    "\n",
    "LOGGING_CONFIG = {\n",
    "    'version': 1,\n",
    "    'loggers': {\n",
    "        '': {  # root logger\n",
    "            'level': 'NOTSET',\n",
    "            'handlers': ['fileHandler', 'consoleHandler'],\n",
    "        },\n",
    "        'handler_fileHandler': {\n",
    "            'level': 'WARNING',\n",
    "            'propagate': False,\n",
    "            'handlers': ['fileHandler', 'consoleHandler' ],\n",
    "        },\n",
    "    },\n",
    "    'handlers': {\n",
    "        'consoleHandler': {\n",
    "            'level': 'INFO',\n",
    "            'formatter': 'formatter_consoleFormatter',\n",
    "            'class': 'logging.StreamHandler',\n",
    "            'stream': 'ext://sys.stdout',\n",
    "        },\n",
    "        'fileHandler': {\n",
    "            'level': 'NOTSET',\n",
    "            'formatter': 'formatter_logFormatter',\n",
    "            'class': 'logging.FileHandler',\n",
    "            'filename': datetime.now().strftime('logs/logfile_%Y%m%d.log'),\n",
    "            'mode': 'a'\n",
    "        }\n",
    "    },\n",
    "    'formatters': {\n",
    "        'formatter_logFormatter': {\n",
    "            'format': '%(asctime)s | %(name)s | %(levelname)-8s | %(lineno)04d | %(message)s'\n",
    "        },\n",
    "        'formatter_consoleFormatter': {\n",
    "            'format': '%(asctime)s | %(levelname)-8s | %(message)s'\n",
    "        },\n",
    "    },\n",
    "\n",
    "}\n",
    "\n",
    "# Run once at startup:\n",
    "logging.config.dictConfig(LOGGING_CONFIG)\n",
    "\n",
    "# Include in each module:\n",
    "logger = logging.getLogger('test-log')\n",
    "\n",
    "# 'application' code\n",
    "logger.debug('debug message')\n",
    "logger.info('info message')\n",
    "logger.warning('warn message')\n",
    "logger.error('error message')\n",
    "logger.critical('critical message')"
   ]
  },
  {
   "cell_type": "code",
   "execution_count": null,
   "metadata": {
    "colab": {},
    "colab_type": "code",
    "id": "w8Z2uKvW_rzQ"
   },
   "outputs": [],
   "source": []
  }
 ],
 "metadata": {
  "colab": {
   "name": "Python Logging Best Practices.ipynb",
   "provenance": []
  },
  "kernelspec": {
   "display_name": "Python 3",
   "language": "python",
   "name": "python3"
  },
  "language_info": {
   "codemirror_mode": {
    "name": "ipython",
    "version": 3
   },
   "file_extension": ".py",
   "mimetype": "text/x-python",
   "name": "python",
   "nbconvert_exporter": "python",
   "pygments_lexer": "ipython3",
   "version": "3.7.2"
  }
 },
 "nbformat": 4,
 "nbformat_minor": 1
}
